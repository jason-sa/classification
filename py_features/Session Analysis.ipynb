{
 "cells": [
  {
   "cell_type": "code",
   "execution_count": 1,
   "metadata": {
    "ExecuteTime": {
     "end_time": "2018-10-24T21:39:19.468102Z",
     "start_time": "2018-10-24T21:39:18.774978Z"
    }
   },
   "outputs": [],
   "source": [
    "import data_transformation"
   ]
  },
  {
   "cell_type": "code",
   "execution_count": 10,
   "metadata": {
    "ExecuteTime": {
     "end_time": "2018-10-24T21:44:56.326246Z",
     "start_time": "2018-10-24T21:42:50.392793Z"
    }
   },
   "outputs": [
    {
     "name": "stdout",
     "output_type": "stream",
     "text": [
      "Total number of events: 2,756,101\n",
      "\n",
      "Total number of trimmed events: 297,917\n",
      "\n"
     ]
    }
   ],
   "source": [
    "data_transformation.SESSION_TIME_LIMIT = 30\n",
    "events_trimmed = data_transformation.load()"
   ]
  },
  {
   "cell_type": "code",
   "execution_count": 11,
   "metadata": {
    "ExecuteTime": {
     "end_time": "2018-10-24T21:44:56.349921Z",
     "start_time": "2018-10-24T21:44:56.329404Z"
    }
   },
   "outputs": [
    {
     "data": {
      "text/plain": [
       "count    67.000000\n",
       "mean      2.962871\n",
       "std       3.913693\n",
       "min       0.000000\n",
       "25%       0.673642\n",
       "50%       1.438217\n",
       "75%       2.965592\n",
       "max      19.245217\n",
       "Name: minutes_since_prev_event, dtype: float64"
      ]
     },
     "execution_count": 11,
     "metadata": {},
     "output_type": "execute_result"
    }
   ],
   "source": [
    "df = events_trimmed[events_trimmed.visitorid == 152963]\n",
    "df[df.seq == 1].minutes_since_prev_event.describe()"
   ]
  }
 ],
 "metadata": {
  "kernelspec": {
   "display_name": "Python 3",
   "language": "python",
   "name": "python3"
  },
  "language_info": {
   "codemirror_mode": {
    "name": "ipython",
    "version": 3
   },
   "file_extension": ".py",
   "mimetype": "text/x-python",
   "name": "python",
   "nbconvert_exporter": "python",
   "pygments_lexer": "ipython3",
   "version": "3.6.5"
  }
 },
 "nbformat": 4,
 "nbformat_minor": 2
}
