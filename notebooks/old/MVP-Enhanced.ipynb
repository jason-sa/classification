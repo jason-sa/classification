{
 "cells": [
  {
   "cell_type": "markdown",
   "metadata": {},
   "source": [
    "# MVP\n",
    "\n",
    "MVP for predicting whether or not a product will be added to a cart."
   ]
  },
  {
   "cell_type": "code",
   "execution_count": 1,
   "metadata": {
    "ExecuteTime": {
     "end_time": "2018-10-23T20:40:10.615631Z",
     "start_time": "2018-10-23T20:40:09.088046Z"
    }
   },
   "outputs": [],
   "source": [
    "import pandas as pd\n",
    "import numpy as np\n",
    "\n",
    "from sklearn.model_selection import train_test_split\n",
    "from sklearn.model_selection import cross_val_score\n",
    "from sklearn.linear_model import LogisticRegression\n",
    "from sklearn.svm import SVC\n",
    "from sklearn.ensemble import GradientBoostingClassifier\n",
    "from sklearn.ensemble import RandomForestClassifier\n",
    "\n",
    "from sklearn.metrics import f1_score"
   ]
  },
  {
   "cell_type": "markdown",
   "metadata": {},
   "source": [
    "Create `X` / `y`, and the train/test split "
   ]
  },
  {
   "cell_type": "code",
   "execution_count": 52,
   "metadata": {
    "ExecuteTime": {
     "end_time": "2018-10-23T22:36:19.254953Z",
     "start_time": "2018-10-23T22:36:13.363321Z"
    }
   },
   "outputs": [
    {
     "name": "stdout",
     "output_type": "stream",
     "text": [
      "Logistic 10=fold F1 score: 95.97% +- 0.34%\n",
      "Random Forrest 10=fold F1 score: 95.83% +- 0.34%\n",
      "Gradient Boost 10=fold F1 score: 95.92% +- 0.31%\n"
     ]
    },
    {
     "data": {
      "text/html": [
       "<div>\n",
       "<style scoped>\n",
       "    .dataframe tbody tr th:only-of-type {\n",
       "        vertical-align: middle;\n",
       "    }\n",
       "\n",
       "    .dataframe tbody tr th {\n",
       "        vertical-align: top;\n",
       "    }\n",
       "\n",
       "    .dataframe thead th {\n",
       "        text-align: right;\n",
       "    }\n",
       "</style>\n",
       "<table border=\"1\" class=\"dataframe\">\n",
       "  <thead>\n",
       "    <tr style=\"text-align: right;\">\n",
       "      <th></th>\n",
       "      <th>in_cart</th>\n",
       "      <th>add_frequency</th>\n",
       "      <th>days_prev_add</th>\n",
       "    </tr>\n",
       "  </thead>\n",
       "  <tbody>\n",
       "    <tr>\n",
       "      <th>14999</th>\n",
       "      <td>0</td>\n",
       "      <td>1.0</td>\n",
       "      <td>112.380039</td>\n",
       "    </tr>\n",
       "    <tr>\n",
       "      <th>9946</th>\n",
       "      <td>0</td>\n",
       "      <td>1.0</td>\n",
       "      <td>112.380039</td>\n",
       "    </tr>\n",
       "    <tr>\n",
       "      <th>9905</th>\n",
       "      <td>0</td>\n",
       "      <td>1.0</td>\n",
       "      <td>112.380039</td>\n",
       "    </tr>\n",
       "    <tr>\n",
       "      <th>21574</th>\n",
       "      <td>1</td>\n",
       "      <td>1.0</td>\n",
       "      <td>112.380039</td>\n",
       "    </tr>\n",
       "    <tr>\n",
       "      <th>8134</th>\n",
       "      <td>1</td>\n",
       "      <td>0.0</td>\n",
       "      <td>112.380039</td>\n",
       "    </tr>\n",
       "  </tbody>\n",
       "</table>\n",
       "</div>"
      ],
      "text/plain": [
       "       in_cart  add_frequency  days_prev_add\n",
       "14999        0            1.0     112.380039\n",
       "9946         0            1.0     112.380039\n",
       "9905         0            1.0     112.380039\n",
       "21574        1            1.0     112.380039\n",
       "8134         1            0.0     112.380039"
      ]
     },
     "execution_count": 52,
     "metadata": {},
     "output_type": "execute_result"
    }
   ],
   "source": [
    "X = pd.read_pickle('../data/X.pkl')\n",
    "y = pd.read_pickle('../data/y.pkl')\n",
    "\n",
    "X_train, X_test, y_train, y_test = train_test_split(X, y, test_size = 0.3, random_state = 1234)\n",
    "\n",
    "\n",
    "models = {'Logistic': LogisticRegression(), \n",
    "#           'SVM RBF': svm_model, \n",
    "#           'SVM Linear': svm_linear_model, \n",
    "          'Random Forrest': RandomForestClassifier(), \n",
    "          'Gradient Boost': GradientBoostingClassifier()}\n",
    "\n",
    "for k, m in models.items():\n",
    "    cv_model = cross_val_score(m, X_train, y_train, scoring='f1', cv=10)\n",
    "\n",
    "    print(f'{k} 10=fold F1 score: {cv_model.mean():.2%} +- {cv_model.std():.2%}')\n",
    "    \n",
    "pd.concat([y_train, X_train], axis=1).sample(5)\n"
   ]
  },
  {
   "cell_type": "markdown",
   "metadata": {},
   "source": [
    "Fit all models and calcualte F1 score"
   ]
  },
  {
   "cell_type": "code",
   "execution_count": 40,
   "metadata": {
    "ExecuteTime": {
     "end_time": "2018-10-23T22:21:33.970636Z",
     "start_time": "2018-10-23T22:21:33.962494Z"
    }
   },
   "outputs": [],
   "source": [
    "from sklearn.metrics import classification_report"
   ]
  },
  {
   "cell_type": "code",
   "execution_count": 53,
   "metadata": {
    "ExecuteTime": {
     "end_time": "2018-10-23T22:36:36.790769Z",
     "start_time": "2018-10-23T22:36:36.249438Z"
    }
   },
   "outputs": [
    {
     "name": "stdout",
     "output_type": "stream",
     "text": [
      "             precision    recall  f1-score   support\n",
      "\n",
      "          0       0.92      1.00      0.96     10554\n",
      "          1       1.00      0.92      0.96     11291\n",
      "\n",
      "avg / total       0.96      0.96      0.96     21845\n",
      "\n"
     ]
    }
   ],
   "source": [
    "gb = GradientBoostingClassifier()\n",
    "gb.fit(X_train, y_train)\n",
    "\n",
    "print(classification_report(y_train, gb.predict(X_train)))"
   ]
  },
  {
   "cell_type": "code",
   "execution_count": 55,
   "metadata": {
    "ExecuteTime": {
     "end_time": "2018-10-23T22:37:57.035079Z",
     "start_time": "2018-10-23T22:37:56.928701Z"
    }
   },
   "outputs": [
    {
     "data": {
      "text/html": [
       "<div>\n",
       "<style scoped>\n",
       "    .dataframe tbody tr th:only-of-type {\n",
       "        vertical-align: middle;\n",
       "    }\n",
       "\n",
       "    .dataframe tbody tr th {\n",
       "        vertical-align: top;\n",
       "    }\n",
       "\n",
       "    .dataframe thead th {\n",
       "        text-align: right;\n",
       "    }\n",
       "</style>\n",
       "<table border=\"1\" class=\"dataframe\">\n",
       "  <thead>\n",
       "    <tr style=\"text-align: right;\">\n",
       "      <th></th>\n",
       "      <th>in_cart</th>\n",
       "      <th>add_frequency</th>\n",
       "      <th>days_prev_add</th>\n",
       "    </tr>\n",
       "  </thead>\n",
       "  <tbody>\n",
       "    <tr>\n",
       "      <th>count</th>\n",
       "      <td>11291.0</td>\n",
       "      <td>11291.000000</td>\n",
       "      <td>11291.000000</td>\n",
       "    </tr>\n",
       "    <tr>\n",
       "      <th>mean</th>\n",
       "      <td>1.0</td>\n",
       "      <td>0.085909</td>\n",
       "      <td>111.659145</td>\n",
       "    </tr>\n",
       "    <tr>\n",
       "      <th>std</th>\n",
       "      <td>0.0</td>\n",
       "      <td>0.317579</td>\n",
       "      <td>8.786924</td>\n",
       "    </tr>\n",
       "    <tr>\n",
       "      <th>min</th>\n",
       "      <td>1.0</td>\n",
       "      <td>0.000000</td>\n",
       "      <td>0.001356</td>\n",
       "    </tr>\n",
       "    <tr>\n",
       "      <th>25%</th>\n",
       "      <td>1.0</td>\n",
       "      <td>0.000000</td>\n",
       "      <td>112.380039</td>\n",
       "    </tr>\n",
       "    <tr>\n",
       "      <th>50%</th>\n",
       "      <td>1.0</td>\n",
       "      <td>0.000000</td>\n",
       "      <td>112.380039</td>\n",
       "    </tr>\n",
       "    <tr>\n",
       "      <th>75%</th>\n",
       "      <td>1.0</td>\n",
       "      <td>0.000000</td>\n",
       "      <td>112.380039</td>\n",
       "    </tr>\n",
       "    <tr>\n",
       "      <th>max</th>\n",
       "      <td>1.0</td>\n",
       "      <td>6.000000</td>\n",
       "      <td>112.380039</td>\n",
       "    </tr>\n",
       "  </tbody>\n",
       "</table>\n",
       "</div>"
      ],
      "text/plain": [
       "       in_cart  add_frequency  days_prev_add\n",
       "count  11291.0   11291.000000   11291.000000\n",
       "mean       1.0       0.085909     111.659145\n",
       "std        0.0       0.317579       8.786924\n",
       "min        1.0       0.000000       0.001356\n",
       "25%        1.0       0.000000     112.380039\n",
       "50%        1.0       0.000000     112.380039\n",
       "75%        1.0       0.000000     112.380039\n",
       "max        1.0       6.000000     112.380039"
      ]
     },
     "execution_count": 55,
     "metadata": {},
     "output_type": "execute_result"
    }
   ],
   "source": [
    "Xy = pd.concat([y_train, X_train], axis=1)\n",
    "Xy[Xy.in_cart == 1].describe() #75% of my feature space is NA!!!!!"
   ]
  },
  {
   "cell_type": "code",
   "execution_count": 12,
   "metadata": {
    "ExecuteTime": {
     "end_time": "2018-10-19T22:50:59.084728Z",
     "start_time": "2018-10-19T22:50:59.067763Z"
    }
   },
   "outputs": [
    {
     "data": {
      "text/plain": [
       "array([0.28774709, 0.37301378, 0.33923913])"
      ]
     },
     "execution_count": 12,
     "metadata": {},
     "output_type": "execute_result"
    }
   ],
   "source": [
    "rf_model.feature_importances_"
   ]
  },
  {
   "cell_type": "code",
   "execution_count": 23,
   "metadata": {
    "ExecuteTime": {
     "end_time": "2018-10-19T23:00:14.244872Z",
     "start_time": "2018-10-19T22:59:59.121625Z"
    }
   },
   "outputs": [
    {
     "name": "stdout",
     "output_type": "stream",
     "text": [
      "Avg F1 score: 70.49% +- 2.29%\n"
     ]
    }
   ],
   "source": [
    "cv_rf_model = cross_val_score(rf_model, X_train, y_train, scoring='f1', cv=10)\n",
    "\n",
    "print(f'10=fold F1 score: {cv_rf_model.mean():.2%} +- {cv_rf_model.std():.2%}')"
   ]
  },
  {
   "cell_type": "code",
   "execution_count": 22,
   "metadata": {
    "ExecuteTime": {
     "end_time": "2018-10-19T22:59:59.118475Z",
     "start_time": "2018-10-19T22:57:50.999971Z"
    }
   },
   "outputs": [
    {
     "name": "stdout",
     "output_type": "stream",
     "text": [
      "Avg F1 score: 62.90% +- 4.13%\n"
     ]
    }
   ],
   "source": [
    "cv_gboost_model = cross_val_score(gboost_model, X_train, y_train, scoring='f1', cv=10)\n",
    "\n",
    "print(f'10-fold F1 score: {cv_gboost_model.mean():.2%} +- {cv_gboost_model.std():.2%}')"
   ]
  },
  {
   "cell_type": "code",
   "execution_count": 56,
   "metadata": {
    "ExecuteTime": {
     "end_time": "2018-10-23T22:48:51.511885Z",
     "start_time": "2018-10-23T22:48:51.450538Z"
    }
   },
   "outputs": [],
   "source": [
    "observations = pd.read_pickle('../data/observations_trans.pkl')"
   ]
  },
  {
   "cell_type": "code",
   "execution_count": 61,
   "metadata": {
    "ExecuteTime": {
     "end_time": "2018-10-23T22:52:24.048941Z",
     "start_time": "2018-10-23T22:52:24.040009Z"
    }
   },
   "outputs": [
    {
     "data": {
      "text/plain": [
       "0.04149577031530377"
      ]
     },
     "execution_count": 61,
     "metadata": {},
     "output_type": "execute_result"
    }
   ],
   "source": [
    "observations[(observations.in_cart == 1) & (observations.add_frequency > 0)].shape[0] / observations.shape[0]"
   ]
  },
  {
   "cell_type": "markdown",
   "metadata": {},
   "source": [
    "#### 4% of the items ordered last were ordered in the previous 112 days\n",
    "#### maybe should aggregate\n",
    "#### predict "
   ]
  },
  {
   "cell_type": "code",
   "execution_count": 64,
   "metadata": {
    "ExecuteTime": {
     "end_time": "2018-10-23T22:57:34.393726Z",
     "start_time": "2018-10-23T22:57:34.179801Z"
    }
   },
   "outputs": [
    {
     "data": {
      "image/png": "[encoded data removed]",
      "text/plain": [
       "<Figure size 432x432 with 1 Axes>"
      ]
     },
     "metadata": {},
     "output_type": "display_data"
    }
   ],
   "source": [
    "from sklearn.metrics import roc_curve, auc\n",
    "import matplotlib.pyplot as plt\n",
    "%matplotlib inline\n",
    "\n",
    "# logreg = LogisticRegression()\n",
    "# logreg.fit(xtrain,np.ravel(ytrain))\n",
    "y_score=gb.predict_proba(X_train)[:,1]\n",
    "\n",
    "fpr, tpr,_ = roc_curve(y_train, y_score)\n",
    "roc_auc = auc(fpr, tpr)\n",
    "\n",
    "plt.figure(figsize=(6,6))\n",
    "# Plotting our Baseline..\n",
    "plt.plot([0,1],[0,1])\n",
    "plt.plot(fpr,tpr)\n",
    "plt.xlabel('False Positive Rate')\n",
    "plt.ylabel('True Positive Rate');"
   ]
  }
 ],
 "metadata": {
  "kernelspec": {
   "display_name": "Python 3",
   "language": "python",
   "name": "python3"
  },
  "language_info": {
   "codemirror_mode": {
    "name": "ipython",
    "version": 3
   },
   "file_extension": ".py",
   "mimetype": "text/x-python",
   "name": "python",
   "nbconvert_exporter": "python",
   "pygments_lexer": "ipython3",
   "version": "3.6.5"
  }
 },
 "nbformat": 4,
 "nbformat_minor": 2
}
