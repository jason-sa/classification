{
 "cells": [
  {
   "cell_type": "code",
   "execution_count": 1,
   "metadata": {
    "ExecuteTime": {
     "end_time": "2018-10-18T05:06:17.171065Z",
     "start_time": "2018-10-18T05:06:16.485120Z"
    }
   },
   "outputs": [],
   "source": [
    "import pandas as pd\n",
    "from datetime import datetime\n",
    "\n",
    "import numpy as np\n",
    "\n",
    "FILE_CATEGORY_TREE = '../data/category_tree.csv'\n",
    "FILE_EVENTS = '../data/events.csv'\n",
    "FILE_ITEM_PROPERTIES_1 = '../data/item_properties_part1.csv'\n",
    "FILE_ITEM_PROPERTIES_2 = '../data/item_properties_part2.csv'\n",
    "FILE_ITEM_PROPERTIES_ALL = '../data/item_properties_all.csv'"
   ]
  },
  {
   "cell_type": "markdown",
   "metadata": {},
   "source": [
    "### Original EDA analysis"
   ]
  },
  {
   "cell_type": "markdown",
   "metadata": {
    "ExecuteTime": {
     "end_time": "2018-10-17T22:07:47.729245Z",
     "start_time": "2018-10-17T22:07:47.717159Z"
    }
   },
   "source": [
    "``` python\n",
    "category_tree = pd.read_csv(FILE_CATEGORY_TREE)\n",
    "\n",
    "category_tree.head()\n",
    "\n",
    "category_tree.shape\n",
    "\n",
    "category_tree[category_tree.parentid.isnull()].sort_values('categoryid')\n",
    "\n",
    "def find_root(x, df):\n",
    "    while True: \n",
    "        if np.isnan(df.loc[df.categoryid == x, 'parentid'].unique()[0]):\n",
    "            return x\n",
    "        else:\n",
    "            x = df.loc[df.categoryid == x, 'parentid'].unique()[0]\n",
    "\n",
    "l = []\n",
    "for c in category_tree.categoryid:\n",
    "    l.append(find_root(c,category_tree))\n",
    "\n",
    "category_tree = pd.concat([category_tree,pd.Series(l,name='top_parent')],axis=1)\n",
    "\n",
    "top_parent_summary = category_tree.groupby('top_parent')['categoryid'].count().reset_index()\n",
    "top_parent_summary.rename(columns = {'categoryid':'num_categories'}, inplace=True)\n",
    "top_parent_summary.sort_values('num_categories',ascending=False)\n",
    "\n",
    "top_parent_summary.shape\n",
    "\n",
    "25 top-level categories \n",
    "\n",
    "events = pd.read_csv(FILE_EVENTS)\n",
    "\n",
    "events.head()\n",
    "\n",
    "events.describe(include='all')\n",
    "\n",
    "events.info()\n",
    "\n",
    "events.event.value_counts()\n",
    "\n",
    "events.itemid.unique().shape\n",
    "\n",
    "235,061 products view/addtocart/transcation\n",
    "\n",
    "def convert_to_local(x):\n",
    "    return datetime.fromtimestamp(x/1000)\n",
    "\n",
    "events['local_date_time'] = events.timestamp.apply(convert_to_local)\n",
    "\n",
    "events[events.visitorid == 1150086].sort_values('local_date_time').head(10)\n",
    "\n",
    "events.sort_values(['visitorid','local_date_time'], inplace=True)\n",
    "events['time_diff'] = events.groupby('visitorid')['timestamp'].diff(periods=-1) *-1\n",
    "\n",
    "events.time_diff = events.time_diff / 1000 # convert from milliseconds to seconds\n",
    "\n",
    "events.groupby('visitorid')['time_diff'].agg(['mean','count']).reset_index().sort_values('count', ascending=False).head()\n",
    "\n",
    "events[events.visitorid == 280150].sort_values('local_date_time').head(10)\n",
    "\n",
    "events.agg({'local_date_time':['min','max']})\n",
    "\n",
    "item_properties = pd.read_csv(FILE_ITEM_PROPERTIES_1)\n",
    "\n",
    "item_properties['local_date_time'] = item_properties.timestamp.apply(convert_to_local)\n",
    "\n",
    "item_properties[item_properties.itemid.isin([133542])].sort_values('timestamp')\n",
    "\n",
    "item_properties_2 = pd.read_csv(FILE_ITEM_PROPERTIES_2)\n",
    "\n",
    "item_properties_2['local_date_time'] = item_properties_2.timestamp.apply(convert_to_local)\n",
    "\n",
    "item_properties_2[item_properties_2.itemid.isin([133542])].sort_values('timestamp')\n",
    "\n",
    "item_properties_master = item_properties.append(item_properties_2)\n",
    "\n",
    "item_properties_master[item_properties_master.itemid.isin([133542])].sort_values(['property','local_date_time'])\n",
    "\n",
    "item_properties_master[item_properties_master.itemid.isin([167873])].sort_values(['property','local_date_time'])\n",
    "\n",
    "item_property_unique = item_properties_master.loc[:,['itemid','property']].drop_duplicates()\n",
    "\n",
    "property_count = item_property_unique.groupby('property')['itemid'].count().sort_values(ascending=False).reset_index()\n",
    "\n",
    "property_count[property_count.itemid == 417053]\n",
    "\n",
    "Above properties are represented of all items. Let's see what the unique values are for these properties.\n",
    "\n",
    "item_properties_master.loc[item_properties_master.property == '364','value'].value_counts().sort_values(ascending=False).reset_index().head(10)\n",
    "\n",
    "item_properties_master[item_properties_master.value.str.contains(r'[^\\s]')]\n",
    "```"
   ]
  },
  {
   "cell_type": "markdown",
   "metadata": {},
   "source": [
    "### New EDA Analysis"
   ]
  },
  {
   "cell_type": "code",
   "execution_count": 2,
   "metadata": {
    "ExecuteTime": {
     "end_time": "2018-10-18T05:06:23.998522Z",
     "start_time": "2018-10-18T05:06:17.173559Z"
    }
   },
   "outputs": [],
   "source": [
    "events = pd.read_csv('../data/events_enhanced.csv')\n",
    "events.local_date_time = pd.to_datetime(events.local_date_time)"
   ]
  },
  {
   "cell_type": "code",
   "execution_count": 3,
   "metadata": {
    "ExecuteTime": {
     "end_time": "2018-10-18T05:06:24.017873Z",
     "start_time": "2018-10-18T05:06:24.000937Z"
    }
   },
   "outputs": [],
   "source": [
    "category_tree = pd.read_csv('../data/category_tree_parent.csv')"
   ]
  },
  {
   "cell_type": "code",
   "execution_count": 4,
   "metadata": {
    "ExecuteTime": {
     "end_time": "2018-10-18T05:06:56.095860Z",
     "start_time": "2018-10-18T05:06:24.022119Z"
    }
   },
   "outputs": [],
   "source": [
    "item_properties_master = pd.read_csv('../data/item_properties_master.csv')\n",
    "item_properties_master.local_date_time = pd.to_datetime(item_properties_master.local_date_time)"
   ]
  },
  {
   "cell_type": "markdown",
   "metadata": {},
   "source": [
    "### Reduce data set size and begin to build MVP feature set"
   ]
  },
  {
   "cell_type": "code",
   "execution_count": 5,
   "metadata": {
    "ExecuteTime": {
     "end_time": "2018-10-18T05:07:05.428151Z",
     "start_time": "2018-10-18T05:06:56.098553Z"
    }
   },
   "outputs": [
    {
     "name": "stdout",
     "output_type": "stream",
     "text": [
      "Trimmed events 599,871\n",
      "\n",
      "Count of events: \n",
      "view           579229\n",
      "addtocart       15666\n",
      "transaction      4976\n",
      "Name: event, dtype: int64\n",
      "\n",
      "Visitors that bought something 2,672\n",
      "\n",
      "Events for visitors who bought something 43,737\n"
     ]
    },
    {
     "name": "stderr",
     "output_type": "stream",
     "text": [
      "/anaconda3/lib/python3.6/site-packages/ipykernel_launcher.py:32: SettingWithCopyWarning: \n",
      "A value is trying to be set on a copy of a slice from a DataFrame.\n",
      "Try using .loc[row_indexer,col_indexer] = value instead\n",
      "\n",
      "See the caveats in the documentation: http://pandas.pydata.org/pandas-docs/stable/indexing.html#indexing-view-versus-copy\n",
      "/anaconda3/lib/python3.6/site-packages/pandas/core/generic.py:4405: SettingWithCopyWarning: \n",
      "A value is trying to be set on a copy of a slice from a DataFrame.\n",
      "Try using .loc[row_indexer,col_indexer] = value instead\n",
      "\n",
      "See the caveats in the documentation: http://pandas.pydata.org/pandas-docs/stable/indexing.html#indexing-view-versus-copy\n",
      "  self[name] = value\n"
     ]
    },
    {
     "name": "stdout",
     "output_type": "stream",
     "text": [
      "\n",
      "Sessions that have at least one transaction 37,096\n",
      "Rows when left join 69,523\n",
      "Rows when inner join 68,260\n",
      "Using inner join for now, and will come back later.\n",
      "Updated shape of the feature DF 35,036\n"
     ]
    }
   ],
   "source": [
    "events_trimmed = events[events.local_date_time >= datetime(2015, 8, 15)]\n",
    "\n",
    "print(f'Trimmed events {events_trimmed.shape[0]:,}')\n",
    "print()\n",
    "\n",
    "print(f'Count of events: \\n{events_trimmed.event.value_counts()}')\n",
    "print()\n",
    "# unique visitors\n",
    "print(f'Visitors that bought something {events_trimmed[events_trimmed.event == \"transaction\"].visitorid.unique().shape[0]:,}')\n",
    "print()\n",
    "\n",
    "# all visitors where at least one session ended in a transaction\n",
    "visitors = events_trimmed[events_trimmed.event == 'transaction'].visitorid.unique()\n",
    "print(f'Events for visitors who bought something {events_trimmed[events_trimmed.visitorid.isin(visitors)].shape[0]:,}')\n",
    "buy_visitors = events_trimmed[events_trimmed.visitorid.isin(visitors)]\n",
    "\n",
    "# calculate the session_id\n",
    "# session_id identifes each pattern of view...transaction for each visitor as unique\n",
    "l = []\n",
    "for v in visitors:\n",
    "    v_df = buy_visitors[buy_visitors.visitorid == v].sort_values('local_date_time')\n",
    "    prev_event = 'view'\n",
    "    session_id = 1\n",
    "    for i in v_df.index:\n",
    "        if prev_event == 'transaction' and v_df.loc[i,'event'] != 'transaction':\n",
    "            session_id += 1\n",
    "\n",
    "        prev_event = v_df.loc[i,'event']\n",
    "        l.append(session_id)\n",
    "\n",
    "# assign each session_id and make it unique\n",
    "buy_visitors['session_id'] = l\n",
    "buy_visitors.session_id = buy_visitors.visitorid.astype('str') + '_' + buy_visitors.session_id.astype('str')\n",
    "\n",
    "# group by session_id and remove those sessions without a transaction\n",
    "grouped_events = buy_visitors.groupby(['session_id','event'])['visitorid'].count().reset_index()\n",
    "valid_sessions = grouped_events[grouped_events.event == 'transaction'].session_id\n",
    "buy_visitors = buy_visitors[buy_visitors.session_id.isin(valid_sessions)]\n",
    "\n",
    "print()\n",
    "print(f'Sessions that have at least one transaction {buy_visitors.shape[0]:,}')\n",
    "\n",
    "# calcaulte session length feature\n",
    "buy_visitors.time_diff = buy_visitors.time_diff.shift(1)\n",
    "buy_visitors.rename(columns={'time_diff':'session_length'}, inplace=True)\n",
    "\n",
    "# calculate hour of day and day of week\n",
    "buy_visitors['session_hour'] = buy_visitors.local_date_time.dt.hour\n",
    "buy_visitors['session_dow'] = buy_visitors.local_date_time.dt.dayofweek\n",
    "\n",
    "# get category_id\n",
    "category_property = item_properties_master[item_properties_master.property == 'categoryid']\n",
    "\n",
    "event_category_df = buy_visitors.merge(category_property, how='left',on='itemid')\n",
    "print(f'Rows when left join {event_category_df.shape[0]:,}')\n",
    "\n",
    "event_category_df = buy_visitors.merge(category_property, how='inner',on='itemid')\n",
    "print(f'Rows when inner join {event_category_df.shape[0]:,}')\n",
    "\n",
    "print('Using inner join for now, and will come back later.')\n",
    "\n",
    "# get all categories that were set prior to the visitor seeing the page\n",
    "event_category_df = event_category_df[event_category_df.local_date_time_x > event_category_df.local_date_time_y]\n",
    "\n",
    "category_max_date_time = event_category_df.groupby(['local_date_time_x','itemid','session_id'])['local_date_time_y'].max().reset_index()\n",
    "event_category_df = event_category_df.merge(category_max_date_time, how='inner', on=['local_date_time_x','itemid','session_id','local_date_time_y'])\n",
    "\n",
    "# clean up the df\n",
    "drop_c = ['timestamp_y', 'property', 'local_date_time_y']\n",
    "event_category_df.drop(columns=drop_c, inplace=True)\n",
    "\n",
    "rename_c = {'timestamp_x':'timestamp', 'local_date_time_x':'local_date_time','value':'category_id'}\n",
    "event_category_df.rename(columns=rename_c, inplace=True)\n",
    "\n",
    "# set it back to buy_visitors\n",
    "buy_visitors = event_category_df\n",
    "del(event_category_df)\n",
    "print(f'Updated shape of the feature DF {buy_visitors.shape[0]:,}')"
   ]
  },
  {
   "cell_type": "code",
   "execution_count": 6,
   "metadata": {
    "ExecuteTime": {
     "end_time": "2018-10-18T05:07:05.481536Z",
     "start_time": "2018-10-18T05:07:05.430673Z"
    }
   },
   "outputs": [
    {
     "data": {
      "text/html": [
       "<div>\n",
       "<style scoped>\n",
       "    .dataframe tbody tr th:only-of-type {\n",
       "        vertical-align: middle;\n",
       "    }\n",
       "\n",
       "    .dataframe tbody tr th {\n",
       "        vertical-align: top;\n",
       "    }\n",
       "\n",
       "    .dataframe thead th {\n",
       "        text-align: right;\n",
       "    }\n",
       "</style>\n",
       "<table border=\"1\" class=\"dataframe\">\n",
       "  <thead>\n",
       "    <tr style=\"text-align: right;\">\n",
       "      <th></th>\n",
       "      <th>timestamp</th>\n",
       "      <th>visitorid</th>\n",
       "      <th>event</th>\n",
       "      <th>itemid</th>\n",
       "      <th>transactionid</th>\n",
       "      <th>local_date_time</th>\n",
       "      <th>session_length</th>\n",
       "      <th>session_id</th>\n",
       "      <th>session_hour</th>\n",
       "      <th>session_dow</th>\n",
       "      <th>category_id</th>\n",
       "    </tr>\n",
       "  </thead>\n",
       "  <tbody>\n",
       "    <tr>\n",
       "      <th>0</th>\n",
       "      <td>1441645752830</td>\n",
       "      <td>264</td>\n",
       "      <td>view</td>\n",
       "      <td>161949</td>\n",
       "      <td>NaN</td>\n",
       "      <td>2015-09-07 10:09:12.830</td>\n",
       "      <td>NaN</td>\n",
       "      <td>264_1</td>\n",
       "      <td>10</td>\n",
       "      <td>0</td>\n",
       "      <td>1421</td>\n",
       "    </tr>\n",
       "    <tr>\n",
       "      <th>1</th>\n",
       "      <td>1441646849375</td>\n",
       "      <td>264</td>\n",
       "      <td>view</td>\n",
       "      <td>161949</td>\n",
       "      <td>NaN</td>\n",
       "      <td>2015-09-07 10:27:29.375</td>\n",
       "      <td>1096.545</td>\n",
       "      <td>264_1</td>\n",
       "      <td>10</td>\n",
       "      <td>0</td>\n",
       "      <td>1421</td>\n",
       "    </tr>\n",
       "    <tr>\n",
       "      <th>2</th>\n",
       "      <td>1441647066184</td>\n",
       "      <td>264</td>\n",
       "      <td>addtocart</td>\n",
       "      <td>161949</td>\n",
       "      <td>NaN</td>\n",
       "      <td>2015-09-07 10:31:06.184</td>\n",
       "      <td>2.096</td>\n",
       "      <td>264_1</td>\n",
       "      <td>10</td>\n",
       "      <td>0</td>\n",
       "      <td>1421</td>\n",
       "    </tr>\n",
       "    <tr>\n",
       "      <th>3</th>\n",
       "      <td>1441647285708</td>\n",
       "      <td>264</td>\n",
       "      <td>transaction</td>\n",
       "      <td>161949</td>\n",
       "      <td>8445.0</td>\n",
       "      <td>2015-09-07 10:34:45.708</td>\n",
       "      <td>0.094</td>\n",
       "      <td>264_1</td>\n",
       "      <td>10</td>\n",
       "      <td>0</td>\n",
       "      <td>1421</td>\n",
       "    </tr>\n",
       "    <tr>\n",
       "      <th>4</th>\n",
       "      <td>1441647062509</td>\n",
       "      <td>264</td>\n",
       "      <td>view</td>\n",
       "      <td>459835</td>\n",
       "      <td>NaN</td>\n",
       "      <td>2015-09-07 10:31:02.509</td>\n",
       "      <td>213.134</td>\n",
       "      <td>264_1</td>\n",
       "      <td>10</td>\n",
       "      <td>0</td>\n",
       "      <td>1421</td>\n",
       "    </tr>\n",
       "  </tbody>\n",
       "</table>\n",
       "</div>"
      ],
      "text/plain": [
       "       timestamp  visitorid        event  itemid  transactionid  \\\n",
       "0  1441645752830        264         view  161949            NaN   \n",
       "1  1441646849375        264         view  161949            NaN   \n",
       "2  1441647066184        264    addtocart  161949            NaN   \n",
       "3  1441647285708        264  transaction  161949         8445.0   \n",
       "4  1441647062509        264         view  459835            NaN   \n",
       "\n",
       "          local_date_time  session_length session_id  session_hour  \\\n",
       "0 2015-09-07 10:09:12.830             NaN      264_1            10   \n",
       "1 2015-09-07 10:27:29.375        1096.545      264_1            10   \n",
       "2 2015-09-07 10:31:06.184           2.096      264_1            10   \n",
       "3 2015-09-07 10:34:45.708           0.094      264_1            10   \n",
       "4 2015-09-07 10:31:02.509         213.134      264_1            10   \n",
       "\n",
       "   session_dow category_id  \n",
       "0            0        1421  \n",
       "1            0        1421  \n",
       "2            0        1421  \n",
       "3            0        1421  \n",
       "4            0        1421  "
      ]
     },
     "execution_count": 6,
     "metadata": {},
     "output_type": "execute_result"
    }
   ],
   "source": [
    "buy_visitors.head()\n",
    "# TODO Available and then figure out the t-1 thing.\n",
    "# Thinking of adding a feature to start with transaction and count backwards within each session ordered by time"
   ]
  }
 ],
 "metadata": {
  "kernelspec": {
   "display_name": "Python 3",
   "language": "python",
   "name": "python3"
  },
  "language_info": {
   "codemirror_mode": {
    "name": "ipython",
    "version": 3
   },
   "file_extension": ".py",
   "mimetype": "text/x-python",
   "name": "python",
   "nbconvert_exporter": "python",
   "pygments_lexer": "ipython3",
   "version": "3.6.5"
  }
 },
 "nbformat": 4,
 "nbformat_minor": 2
}
