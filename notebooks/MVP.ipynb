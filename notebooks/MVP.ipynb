{
 "cells": [
  {
   "cell_type": "markdown",
   "metadata": {},
   "source": [
    "# MVP\n",
    "\n",
    "MVP for predicting buy or not buy based on a web session at an e-commerce site."
   ]
  },
  {
   "cell_type": "code",
   "execution_count": 14,
   "metadata": {
    "ExecuteTime": {
     "end_time": "2018-10-19T22:53:23.944569Z",
     "start_time": "2018-10-19T22:53:23.939999Z"
    }
   },
   "outputs": [],
   "source": [
    "import pandas as pd\n",
    "import numpy as np\n",
    "\n",
    "from sklearn.model_selection import train_test_split\n",
    "from sklearn.model_selection import cross_val_score\n",
    "from sklearn.linear_model import LogisticRegression\n",
    "from sklearn.svm import SVC\n",
    "from sklearn.ensemble import GradientBoostingClassifier\n",
    "from sklearn.ensemble import RandomForestClassifier\n",
    "\n",
    "from sklearn.metrics import f1_score"
   ]
  },
  {
   "cell_type": "markdown",
   "metadata": {},
   "source": [
    "Read in observation created from the feature generation process."
   ]
  },
  {
   "cell_type": "code",
   "execution_count": 2,
   "metadata": {
    "ExecuteTime": {
     "end_time": "2018-10-19T21:26:36.212219Z",
     "start_time": "2018-10-19T21:26:36.022154Z"
    }
   },
   "outputs": [
    {
     "data": {
      "text/html": [
       "<div>\n",
       "<style scoped>\n",
       "    .dataframe tbody tr th:only-of-type {\n",
       "        vertical-align: middle;\n",
       "    }\n",
       "\n",
       "    .dataframe tbody tr th {\n",
       "        vertical-align: top;\n",
       "    }\n",
       "\n",
       "    .dataframe thead th {\n",
       "        text-align: right;\n",
       "    }\n",
       "</style>\n",
       "<table border=\"1\" class=\"dataframe\">\n",
       "  <thead>\n",
       "    <tr style=\"text-align: right;\">\n",
       "      <th></th>\n",
       "      <th>buy_event</th>\n",
       "      <th>view_count</th>\n",
       "      <th>session_length</th>\n",
       "      <th>avg_len_per_pg</th>\n",
       "    </tr>\n",
       "  </thead>\n",
       "  <tbody>\n",
       "    <tr>\n",
       "      <th>0_1</th>\n",
       "      <td>0</td>\n",
       "      <td>3.0</td>\n",
       "      <td>327.736</td>\n",
       "      <td>163.868</td>\n",
       "    </tr>\n",
       "    <tr>\n",
       "      <th>1000008_1</th>\n",
       "      <td>0</td>\n",
       "      <td>1.0</td>\n",
       "      <td>0.000</td>\n",
       "      <td>0.000</td>\n",
       "    </tr>\n",
       "    <tr>\n",
       "      <th>100000_1</th>\n",
       "      <td>0</td>\n",
       "      <td>1.0</td>\n",
       "      <td>0.000</td>\n",
       "      <td>0.000</td>\n",
       "    </tr>\n",
       "    <tr>\n",
       "      <th>1000025_1</th>\n",
       "      <td>0</td>\n",
       "      <td>1.0</td>\n",
       "      <td>0.000</td>\n",
       "      <td>0.000</td>\n",
       "    </tr>\n",
       "    <tr>\n",
       "      <th>1000026_1</th>\n",
       "      <td>0</td>\n",
       "      <td>1.0</td>\n",
       "      <td>0.000</td>\n",
       "      <td>0.000</td>\n",
       "    </tr>\n",
       "  </tbody>\n",
       "</table>\n",
       "</div>"
      ],
      "text/plain": [
       "           buy_event  view_count  session_length  avg_len_per_pg\n",
       "0_1                0         3.0         327.736         163.868\n",
       "1000008_1          0         1.0           0.000           0.000\n",
       "100000_1           0         1.0           0.000           0.000\n",
       "1000025_1          0         1.0           0.000           0.000\n",
       "1000026_1          0         1.0           0.000           0.000"
      ]
     },
     "execution_count": 2,
     "metadata": {},
     "output_type": "execute_result"
    }
   ],
   "source": [
    "observations_df = pd.read_pickle('../data/design.pkl')\n",
    "observations_df.head()"
   ]
  },
  {
   "cell_type": "markdown",
   "metadata": {},
   "source": [
    "Create `X` / `y`, and the train/test split "
   ]
  },
  {
   "cell_type": "code",
   "execution_count": 3,
   "metadata": {
    "ExecuteTime": {
     "end_time": "2018-10-19T21:26:39.343831Z",
     "start_time": "2018-10-19T21:26:38.993778Z"
    }
   },
   "outputs": [],
   "source": [
    "X, y = observations_df.drop(columns='buy_event'), observations_df.buy_event\n",
    "X_train, X_test, y_train, y_test = train_test_split(X, y, test_size = 0.3, random_state = 1234)"
   ]
  },
  {
   "cell_type": "markdown",
   "metadata": {},
   "source": [
    "Create baseline classification models"
   ]
  },
  {
   "cell_type": "code",
   "execution_count": 4,
   "metadata": {
    "ExecuteTime": {
     "end_time": "2018-10-19T21:26:42.211987Z",
     "start_time": "2018-10-19T21:26:42.206809Z"
    }
   },
   "outputs": [],
   "source": [
    "log_model = LogisticRegression()\n",
    "svm_model = SVC()\n",
    "svm_linear_model = SVC(kernel='linear')\n",
    "rf_model = RandomForestClassifier()\n",
    "gboost_model = GradientBoostingClassifier()"
   ]
  },
  {
   "cell_type": "markdown",
   "metadata": {},
   "source": [
    "Fit all models and calcualte F1 score"
   ]
  },
  {
   "cell_type": "code",
   "execution_count": 11,
   "metadata": {
    "ExecuteTime": {
     "end_time": "2018-10-19T22:50:31.242103Z",
     "start_time": "2018-10-19T22:50:11.437838Z"
    }
   },
   "outputs": [
    {
     "name": "stdout",
     "output_type": "stream",
     "text": [
      "Logistic F1 score: 0.0\n",
      "Random Forrest F1 score: 0.9665907365223994\n",
      "Gradient Boost F1 score: 0.6451313037415757\n"
     ]
    }
   ],
   "source": [
    "models = {'Logistic': log_model, \n",
    "#           'SVM RBF': svm_model, \n",
    "#           'SVM Linear': svm_linear_model, \n",
    "          'Random Forrest': rf_model, \n",
    "          'Gradient Boost': gboost_model}\n",
    "\n",
    "for k, m in models.items():\n",
    "    m.fit(X_train, y_train)\n",
    "    y_pred = m.predict(X_train)\n",
    "    print(f'{k} F1 score: {f1_score(y_train, y_pred)}')"
   ]
  },
  {
   "cell_type": "code",
   "execution_count": 12,
   "metadata": {
    "ExecuteTime": {
     "end_time": "2018-10-19T22:50:59.084728Z",
     "start_time": "2018-10-19T22:50:59.067763Z"
    }
   },
   "outputs": [
    {
     "data": {
      "text/plain": [
       "array([0.28774709, 0.37301378, 0.33923913])"
      ]
     },
     "execution_count": 12,
     "metadata": {},
     "output_type": "execute_result"
    }
   ],
   "source": [
    "rf_model.feature_importances_"
   ]
  },
  {
   "cell_type": "code",
   "execution_count": 23,
   "metadata": {
    "ExecuteTime": {
     "end_time": "2018-10-19T23:00:14.244872Z",
     "start_time": "2018-10-19T22:59:59.121625Z"
    }
   },
   "outputs": [
    {
     "name": "stdout",
     "output_type": "stream",
     "text": [
      "Avg F1 score: 70.49% +- 2.29%\n"
     ]
    }
   ],
   "source": [
    "cv_rf_model = cross_val_score(rf_model, X_train, y_train, scoring='f1', cv=10)\n",
    "\n",
    "print(f'10=fold F1 score: {cv_rf_model.mean():.2%} +- {cv_rf_model.std():.2%}')"
   ]
  },
  {
   "cell_type": "code",
   "execution_count": 22,
   "metadata": {
    "ExecuteTime": {
     "end_time": "2018-10-19T22:59:59.118475Z",
     "start_time": "2018-10-19T22:57:50.999971Z"
    }
   },
   "outputs": [
    {
     "name": "stdout",
     "output_type": "stream",
     "text": [
      "Avg F1 score: 62.90% +- 4.13%\n"
     ]
    }
   ],
   "source": [
    "cv_gboost_model = cross_val_score(gboost_model, X_train, y_train, scoring='f1', cv=10)\n",
    "\n",
    "print(f'10-fold F1 score: {cv_gboost_model.mean():.2%} +- {cv_gboost_model.std():.2%}')"
   ]
  }
 ],
 "metadata": {
  "kernelspec": {
   "display_name": "Python 3",
   "language": "python",
   "name": "python3"
  },
  "language_info": {
   "codemirror_mode": {
    "name": "ipython",
    "version": 3
   },
   "file_extension": ".py",
   "mimetype": "text/x-python",
   "name": "python",
   "nbconvert_exporter": "python",
   "pygments_lexer": "ipython3",
   "version": "3.6.5"
  }
 },
 "nbformat": 4,
 "nbformat_minor": 2
}
