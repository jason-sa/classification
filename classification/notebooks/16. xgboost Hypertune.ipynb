{
 "cells": [
  {
   "cell_type": "markdown",
   "metadata": {},
   "source": [
    "## Hypertuning - xgboost"
   ]
  },
  {
   "cell_type": "code",
   "execution_count": 5,
   "metadata": {
    "ExecuteTime": {
     "end_time": "2019-01-16T03:25:40.147768Z",
     "start_time": "2019-01-16T03:25:40.133109Z"
    }
   },
   "outputs": [],
   "source": [
    "# data manipulation\n",
    "import pandas as pd\n",
    "import os\n",
    "import numpy as np\n",
    "\n",
    "# modeling\n",
    "from xgboost import XGBClassifier\n",
    "\n",
    "from imblearn.over_sampling import SMOTE\n",
    "from imblearn.pipeline import Pipeline as imbPipeline\n",
    "\n",
    "# parameter searching\n",
    "from skopt.space import Real, Integer, Categorical\n",
    "\n",
    "# custom helper functions\n",
    "from src.models import cross_validate as cv"
   ]
  },
  {
   "cell_type": "code",
   "execution_count": 6,
   "metadata": {
    "ExecuteTime": {
     "end_time": "2019-01-16T03:25:40.160195Z",
     "start_time": "2019-01-16T03:25:40.152105Z"
    }
   },
   "outputs": [],
   "source": [
    "DATA_PATH = '../data/processed/'\n",
    "OBS_PATH = os.path.join(DATA_PATH, 'observations_features.csv')\n",
    "RESULTS_PATH = os.path.join(DATA_PATH, 'results.csv')"
   ]
  },
  {
   "cell_type": "markdown",
   "metadata": {},
   "source": [
    "### Load Data"
   ]
  },
  {
   "cell_type": "code",
   "execution_count": 7,
   "metadata": {
    "ExecuteTime": {
     "end_time": "2019-01-16T03:25:40.588071Z",
     "start_time": "2019-01-16T03:25:40.162557Z"
    }
   },
   "outputs": [
    {
     "data": {
      "text/html": [
       "<div>\n",
       "<style scoped>\n",
       "    .dataframe tbody tr th:only-of-type {\n",
       "        vertical-align: middle;\n",
       "    }\n",
       "\n",
       "    .dataframe tbody tr th {\n",
       "        vertical-align: top;\n",
       "    }\n",
       "\n",
       "    .dataframe thead th {\n",
       "        text-align: right;\n",
       "    }\n",
       "</style>\n",
       "<table border=\"1\" class=\"dataframe\">\n",
       "  <thead>\n",
       "    <tr style=\"text-align: right;\">\n",
       "      <th></th>\n",
       "      <th>session_id</th>\n",
       "      <th>seq</th>\n",
       "      <th>buy_event</th>\n",
       "      <th>visitor_id</th>\n",
       "      <th>view_count</th>\n",
       "      <th>session_length</th>\n",
       "      <th>item_views</th>\n",
       "      <th>add_to_cart_count</th>\n",
       "      <th>transaction_count</th>\n",
       "      <th>avg_avail</th>\n",
       "    </tr>\n",
       "  </thead>\n",
       "  <tbody>\n",
       "    <tr>\n",
       "      <th>0</th>\n",
       "      <td>1000001_251341</td>\n",
       "      <td>2.0</td>\n",
       "      <td>0</td>\n",
       "      <td>1000001</td>\n",
       "      <td>1.0</td>\n",
       "      <td>0.0</td>\n",
       "      <td>1.0</td>\n",
       "      <td>0.0</td>\n",
       "      <td>0.0</td>\n",
       "      <td>0.0</td>\n",
       "    </tr>\n",
       "    <tr>\n",
       "      <th>1</th>\n",
       "      <td>1000007_251343</td>\n",
       "      <td>2.0</td>\n",
       "      <td>0</td>\n",
       "      <td>1000007</td>\n",
       "      <td>1.0</td>\n",
       "      <td>0.0</td>\n",
       "      <td>1.0</td>\n",
       "      <td>0.0</td>\n",
       "      <td>0.0</td>\n",
       "      <td>0.0</td>\n",
       "    </tr>\n",
       "    <tr>\n",
       "      <th>2</th>\n",
       "      <td>1000042_251344</td>\n",
       "      <td>2.0</td>\n",
       "      <td>0</td>\n",
       "      <td>1000042</td>\n",
       "      <td>1.0</td>\n",
       "      <td>0.0</td>\n",
       "      <td>1.0</td>\n",
       "      <td>0.0</td>\n",
       "      <td>0.0</td>\n",
       "      <td>1.0</td>\n",
       "    </tr>\n",
       "    <tr>\n",
       "      <th>3</th>\n",
       "      <td>1000057_251346</td>\n",
       "      <td>2.0</td>\n",
       "      <td>0</td>\n",
       "      <td>1000057</td>\n",
       "      <td>1.0</td>\n",
       "      <td>0.0</td>\n",
       "      <td>1.0</td>\n",
       "      <td>0.0</td>\n",
       "      <td>0.0</td>\n",
       "      <td>1.0</td>\n",
       "    </tr>\n",
       "    <tr>\n",
       "      <th>4</th>\n",
       "      <td>1000067_251351</td>\n",
       "      <td>2.0</td>\n",
       "      <td>0</td>\n",
       "      <td>1000067</td>\n",
       "      <td>1.0</td>\n",
       "      <td>0.0</td>\n",
       "      <td>1.0</td>\n",
       "      <td>0.0</td>\n",
       "      <td>0.0</td>\n",
       "      <td>0.0</td>\n",
       "    </tr>\n",
       "  </tbody>\n",
       "</table>\n",
       "</div>"
      ],
      "text/plain": [
       "       session_id  seq  buy_event  visitor_id  view_count  session_length  \\\n",
       "0  1000001_251341  2.0          0     1000001         1.0             0.0   \n",
       "1  1000007_251343  2.0          0     1000007         1.0             0.0   \n",
       "2  1000042_251344  2.0          0     1000042         1.0             0.0   \n",
       "3  1000057_251346  2.0          0     1000057         1.0             0.0   \n",
       "4  1000067_251351  2.0          0     1000067         1.0             0.0   \n",
       "\n",
       "   item_views  add_to_cart_count  transaction_count  avg_avail  \n",
       "0         1.0                0.0                0.0        0.0  \n",
       "1         1.0                0.0                0.0        0.0  \n",
       "2         1.0                0.0                0.0        1.0  \n",
       "3         1.0                0.0                0.0        1.0  \n",
       "4         1.0                0.0                0.0        0.0  "
      ]
     },
     "execution_count": 7,
     "metadata": {},
     "output_type": "execute_result"
    }
   ],
   "source": [
    "obs = pd.read_csv(OBS_PATH)\n",
    "obs.head()"
   ]
  },
  {
   "cell_type": "markdown",
   "metadata": {},
   "source": [
    "### Parameter Search\n",
    "\n",
    "We will be using `BayesSeachCV` to hypertune the parameters. `BayesSearchCV` implements Bayesian Optimization methods to estimate the distribution of the paramters, and ultimately find the set of paramters to minimize AUC, in our case."
   ]
  },
  {
   "cell_type": "code",
   "execution_count": 8,
   "metadata": {
    "ExecuteTime": {
     "end_time": "2019-01-16T04:35:26.089688Z",
     "start_time": "2019-01-16T03:25:40.590144Z"
    }
   },
   "outputs": [
    {
     "name": "stdout",
     "output_type": "stream",
     "text": [
      "Fitting 3 folds for each of 1 candidates, totalling 3 fits\n"
     ]
    },
    {
     "name": "stderr",
     "output_type": "stream",
     "text": [
      "[Parallel(n_jobs=3)]: Using backend LokyBackend with 3 concurrent workers.\n",
      "[Parallel(n_jobs=3)]: Done   3 out of   3 | elapsed:   46.7s finished\n",
      "[Parallel(n_jobs=3)]: Using backend LokyBackend with 3 concurrent workers.\n"
     ]
    },
    {
     "name": "stdout",
     "output_type": "stream",
     "text": [
      "Fitting 3 folds for each of 1 candidates, totalling 3 fits\n"
     ]
    },
    {
     "name": "stderr",
     "output_type": "stream",
     "text": [
      "[Parallel(n_jobs=3)]: Done   3 out of   3 | elapsed:   45.8s finished\n",
      "[Parallel(n_jobs=3)]: Using backend LokyBackend with 3 concurrent workers.\n"
     ]
    },
    {
     "name": "stdout",
     "output_type": "stream",
     "text": [
      "Fitting 3 folds for each of 1 candidates, totalling 3 fits\n"
     ]
    },
    {
     "name": "stderr",
     "output_type": "stream",
     "text": [
      "[Parallel(n_jobs=3)]: Done   3 out of   3 | elapsed:  1.3min finished\n",
      "[Parallel(n_jobs=3)]: Using backend LokyBackend with 3 concurrent workers.\n"
     ]
    },
    {
     "name": "stdout",
     "output_type": "stream",
     "text": [
      "Fitting 3 folds for each of 1 candidates, totalling 3 fits\n"
     ]
    },
    {
     "name": "stderr",
     "output_type": "stream",
     "text": [
      "[Parallel(n_jobs=3)]: Done   3 out of   3 | elapsed:   38.5s finished\n",
      "[Parallel(n_jobs=3)]: Using backend LokyBackend with 3 concurrent workers.\n"
     ]
    },
    {
     "name": "stdout",
     "output_type": "stream",
     "text": [
      "Fitting 3 folds for each of 1 candidates, totalling 3 fits\n"
     ]
    },
    {
     "name": "stderr",
     "output_type": "stream",
     "text": [
      "[Parallel(n_jobs=3)]: Done   3 out of   3 | elapsed:   39.1s finished\n",
      "[Parallel(n_jobs=3)]: Using backend LokyBackend with 3 concurrent workers.\n"
     ]
    },
    {
     "name": "stdout",
     "output_type": "stream",
     "text": [
      "Fitting 3 folds for each of 1 candidates, totalling 3 fits\n"
     ]
    },
    {
     "name": "stderr",
     "output_type": "stream",
     "text": [
      "[Parallel(n_jobs=3)]: Done   3 out of   3 | elapsed:   55.3s finished\n",
      "[Parallel(n_jobs=3)]: Using backend LokyBackend with 3 concurrent workers.\n"
     ]
    },
    {
     "name": "stdout",
     "output_type": "stream",
     "text": [
      "Fitting 3 folds for each of 1 candidates, totalling 3 fits\n"
     ]
    },
    {
     "name": "stderr",
     "output_type": "stream",
     "text": [
      "[Parallel(n_jobs=3)]: Done   3 out of   3 | elapsed:   38.1s finished\n",
      "[Parallel(n_jobs=3)]: Using backend LokyBackend with 3 concurrent workers.\n"
     ]
    },
    {
     "name": "stdout",
     "output_type": "stream",
     "text": [
      "Fitting 3 folds for each of 1 candidates, totalling 3 fits\n"
     ]
    },
    {
     "name": "stderr",
     "output_type": "stream",
     "text": [
      "[Parallel(n_jobs=3)]: Done   3 out of   3 | elapsed:   31.6s finished\n",
      "[Parallel(n_jobs=3)]: Using backend LokyBackend with 3 concurrent workers.\n"
     ]
    },
    {
     "name": "stdout",
     "output_type": "stream",
     "text": [
      "Fitting 3 folds for each of 1 candidates, totalling 3 fits\n"
     ]
    },
    {
     "name": "stderr",
     "output_type": "stream",
     "text": [
      "[Parallel(n_jobs=3)]: Done   3 out of   3 | elapsed:   29.5s finished\n"
     ]
    },
    {
     "name": "stdout",
     "output_type": "stream",
     "text": [
      "Fitting 3 folds for each of 1 candidates, totalling 3 fits\n"
     ]
    },
    {
     "name": "stderr",
     "output_type": "stream",
     "text": [
      "[Parallel(n_jobs=3)]: Using backend LokyBackend with 3 concurrent workers.\n",
      "[Parallel(n_jobs=3)]: Done   3 out of   3 | elapsed:   36.8s finished\n"
     ]
    },
    {
     "name": "stdout",
     "output_type": "stream",
     "text": [
      "Fitting 3 folds for each of 1 candidates, totalling 3 fits\n"
     ]
    },
    {
     "name": "stderr",
     "output_type": "stream",
     "text": [
      "[Parallel(n_jobs=3)]: Using backend LokyBackend with 3 concurrent workers.\n",
      "[Parallel(n_jobs=3)]: Done   3 out of   3 | elapsed:   30.4s finished\n"
     ]
    },
    {
     "name": "stdout",
     "output_type": "stream",
     "text": [
      "Fitting 3 folds for each of 1 candidates, totalling 3 fits\n"
     ]
    },
    {
     "name": "stderr",
     "output_type": "stream",
     "text": [
      "[Parallel(n_jobs=3)]: Using backend LokyBackend with 3 concurrent workers.\n",
      "[Parallel(n_jobs=3)]: Done   3 out of   3 | elapsed:  1.4min finished\n"
     ]
    },
    {
     "name": "stdout",
     "output_type": "stream",
     "text": [
      "Fitting 3 folds for each of 1 candidates, totalling 3 fits\n"
     ]
    },
    {
     "name": "stderr",
     "output_type": "stream",
     "text": [
      "[Parallel(n_jobs=3)]: Using backend LokyBackend with 3 concurrent workers.\n",
      "[Parallel(n_jobs=3)]: Done   3 out of   3 | elapsed:   29.0s finished\n"
     ]
    },
    {
     "name": "stdout",
     "output_type": "stream",
     "text": [
      "Fitting 3 folds for each of 1 candidates, totalling 3 fits\n"
     ]
    },
    {
     "name": "stderr",
     "output_type": "stream",
     "text": [
      "[Parallel(n_jobs=3)]: Using backend LokyBackend with 3 concurrent workers.\n",
      "[Parallel(n_jobs=3)]: Done   3 out of   3 | elapsed:  1.4min finished\n"
     ]
    },
    {
     "name": "stdout",
     "output_type": "stream",
     "text": [
      "Fitting 3 folds for each of 1 candidates, totalling 3 fits\n"
     ]
    },
    {
     "name": "stderr",
     "output_type": "stream",
     "text": [
      "[Parallel(n_jobs=3)]: Using backend LokyBackend with 3 concurrent workers.\n",
      "[Parallel(n_jobs=3)]: Done   3 out of   3 | elapsed:   30.1s finished\n"
     ]
    },
    {
     "name": "stdout",
     "output_type": "stream",
     "text": [
      "Fitting 3 folds for each of 1 candidates, totalling 3 fits\n"
     ]
    },
    {
     "name": "stderr",
     "output_type": "stream",
     "text": [
      "[Parallel(n_jobs=3)]: Using backend LokyBackend with 3 concurrent workers.\n",
      "[Parallel(n_jobs=3)]: Done   3 out of   3 | elapsed:   29.9s finished\n"
     ]
    },
    {
     "name": "stdout",
     "output_type": "stream",
     "text": [
      "Fitting 3 folds for each of 1 candidates, totalling 3 fits\n"
     ]
    },
    {
     "name": "stderr",
     "output_type": "stream",
     "text": [
      "[Parallel(n_jobs=3)]: Using backend LokyBackend with 3 concurrent workers.\n",
      "[Parallel(n_jobs=3)]: Done   3 out of   3 | elapsed:  1.4min finished\n"
     ]
    },
    {
     "name": "stdout",
     "output_type": "stream",
     "text": [
      "Fitting 3 folds for each of 1 candidates, totalling 3 fits\n"
     ]
    },
    {
     "name": "stderr",
     "output_type": "stream",
     "text": [
      "[Parallel(n_jobs=3)]: Using backend LokyBackend with 3 concurrent workers.\n",
      "[Parallel(n_jobs=3)]: Done   3 out of   3 | elapsed:  1.4min finished\n"
     ]
    },
    {
     "name": "stdout",
     "output_type": "stream",
     "text": [
      "Fitting 3 folds for each of 1 candidates, totalling 3 fits\n"
     ]
    },
    {
     "name": "stderr",
     "output_type": "stream",
     "text": [
      "[Parallel(n_jobs=3)]: Using backend LokyBackend with 3 concurrent workers.\n",
      "[Parallel(n_jobs=3)]: Done   3 out of   3 | elapsed:   28.9s finished\n"
     ]
    },
    {
     "name": "stdout",
     "output_type": "stream",
     "text": [
      "Fitting 3 folds for each of 1 candidates, totalling 3 fits\n"
     ]
    },
    {
     "name": "stderr",
     "output_type": "stream",
     "text": [
      "[Parallel(n_jobs=3)]: Using backend LokyBackend with 3 concurrent workers.\n",
      "[Parallel(n_jobs=3)]: Done   3 out of   3 | elapsed:   30.1s finished\n"
     ]
    },
    {
     "name": "stdout",
     "output_type": "stream",
     "text": [
      "Fitting 3 folds for each of 1 candidates, totalling 3 fits\n"
     ]
    },
    {
     "name": "stderr",
     "output_type": "stream",
     "text": [
      "[Parallel(n_jobs=3)]: Using backend LokyBackend with 3 concurrent workers.\n",
      "[Parallel(n_jobs=3)]: Done   3 out of   3 | elapsed:   29.9s finished\n"
     ]
    },
    {
     "name": "stdout",
     "output_type": "stream",
     "text": [
      "Fitting 3 folds for each of 1 candidates, totalling 3 fits\n"
     ]
    },
    {
     "name": "stderr",
     "output_type": "stream",
     "text": [
      "[Parallel(n_jobs=3)]: Using backend LokyBackend with 3 concurrent workers.\n",
      "[Parallel(n_jobs=3)]: Done   3 out of   3 | elapsed:   29.9s finished\n"
     ]
    },
    {
     "name": "stdout",
     "output_type": "stream",
     "text": [
      "Fitting 3 folds for each of 1 candidates, totalling 3 fits\n"
     ]
    },
    {
     "name": "stderr",
     "output_type": "stream",
     "text": [
      "[Parallel(n_jobs=3)]: Using backend LokyBackend with 3 concurrent workers.\n",
      "[Parallel(n_jobs=3)]: Done   3 out of   3 | elapsed:  1.7min finished\n"
     ]
    },
    {
     "name": "stdout",
     "output_type": "stream",
     "text": [
      "Fitting 3 folds for each of 1 candidates, totalling 3 fits\n"
     ]
    },
    {
     "name": "stderr",
     "output_type": "stream",
     "text": [
      "[Parallel(n_jobs=3)]: Using backend LokyBackend with 3 concurrent workers.\n",
      "[Parallel(n_jobs=3)]: Done   3 out of   3 | elapsed:   30.3s finished\n"
     ]
    },
    {
     "name": "stdout",
     "output_type": "stream",
     "text": [
      "Fitting 3 folds for each of 1 candidates, totalling 3 fits\n"
     ]
    },
    {
     "name": "stderr",
     "output_type": "stream",
     "text": [
      "[Parallel(n_jobs=3)]: Using backend LokyBackend with 3 concurrent workers.\n",
      "[Parallel(n_jobs=3)]: Done   3 out of   3 | elapsed:   30.0s finished\n"
     ]
    },
    {
     "name": "stdout",
     "output_type": "stream",
     "text": [
      "Fitting 3 folds for each of 1 candidates, totalling 3 fits\n"
     ]
    },
    {
     "name": "stderr",
     "output_type": "stream",
     "text": [
      "[Parallel(n_jobs=3)]: Using backend LokyBackend with 3 concurrent workers.\n",
      "[Parallel(n_jobs=3)]: Done   3 out of   3 | elapsed:   29.6s finished\n"
     ]
    },
    {
     "name": "stdout",
     "output_type": "stream",
     "text": [
      "Fitting 3 folds for each of 1 candidates, totalling 3 fits\n"
     ]
    },
    {
     "name": "stderr",
     "output_type": "stream",
     "text": [
      "[Parallel(n_jobs=3)]: Using backend LokyBackend with 3 concurrent workers.\n",
      "[Parallel(n_jobs=3)]: Done   3 out of   3 | elapsed:  1.5min finished\n"
     ]
    },
    {
     "name": "stdout",
     "output_type": "stream",
     "text": [
      "Fitting 3 folds for each of 1 candidates, totalling 3 fits\n"
     ]
    },
    {
     "name": "stderr",
     "output_type": "stream",
     "text": [
      "[Parallel(n_jobs=3)]: Using backend LokyBackend with 3 concurrent workers.\n",
      "[Parallel(n_jobs=3)]: Done   3 out of   3 | elapsed:  1.8min finished\n"
     ]
    },
    {
     "name": "stdout",
     "output_type": "stream",
     "text": [
      "Fitting 3 folds for each of 1 candidates, totalling 3 fits\n"
     ]
    },
    {
     "name": "stderr",
     "output_type": "stream",
     "text": [
      "[Parallel(n_jobs=3)]: Using backend LokyBackend with 3 concurrent workers.\n",
      "[Parallel(n_jobs=3)]: Done   3 out of   3 | elapsed: 31.7min finished\n"
     ]
    },
    {
     "name": "stdout",
     "output_type": "stream",
     "text": [
      "Fitting 3 folds for each of 1 candidates, totalling 3 fits\n"
     ]
    },
    {
     "name": "stderr",
     "output_type": "stream",
     "text": [
      "[Parallel(n_jobs=3)]: Using backend LokyBackend with 3 concurrent workers.\n",
      "[Parallel(n_jobs=3)]: Done   3 out of   3 | elapsed:   30.0s finished\n"
     ]
    },
    {
     "name": "stdout",
     "output_type": "stream",
     "text": [
      "Fitting 3 folds for each of 1 candidates, totalling 3 fits\n"
     ]
    },
    {
     "name": "stderr",
     "output_type": "stream",
     "text": [
      "[Parallel(n_jobs=3)]: Using backend LokyBackend with 3 concurrent workers.\n",
      "[Parallel(n_jobs=3)]: Done   3 out of   3 | elapsed:   30.4s finished\n"
     ]
    },
    {
     "name": "stdout",
     "output_type": "stream",
     "text": [
      "Fitting 3 folds for each of 1 candidates, totalling 3 fits\n"
     ]
    },
    {
     "name": "stderr",
     "output_type": "stream",
     "text": [
      "[Parallel(n_jobs=3)]: Using backend LokyBackend with 3 concurrent workers.\n",
      "[Parallel(n_jobs=3)]: Done   3 out of   3 | elapsed:   28.9s finished\n"
     ]
    },
    {
     "name": "stdout",
     "output_type": "stream",
     "text": [
      "Fitting 3 folds for each of 1 candidates, totalling 3 fits\n"
     ]
    },
    {
     "name": "stderr",
     "output_type": "stream",
     "text": [
      "[Parallel(n_jobs=3)]: Using backend LokyBackend with 3 concurrent workers.\n",
      "[Parallel(n_jobs=3)]: Done   3 out of   3 | elapsed:  1.4min finished\n"
     ]
    },
    {
     "name": "stdout",
     "output_type": "stream",
     "text": [
      "Fitting 3 folds for each of 1 candidates, totalling 3 fits\n"
     ]
    },
    {
     "name": "stderr",
     "output_type": "stream",
     "text": [
      "[Parallel(n_jobs=3)]: Using backend LokyBackend with 3 concurrent workers.\n",
      "[Parallel(n_jobs=3)]: Done   3 out of   3 | elapsed:   30.1s finished\n"
     ]
    },
    {
     "name": "stdout",
     "output_type": "stream",
     "text": [
      "Fitting 3 folds for each of 1 candidates, totalling 3 fits\n"
     ]
    },
    {
     "name": "stderr",
     "output_type": "stream",
     "text": [
      "[Parallel(n_jobs=3)]: Using backend LokyBackend with 3 concurrent workers.\n",
      "[Parallel(n_jobs=3)]: Done   3 out of   3 | elapsed:   30.6s finished\n"
     ]
    },
    {
     "name": "stdout",
     "output_type": "stream",
     "text": [
      "Fitting 3 folds for each of 1 candidates, totalling 3 fits\n"
     ]
    },
    {
     "name": "stderr",
     "output_type": "stream",
     "text": [
      "[Parallel(n_jobs=3)]: Using backend LokyBackend with 3 concurrent workers.\n",
      "[Parallel(n_jobs=3)]: Done   3 out of   3 | elapsed:   30.6s finished\n"
     ]
    },
    {
     "name": "stdout",
     "output_type": "stream",
     "text": [
      "Fitting 3 folds for each of 1 candidates, totalling 3 fits\n"
     ]
    },
    {
     "name": "stderr",
     "output_type": "stream",
     "text": [
      "[Parallel(n_jobs=3)]: Using backend LokyBackend with 3 concurrent workers.\n",
      "[Parallel(n_jobs=3)]: Done   3 out of   3 | elapsed:  1.4min finished\n"
     ]
    },
    {
     "name": "stdout",
     "output_type": "stream",
     "text": [
      "Fitting 3 folds for each of 1 candidates, totalling 3 fits\n"
     ]
    },
    {
     "name": "stderr",
     "output_type": "stream",
     "text": [
      "[Parallel(n_jobs=3)]: Using backend LokyBackend with 3 concurrent workers.\n",
      "[Parallel(n_jobs=3)]: Done   3 out of   3 | elapsed:   31.2s finished\n"
     ]
    },
    {
     "name": "stdout",
     "output_type": "stream",
     "text": [
      "Fitting 3 folds for each of 1 candidates, totalling 3 fits\n"
     ]
    },
    {
     "name": "stderr",
     "output_type": "stream",
     "text": [
      "[Parallel(n_jobs=3)]: Using backend LokyBackend with 3 concurrent workers.\n",
      "[Parallel(n_jobs=3)]: Done   3 out of   3 | elapsed:   29.8s finished\n"
     ]
    },
    {
     "name": "stdout",
     "output_type": "stream",
     "text": [
      "Fitting 3 folds for each of 1 candidates, totalling 3 fits\n"
     ]
    },
    {
     "name": "stderr",
     "output_type": "stream",
     "text": [
      "[Parallel(n_jobs=3)]: Using backend LokyBackend with 3 concurrent workers.\n",
      "[Parallel(n_jobs=3)]: Done   3 out of   3 | elapsed:   30.5s finished\n"
     ]
    },
    {
     "name": "stdout",
     "output_type": "stream",
     "text": [
      "Fitting 3 folds for each of 1 candidates, totalling 3 fits\n"
     ]
    },
    {
     "name": "stderr",
     "output_type": "stream",
     "text": [
      "[Parallel(n_jobs=3)]: Using backend LokyBackend with 3 concurrent workers.\n",
      "[Parallel(n_jobs=3)]: Done   3 out of   3 | elapsed:   30.8s finished\n"
     ]
    },
    {
     "name": "stdout",
     "output_type": "stream",
     "text": [
      "Fitting 3 folds for each of 1 candidates, totalling 3 fits\n"
     ]
    },
    {
     "name": "stderr",
     "output_type": "stream",
     "text": [
      "[Parallel(n_jobs=3)]: Using backend LokyBackend with 3 concurrent workers.\n",
      "[Parallel(n_jobs=3)]: Done   3 out of   3 | elapsed:   31.4s finished\n"
     ]
    },
    {
     "name": "stdout",
     "output_type": "stream",
     "text": [
      "Fitting 3 folds for each of 1 candidates, totalling 3 fits\n"
     ]
    },
    {
     "name": "stderr",
     "output_type": "stream",
     "text": [
      "[Parallel(n_jobs=3)]: Using backend LokyBackend with 3 concurrent workers.\n",
      "[Parallel(n_jobs=3)]: Done   3 out of   3 | elapsed:   30.2s finished\n"
     ]
    },
    {
     "name": "stdout",
     "output_type": "stream",
     "text": [
      "Fitting 3 folds for each of 1 candidates, totalling 3 fits\n"
     ]
    },
    {
     "name": "stderr",
     "output_type": "stream",
     "text": [
      "[Parallel(n_jobs=3)]: Using backend LokyBackend with 3 concurrent workers.\n",
      "[Parallel(n_jobs=3)]: Done   3 out of   3 | elapsed:   52.1s finished\n"
     ]
    },
    {
     "name": "stdout",
     "output_type": "stream",
     "text": [
      "Fitting 3 folds for each of 1 candidates, totalling 3 fits\n"
     ]
    },
    {
     "name": "stderr",
     "output_type": "stream",
     "text": [
      "[Parallel(n_jobs=3)]: Using backend LokyBackend with 3 concurrent workers.\n",
      "[Parallel(n_jobs=3)]: Done   3 out of   3 | elapsed:   30.1s finished\n"
     ]
    },
    {
     "name": "stdout",
     "output_type": "stream",
     "text": [
      "Fitting 3 folds for each of 1 candidates, totalling 3 fits\n"
     ]
    },
    {
     "name": "stderr",
     "output_type": "stream",
     "text": [
      "[Parallel(n_jobs=3)]: Using backend LokyBackend with 3 concurrent workers.\n",
      "[Parallel(n_jobs=3)]: Done   3 out of   3 | elapsed:   30.3s finished\n"
     ]
    },
    {
     "name": "stdout",
     "output_type": "stream",
     "text": [
      "Fitting 3 folds for each of 1 candidates, totalling 3 fits\n"
     ]
    },
    {
     "name": "stderr",
     "output_type": "stream",
     "text": [
      "[Parallel(n_jobs=3)]: Using backend LokyBackend with 3 concurrent workers.\n",
      "[Parallel(n_jobs=3)]: Done   3 out of   3 | elapsed:   29.9s finished\n"
     ]
    },
    {
     "name": "stdout",
     "output_type": "stream",
     "text": [
      "Fitting 3 folds for each of 1 candidates, totalling 3 fits\n"
     ]
    },
    {
     "name": "stderr",
     "output_type": "stream",
     "text": [
      "[Parallel(n_jobs=3)]: Using backend LokyBackend with 3 concurrent workers.\n",
      "[Parallel(n_jobs=3)]: Done   3 out of   3 | elapsed:   31.7s finished\n"
     ]
    },
    {
     "name": "stdout",
     "output_type": "stream",
     "text": [
      "Fitting 3 folds for each of 1 candidates, totalling 3 fits\n"
     ]
    },
    {
     "name": "stderr",
     "output_type": "stream",
     "text": [
      "[Parallel(n_jobs=3)]: Using backend LokyBackend with 3 concurrent workers.\n",
      "[Parallel(n_jobs=3)]: Done   3 out of   3 | elapsed:   30.4s finished\n"
     ]
    },
    {
     "name": "stdout",
     "output_type": "stream",
     "text": [
      "Fitting 3 folds for each of 1 candidates, totalling 3 fits\n"
     ]
    },
    {
     "name": "stderr",
     "output_type": "stream",
     "text": [
      "[Parallel(n_jobs=3)]: Using backend LokyBackend with 3 concurrent workers.\n",
      "[Parallel(n_jobs=3)]: Done   3 out of   3 | elapsed:   52.3s finished\n"
     ]
    }
   ],
   "source": [
    "X_train, X_test, y_train, y_test = cv.create_Xy(obs)\n",
    "\n",
    "pipe = imbPipeline([\n",
    "    ('smote', SMOTE(random_state=42)),\n",
    "    ('xgb', XGBClassifier(random_state=42, n_estimators=500))\n",
    "])\n",
    "\n",
    "search_params = {\n",
    "#     'smote__k_neighbors': Integer(5, 20)#,\n",
    "    'xgb__max_depth': Integer(3, 10),\n",
    "    'xgb__learning_rate': Real(0, 1),\n",
    "    'xgb__gamma': Real(0, 1),\n",
    "    'xgb__reg_lambda': Real(0, 1)\n",
    "}\n",
    "\n",
    "search_results = cv.bayes_search(X_train, y_train, pipe, search_params)"
   ]
  },
  {
   "cell_type": "code",
   "execution_count": 10,
   "metadata": {
    "ExecuteTime": {
     "end_time": "2019-01-16T20:05:55.449154Z",
     "start_time": "2019-01-16T20:05:55.407124Z"
    }
   },
   "outputs": [
    {
     "data": {
      "text/plain": [
       "0.6246704948506208"
      ]
     },
     "execution_count": 10,
     "metadata": {},
     "output_type": "execute_result"
    }
   ],
   "source": [
    "search_results.best_score_"
   ]
  },
  {
   "cell_type": "code",
   "execution_count": 11,
   "metadata": {
    "ExecuteTime": {
     "end_time": "2019-01-16T20:05:59.771300Z",
     "start_time": "2019-01-16T20:05:59.562130Z"
    }
   },
   "outputs": [
    {
     "data": {
      "text/html": [
       "<div>\n",
       "<style scoped>\n",
       "    .dataframe tbody tr th:only-of-type {\n",
       "        vertical-align: middle;\n",
       "    }\n",
       "\n",
       "    .dataframe tbody tr th {\n",
       "        vertical-align: top;\n",
       "    }\n",
       "\n",
       "    .dataframe thead th {\n",
       "        text-align: right;\n",
       "    }\n",
       "</style>\n",
       "<table border=\"1\" class=\"dataframe\">\n",
       "  <thead>\n",
       "    <tr style=\"text-align: right;\">\n",
       "      <th></th>\n",
       "      <th>split0_test_score</th>\n",
       "      <th>split1_test_score</th>\n",
       "      <th>split2_test_score</th>\n",
       "      <th>mean_test_score</th>\n",
       "      <th>std_test_score</th>\n",
       "      <th>rank_test_score</th>\n",
       "      <th>mean_fit_time</th>\n",
       "      <th>std_fit_time</th>\n",
       "      <th>mean_score_time</th>\n",
       "      <th>std_score_time</th>\n",
       "      <th>param_xgb__gamma</th>\n",
       "      <th>param_xgb__learning_rate</th>\n",
       "      <th>param_xgb__max_depth</th>\n",
       "      <th>param_xgb__reg_lambda</th>\n",
       "      <th>params</th>\n",
       "    </tr>\n",
       "  </thead>\n",
       "  <tbody>\n",
       "    <tr>\n",
       "      <th>48</th>\n",
       "      <td>0.635041</td>\n",
       "      <td>0.597432</td>\n",
       "      <td>0.641538</td>\n",
       "      <td>0.624670</td>\n",
       "      <td>0.019442</td>\n",
       "      <td>1</td>\n",
       "      <td>29.739937</td>\n",
       "      <td>0.202219</td>\n",
       "      <td>0.427171</td>\n",
       "      <td>0.037883</td>\n",
       "      <td>1.000000</td>\n",
       "      <td>0.100464</td>\n",
       "      <td>3</td>\n",
       "      <td>0.000000</td>\n",
       "      <td>{'xgb__gamma': 1.0, 'xgb__learning_rate': 0.10...</td>\n",
       "    </tr>\n",
       "    <tr>\n",
       "      <th>47</th>\n",
       "      <td>0.635505</td>\n",
       "      <td>0.595208</td>\n",
       "      <td>0.640787</td>\n",
       "      <td>0.623833</td>\n",
       "      <td>0.020356</td>\n",
       "      <td>1</td>\n",
       "      <td>30.838834</td>\n",
       "      <td>0.328485</td>\n",
       "      <td>0.416149</td>\n",
       "      <td>0.046073</td>\n",
       "      <td>1.000000</td>\n",
       "      <td>0.105429</td>\n",
       "      <td>3</td>\n",
       "      <td>1.000000</td>\n",
       "      <td>{'xgb__gamma': 1.0, 'xgb__learning_rate': 0.10...</td>\n",
       "    </tr>\n",
       "    <tr>\n",
       "      <th>46</th>\n",
       "      <td>0.633298</td>\n",
       "      <td>0.595890</td>\n",
       "      <td>0.640164</td>\n",
       "      <td>0.623117</td>\n",
       "      <td>0.019456</td>\n",
       "      <td>1</td>\n",
       "      <td>29.259307</td>\n",
       "      <td>0.101379</td>\n",
       "      <td>0.487873</td>\n",
       "      <td>0.024711</td>\n",
       "      <td>1.000000</td>\n",
       "      <td>0.106285</td>\n",
       "      <td>3</td>\n",
       "      <td>1.000000</td>\n",
       "      <td>{'xgb__gamma': 1.0, 'xgb__learning_rate': 0.10...</td>\n",
       "    </tr>\n",
       "    <tr>\n",
       "      <th>45</th>\n",
       "      <td>0.634270</td>\n",
       "      <td>0.591510</td>\n",
       "      <td>0.642188</td>\n",
       "      <td>0.622656</td>\n",
       "      <td>0.022259</td>\n",
       "      <td>1</td>\n",
       "      <td>29.589816</td>\n",
       "      <td>0.210543</td>\n",
       "      <td>0.422242</td>\n",
       "      <td>0.036392</td>\n",
       "      <td>1.000000</td>\n",
       "      <td>0.106889</td>\n",
       "      <td>3</td>\n",
       "      <td>1.000000</td>\n",
       "      <td>{'xgb__gamma': 1.0, 'xgb__learning_rate': 0.10...</td>\n",
       "    </tr>\n",
       "    <tr>\n",
       "      <th>44</th>\n",
       "      <td>0.629927</td>\n",
       "      <td>0.596920</td>\n",
       "      <td>0.641035</td>\n",
       "      <td>0.622627</td>\n",
       "      <td>0.018735</td>\n",
       "      <td>1</td>\n",
       "      <td>29.491282</td>\n",
       "      <td>0.273699</td>\n",
       "      <td>0.403940</td>\n",
       "      <td>0.059988</td>\n",
       "      <td>1.000000</td>\n",
       "      <td>0.109871</td>\n",
       "      <td>3</td>\n",
       "      <td>1.000000</td>\n",
       "      <td>{'xgb__gamma': 1.0, 'xgb__learning_rate': 0.10...</td>\n",
       "    </tr>\n",
       "    <tr>\n",
       "      <th>42</th>\n",
       "      <td>0.632163</td>\n",
       "      <td>0.589279</td>\n",
       "      <td>0.635759</td>\n",
       "      <td>0.619067</td>\n",
       "      <td>0.021114</td>\n",
       "      <td>1</td>\n",
       "      <td>29.528396</td>\n",
       "      <td>0.136070</td>\n",
       "      <td>0.470329</td>\n",
       "      <td>0.024252</td>\n",
       "      <td>0.807917</td>\n",
       "      <td>0.116430</td>\n",
       "      <td>3</td>\n",
       "      <td>0.961514</td>\n",
       "      <td>{'xgb__gamma': 0.8079170954164776, 'xgb__learn...</td>\n",
       "    </tr>\n",
       "    <tr>\n",
       "      <th>39</th>\n",
       "      <td>0.626942</td>\n",
       "      <td>0.588898</td>\n",
       "      <td>0.635929</td>\n",
       "      <td>0.617256</td>\n",
       "      <td>0.020385</td>\n",
       "      <td>1</td>\n",
       "      <td>29.711836</td>\n",
       "      <td>0.244713</td>\n",
       "      <td>0.445399</td>\n",
       "      <td>0.052004</td>\n",
       "      <td>0.045936</td>\n",
       "      <td>0.119733</td>\n",
       "      <td>3</td>\n",
       "      <td>0.982950</td>\n",
       "      <td>{'xgb__gamma': 0.045936045180184355, 'xgb__lea...</td>\n",
       "    </tr>\n",
       "    <tr>\n",
       "      <th>33</th>\n",
       "      <td>0.622874</td>\n",
       "      <td>0.576241</td>\n",
       "      <td>0.632731</td>\n",
       "      <td>0.610615</td>\n",
       "      <td>0.024637</td>\n",
       "      <td>1</td>\n",
       "      <td>29.511802</td>\n",
       "      <td>0.156127</td>\n",
       "      <td>0.366997</td>\n",
       "      <td>0.017965</td>\n",
       "      <td>1.000000</td>\n",
       "      <td>0.181832</td>\n",
       "      <td>3</td>\n",
       "      <td>1.000000</td>\n",
       "      <td>{'xgb__gamma': 1.0, 'xgb__learning_rate': 0.18...</td>\n",
       "    </tr>\n",
       "    <tr>\n",
       "      <th>40</th>\n",
       "      <td>0.620560</td>\n",
       "      <td>0.575294</td>\n",
       "      <td>0.627152</td>\n",
       "      <td>0.607669</td>\n",
       "      <td>0.023050</td>\n",
       "      <td>1</td>\n",
       "      <td>30.181234</td>\n",
       "      <td>0.292860</td>\n",
       "      <td>0.387510</td>\n",
       "      <td>0.049567</td>\n",
       "      <td>0.000000</td>\n",
       "      <td>0.145081</td>\n",
       "      <td>3</td>\n",
       "      <td>1.000000</td>\n",
       "      <td>{'xgb__gamma': 0.0, 'xgb__learning_rate': 0.14...</td>\n",
       "    </tr>\n",
       "    <tr>\n",
       "      <th>24</th>\n",
       "      <td>0.612650</td>\n",
       "      <td>0.580977</td>\n",
       "      <td>0.627074</td>\n",
       "      <td>0.606900</td>\n",
       "      <td>0.019253</td>\n",
       "      <td>1</td>\n",
       "      <td>29.309780</td>\n",
       "      <td>0.326295</td>\n",
       "      <td>0.304638</td>\n",
       "      <td>0.035482</td>\n",
       "      <td>1.000000</td>\n",
       "      <td>0.186432</td>\n",
       "      <td>3</td>\n",
       "      <td>1.000000</td>\n",
       "      <td>{'xgb__gamma': 1.0, 'xgb__learning_rate': 0.18...</td>\n",
       "    </tr>\n",
       "    <tr>\n",
       "      <th>34</th>\n",
       "      <td>0.619552</td>\n",
       "      <td>0.572791</td>\n",
       "      <td>0.626200</td>\n",
       "      <td>0.606181</td>\n",
       "      <td>0.023766</td>\n",
       "      <td>1</td>\n",
       "      <td>29.945967</td>\n",
       "      <td>0.296099</td>\n",
       "      <td>0.339412</td>\n",
       "      <td>0.054768</td>\n",
       "      <td>1.000000</td>\n",
       "      <td>0.177841</td>\n",
       "      <td>3</td>\n",
       "      <td>1.000000</td>\n",
       "      <td>{'xgb__gamma': 1.0, 'xgb__learning_rate': 0.17...</td>\n",
       "    </tr>\n",
       "    <tr>\n",
       "      <th>38</th>\n",
       "      <td>0.618940</td>\n",
       "      <td>0.571947</td>\n",
       "      <td>0.623202</td>\n",
       "      <td>0.604696</td>\n",
       "      <td>0.023222</td>\n",
       "      <td>1</td>\n",
       "      <td>29.320772</td>\n",
       "      <td>0.240985</td>\n",
       "      <td>0.329928</td>\n",
       "      <td>0.065779</td>\n",
       "      <td>1.000000</td>\n",
       "      <td>0.187214</td>\n",
       "      <td>3</td>\n",
       "      <td>1.000000</td>\n",
       "      <td>{'xgb__gamma': 1.0, 'xgb__learning_rate': 0.18...</td>\n",
       "    </tr>\n",
       "    <tr>\n",
       "      <th>21</th>\n",
       "      <td>0.607915</td>\n",
       "      <td>0.575763</td>\n",
       "      <td>0.630174</td>\n",
       "      <td>0.604617</td>\n",
       "      <td>0.022335</td>\n",
       "      <td>1</td>\n",
       "      <td>29.175926</td>\n",
       "      <td>0.307469</td>\n",
       "      <td>0.297904</td>\n",
       "      <td>0.037809</td>\n",
       "      <td>0.979430</td>\n",
       "      <td>0.205062</td>\n",
       "      <td>3</td>\n",
       "      <td>0.979229</td>\n",
       "      <td>{'xgb__gamma': 0.9794304871469933, 'xgb__learn...</td>\n",
       "    </tr>\n",
       "    <tr>\n",
       "      <th>28</th>\n",
       "      <td>0.614671</td>\n",
       "      <td>0.568120</td>\n",
       "      <td>0.629017</td>\n",
       "      <td>0.603936</td>\n",
       "      <td>0.025994</td>\n",
       "      <td>1</td>\n",
       "      <td>1899.671193</td>\n",
       "      <td>0.082265</td>\n",
       "      <td>0.434315</td>\n",
       "      <td>0.041435</td>\n",
       "      <td>1.000000</td>\n",
       "      <td>0.176291</td>\n",
       "      <td>3</td>\n",
       "      <td>1.000000</td>\n",
       "      <td>{'xgb__gamma': 1.0, 'xgb__learning_rate': 0.17...</td>\n",
       "    </tr>\n",
       "    <tr>\n",
       "      <th>20</th>\n",
       "      <td>0.605528</td>\n",
       "      <td>0.573032</td>\n",
       "      <td>0.629249</td>\n",
       "      <td>0.602603</td>\n",
       "      <td>0.023044</td>\n",
       "      <td>1</td>\n",
       "      <td>29.285216</td>\n",
       "      <td>0.157217</td>\n",
       "      <td>0.358691</td>\n",
       "      <td>0.029916</td>\n",
       "      <td>1.000000</td>\n",
       "      <td>0.202184</td>\n",
       "      <td>3</td>\n",
       "      <td>1.000000</td>\n",
       "      <td>{'xgb__gamma': 1.0, 'xgb__learning_rate': 0.20...</td>\n",
       "    </tr>\n",
       "    <tr>\n",
       "      <th>35</th>\n",
       "      <td>0.605200</td>\n",
       "      <td>0.574383</td>\n",
       "      <td>0.627817</td>\n",
       "      <td>0.602467</td>\n",
       "      <td>0.021900</td>\n",
       "      <td>1</td>\n",
       "      <td>29.614985</td>\n",
       "      <td>0.451951</td>\n",
       "      <td>0.357119</td>\n",
       "      <td>0.024192</td>\n",
       "      <td>1.000000</td>\n",
       "      <td>0.179206</td>\n",
       "      <td>3</td>\n",
       "      <td>1.000000</td>\n",
       "      <td>{'xgb__gamma': 1.0, 'xgb__learning_rate': 0.17...</td>\n",
       "    </tr>\n",
       "    <tr>\n",
       "      <th>7</th>\n",
       "      <td>0.612384</td>\n",
       "      <td>0.570304</td>\n",
       "      <td>0.622575</td>\n",
       "      <td>0.601754</td>\n",
       "      <td>0.022624</td>\n",
       "      <td>1</td>\n",
       "      <td>30.969683</td>\n",
       "      <td>0.146965</td>\n",
       "      <td>0.461371</td>\n",
       "      <td>0.040567</td>\n",
       "      <td>0.336181</td>\n",
       "      <td>0.172049</td>\n",
       "      <td>3</td>\n",
       "      <td>0.984469</td>\n",
       "      <td>{'xgb__gamma': 0.3361808375578738, 'xgb__learn...</td>\n",
       "    </tr>\n",
       "    <tr>\n",
       "      <th>23</th>\n",
       "      <td>0.609760</td>\n",
       "      <td>0.573154</td>\n",
       "      <td>0.621029</td>\n",
       "      <td>0.601314</td>\n",
       "      <td>0.020437</td>\n",
       "      <td>1</td>\n",
       "      <td>29.635349</td>\n",
       "      <td>0.348571</td>\n",
       "      <td>0.209902</td>\n",
       "      <td>0.034226</td>\n",
       "      <td>0.970836</td>\n",
       "      <td>0.334190</td>\n",
       "      <td>3</td>\n",
       "      <td>0.968445</td>\n",
       "      <td>{'xgb__gamma': 0.9708356706078108, 'xgb__learn...</td>\n",
       "    </tr>\n",
       "    <tr>\n",
       "      <th>29</th>\n",
       "      <td>0.607764</td>\n",
       "      <td>0.574439</td>\n",
       "      <td>0.621610</td>\n",
       "      <td>0.601271</td>\n",
       "      <td>0.019797</td>\n",
       "      <td>1</td>\n",
       "      <td>29.493426</td>\n",
       "      <td>0.304283</td>\n",
       "      <td>0.262337</td>\n",
       "      <td>0.032855</td>\n",
       "      <td>1.000000</td>\n",
       "      <td>0.249952</td>\n",
       "      <td>3</td>\n",
       "      <td>1.000000</td>\n",
       "      <td>{'xgb__gamma': 1.0, 'xgb__learning_rate': 0.24...</td>\n",
       "    </tr>\n",
       "    <tr>\n",
       "      <th>12</th>\n",
       "      <td>0.597009</td>\n",
       "      <td>0.573633</td>\n",
       "      <td>0.609465</td>\n",
       "      <td>0.593369</td>\n",
       "      <td>0.014853</td>\n",
       "      <td>1</td>\n",
       "      <td>28.614516</td>\n",
       "      <td>0.141443</td>\n",
       "      <td>0.185768</td>\n",
       "      <td>0.011856</td>\n",
       "      <td>1.000000</td>\n",
       "      <td>0.444122</td>\n",
       "      <td>3</td>\n",
       "      <td>1.000000</td>\n",
       "      <td>{'xgb__gamma': 1.0, 'xgb__learning_rate': 0.44...</td>\n",
       "    </tr>\n",
       "    <tr>\n",
       "      <th>41</th>\n",
       "      <td>0.595595</td>\n",
       "      <td>0.556550</td>\n",
       "      <td>0.614532</td>\n",
       "      <td>0.588892</td>\n",
       "      <td>0.024141</td>\n",
       "      <td>1</td>\n",
       "      <td>30.620853</td>\n",
       "      <td>0.242111</td>\n",
       "      <td>0.479693</td>\n",
       "      <td>0.027792</td>\n",
       "      <td>0.088595</td>\n",
       "      <td>0.218421</td>\n",
       "      <td>3</td>\n",
       "      <td>0.911134</td>\n",
       "      <td>{'xgb__gamma': 0.08859532038629893, 'xgb__lear...</td>\n",
       "    </tr>\n",
       "    <tr>\n",
       "      <th>18</th>\n",
       "      <td>0.589798</td>\n",
       "      <td>0.563124</td>\n",
       "      <td>0.613160</td>\n",
       "      <td>0.588694</td>\n",
       "      <td>0.020442</td>\n",
       "      <td>1</td>\n",
       "      <td>28.409254</td>\n",
       "      <td>0.342384</td>\n",
       "      <td>0.186644</td>\n",
       "      <td>0.011349</td>\n",
       "      <td>1.000000</td>\n",
       "      <td>0.532598</td>\n",
       "      <td>3</td>\n",
       "      <td>1.000000</td>\n",
       "      <td>{'xgb__gamma': 1.0, 'xgb__learning_rate': 0.53...</td>\n",
       "    </tr>\n",
       "    <tr>\n",
       "      <th>25</th>\n",
       "      <td>0.585925</td>\n",
       "      <td>0.564775</td>\n",
       "      <td>0.606922</td>\n",
       "      <td>0.585874</td>\n",
       "      <td>0.017206</td>\n",
       "      <td>1</td>\n",
       "      <td>28.899445</td>\n",
       "      <td>0.345239</td>\n",
       "      <td>0.231057</td>\n",
       "      <td>0.005749</td>\n",
       "      <td>0.855011</td>\n",
       "      <td>0.376304</td>\n",
       "      <td>3</td>\n",
       "      <td>0.069431</td>\n",
       "      <td>{'xgb__gamma': 0.8550113230091827, 'xgb__learn...</td>\n",
       "    </tr>\n",
       "    <tr>\n",
       "      <th>31</th>\n",
       "      <td>0.598166</td>\n",
       "      <td>0.552862</td>\n",
       "      <td>0.599790</td>\n",
       "      <td>0.583606</td>\n",
       "      <td>0.021750</td>\n",
       "      <td>1</td>\n",
       "      <td>28.419750</td>\n",
       "      <td>0.203550</td>\n",
       "      <td>0.217037</td>\n",
       "      <td>0.058196</td>\n",
       "      <td>0.937354</td>\n",
       "      <td>0.503760</td>\n",
       "      <td>3</td>\n",
       "      <td>0.105033</td>\n",
       "      <td>{'xgb__gamma': 0.9373538843415932, 'xgb__learn...</td>\n",
       "    </tr>\n",
       "    <tr>\n",
       "      <th>6</th>\n",
       "      <td>0.586282</td>\n",
       "      <td>0.561790</td>\n",
       "      <td>0.597818</td>\n",
       "      <td>0.581963</td>\n",
       "      <td>0.015022</td>\n",
       "      <td>1</td>\n",
       "      <td>37.381313</td>\n",
       "      <td>0.035619</td>\n",
       "      <td>0.576406</td>\n",
       "      <td>0.064238</td>\n",
       "      <td>0.908939</td>\n",
       "      <td>0.142565</td>\n",
       "      <td>4</td>\n",
       "      <td>0.178131</td>\n",
       "      <td>{'xgb__gamma': 0.9089393370785067, 'xgb__learn...</td>\n",
       "    </tr>\n",
       "    <tr>\n",
       "      <th>30</th>\n",
       "      <td>0.586999</td>\n",
       "      <td>0.551460</td>\n",
       "      <td>0.605290</td>\n",
       "      <td>0.581250</td>\n",
       "      <td>0.022349</td>\n",
       "      <td>1</td>\n",
       "      <td>29.681892</td>\n",
       "      <td>0.410577</td>\n",
       "      <td>0.197054</td>\n",
       "      <td>0.027213</td>\n",
       "      <td>0.981062</td>\n",
       "      <td>0.599986</td>\n",
       "      <td>3</td>\n",
       "      <td>0.211517</td>\n",
       "      <td>{'xgb__gamma': 0.9810621247084699, 'xgb__learn...</td>\n",
       "    </tr>\n",
       "    <tr>\n",
       "      <th>14</th>\n",
       "      <td>0.583043</td>\n",
       "      <td>0.548351</td>\n",
       "      <td>0.602398</td>\n",
       "      <td>0.577930</td>\n",
       "      <td>0.022359</td>\n",
       "      <td>1</td>\n",
       "      <td>29.256888</td>\n",
       "      <td>0.392584</td>\n",
       "      <td>0.402089</td>\n",
       "      <td>0.039893</td>\n",
       "      <td>0.000000</td>\n",
       "      <td>0.322435</td>\n",
       "      <td>3</td>\n",
       "      <td>1.000000</td>\n",
       "      <td>{'xgb__gamma': 0.0, 'xgb__learning_rate': 0.32...</td>\n",
       "    </tr>\n",
       "    <tr>\n",
       "      <th>4</th>\n",
       "      <td>0.581644</td>\n",
       "      <td>0.548927</td>\n",
       "      <td>0.598389</td>\n",
       "      <td>0.576320</td>\n",
       "      <td>0.020541</td>\n",
       "      <td>1</td>\n",
       "      <td>38.030854</td>\n",
       "      <td>0.379332</td>\n",
       "      <td>0.596985</td>\n",
       "      <td>0.066082</td>\n",
       "      <td>0.285737</td>\n",
       "      <td>0.140085</td>\n",
       "      <td>4</td>\n",
       "      <td>0.526456</td>\n",
       "      <td>{'xgb__gamma': 0.2857365848428742, 'xgb__learn...</td>\n",
       "    </tr>\n",
       "    <tr>\n",
       "      <th>27</th>\n",
       "      <td>0.579295</td>\n",
       "      <td>0.542627</td>\n",
       "      <td>0.588656</td>\n",
       "      <td>0.570193</td>\n",
       "      <td>0.019863</td>\n",
       "      <td>1</td>\n",
       "      <td>109.338134</td>\n",
       "      <td>0.509460</td>\n",
       "      <td>0.289884</td>\n",
       "      <td>0.014740</td>\n",
       "      <td>0.967505</td>\n",
       "      <td>0.910323</td>\n",
       "      <td>3</td>\n",
       "      <td>0.005567</td>\n",
       "      <td>{'xgb__gamma': 0.9675053570093741, 'xgb__learn...</td>\n",
       "    </tr>\n",
       "    <tr>\n",
       "      <th>19</th>\n",
       "      <td>0.570193</td>\n",
       "      <td>0.536687</td>\n",
       "      <td>0.598507</td>\n",
       "      <td>0.568462</td>\n",
       "      <td>0.025268</td>\n",
       "      <td>1</td>\n",
       "      <td>29.443612</td>\n",
       "      <td>0.221910</td>\n",
       "      <td>0.419573</td>\n",
       "      <td>0.041257</td>\n",
       "      <td>0.000000</td>\n",
       "      <td>0.471130</td>\n",
       "      <td>3</td>\n",
       "      <td>0.000000</td>\n",
       "      <td>{'xgb__gamma': 0.0, 'xgb__learning_rate': 0.47...</td>\n",
       "    </tr>\n",
       "    <tr>\n",
       "      <th>8</th>\n",
       "      <td>0.570207</td>\n",
       "      <td>0.534793</td>\n",
       "      <td>0.591812</td>\n",
       "      <td>0.565604</td>\n",
       "      <td>0.023505</td>\n",
       "      <td>1</td>\n",
       "      <td>29.182868</td>\n",
       "      <td>0.127121</td>\n",
       "      <td>0.233215</td>\n",
       "      <td>0.041248</td>\n",
       "      <td>0.673505</td>\n",
       "      <td>0.838246</td>\n",
       "      <td>3</td>\n",
       "      <td>0.912510</td>\n",
       "      <td>{'xgb__gamma': 0.6735053295616655, 'xgb__learn...</td>\n",
       "    </tr>\n",
       "    <tr>\n",
       "      <th>1</th>\n",
       "      <td>0.572691</td>\n",
       "      <td>0.537566</td>\n",
       "      <td>0.578940</td>\n",
       "      <td>0.563066</td>\n",
       "      <td>0.018210</td>\n",
       "      <td>1</td>\n",
       "      <td>44.590180</td>\n",
       "      <td>0.660331</td>\n",
       "      <td>0.432369</td>\n",
       "      <td>0.080863</td>\n",
       "      <td>0.734994</td>\n",
       "      <td>0.222917</td>\n",
       "      <td>5</td>\n",
       "      <td>0.023769</td>\n",
       "      <td>{'xgb__gamma': 0.7349943621148796, 'xgb__learn...</td>\n",
       "    </tr>\n",
       "    <tr>\n",
       "      <th>5</th>\n",
       "      <td>0.567386</td>\n",
       "      <td>0.547105</td>\n",
       "      <td>0.571832</td>\n",
       "      <td>0.562108</td>\n",
       "      <td>0.010763</td>\n",
       "      <td>1</td>\n",
       "      <td>53.942461</td>\n",
       "      <td>0.446950</td>\n",
       "      <td>0.607030</td>\n",
       "      <td>0.092276</td>\n",
       "      <td>0.942332</td>\n",
       "      <td>0.104090</td>\n",
       "      <td>6</td>\n",
       "      <td>0.298110</td>\n",
       "      <td>{'xgb__gamma': 0.9423324493978618, 'xgb__learn...</td>\n",
       "    </tr>\n",
       "    <tr>\n",
       "      <th>37</th>\n",
       "      <td>0.564897</td>\n",
       "      <td>0.530856</td>\n",
       "      <td>0.582467</td>\n",
       "      <td>0.559406</td>\n",
       "      <td>0.021425</td>\n",
       "      <td>1</td>\n",
       "      <td>30.313163</td>\n",
       "      <td>0.298019</td>\n",
       "      <td>0.435861</td>\n",
       "      <td>0.045470</td>\n",
       "      <td>0.018453</td>\n",
       "      <td>0.599384</td>\n",
       "      <td>3</td>\n",
       "      <td>0.841522</td>\n",
       "      <td>{'xgb__gamma': 0.018452832628828245, 'xgb__lea...</td>\n",
       "    </tr>\n",
       "    <tr>\n",
       "      <th>43</th>\n",
       "      <td>0.560029</td>\n",
       "      <td>0.528240</td>\n",
       "      <td>0.574654</td>\n",
       "      <td>0.554307</td>\n",
       "      <td>0.019375</td>\n",
       "      <td>1</td>\n",
       "      <td>51.300674</td>\n",
       "      <td>0.497374</td>\n",
       "      <td>0.204874</td>\n",
       "      <td>0.021920</td>\n",
       "      <td>1.000000</td>\n",
       "      <td>0.457033</td>\n",
       "      <td>6</td>\n",
       "      <td>1.000000</td>\n",
       "      <td>{'xgb__gamma': 1.0, 'xgb__learning_rate': 0.45...</td>\n",
       "    </tr>\n",
       "    <tr>\n",
       "      <th>0</th>\n",
       "      <td>0.565983</td>\n",
       "      <td>0.531361</td>\n",
       "      <td>0.565446</td>\n",
       "      <td>0.554263</td>\n",
       "      <td>0.016196</td>\n",
       "      <td>1</td>\n",
       "      <td>43.689327</td>\n",
       "      <td>0.622828</td>\n",
       "      <td>0.186438</td>\n",
       "      <td>0.039537</td>\n",
       "      <td>0.872913</td>\n",
       "      <td>0.709558</td>\n",
       "      <td>5</td>\n",
       "      <td>0.348487</td>\n",
       "      <td>{'xgb__gamma': 0.8729128869216546, 'xgb__learn...</td>\n",
       "    </tr>\n",
       "    <tr>\n",
       "      <th>9</th>\n",
       "      <td>0.560194</td>\n",
       "      <td>0.528900</td>\n",
       "      <td>0.572095</td>\n",
       "      <td>0.553729</td>\n",
       "      <td>0.018217</td>\n",
       "      <td>1</td>\n",
       "      <td>36.211147</td>\n",
       "      <td>0.266338</td>\n",
       "      <td>0.192744</td>\n",
       "      <td>0.025667</td>\n",
       "      <td>0.682261</td>\n",
       "      <td>0.979499</td>\n",
       "      <td>4</td>\n",
       "      <td>0.589768</td>\n",
       "      <td>{'xgb__gamma': 0.682261263019462, 'xgb__learni...</td>\n",
       "    </tr>\n",
       "    <tr>\n",
       "      <th>49</th>\n",
       "      <td>0.551984</td>\n",
       "      <td>0.528283</td>\n",
       "      <td>0.568724</td>\n",
       "      <td>0.549664</td>\n",
       "      <td>0.016592</td>\n",
       "      <td>1</td>\n",
       "      <td>51.221335</td>\n",
       "      <td>0.803907</td>\n",
       "      <td>0.209596</td>\n",
       "      <td>0.047717</td>\n",
       "      <td>0.950797</td>\n",
       "      <td>0.588192</td>\n",
       "      <td>6</td>\n",
       "      <td>0.725787</td>\n",
       "      <td>{'xgb__gamma': 0.9507967640212445, 'xgb__learn...</td>\n",
       "    </tr>\n",
       "    <tr>\n",
       "      <th>2</th>\n",
       "      <td>0.535381</td>\n",
       "      <td>0.516171</td>\n",
       "      <td>0.563528</td>\n",
       "      <td>0.538360</td>\n",
       "      <td>0.019448</td>\n",
       "      <td>1</td>\n",
       "      <td>76.907370</td>\n",
       "      <td>0.947162</td>\n",
       "      <td>0.946299</td>\n",
       "      <td>0.072650</td>\n",
       "      <td>0.387861</td>\n",
       "      <td>0.130901</td>\n",
       "      <td>9</td>\n",
       "      <td>0.156006</td>\n",
       "      <td>{'xgb__gamma': 0.3878611399060581, 'xgb__learn...</td>\n",
       "    </tr>\n",
       "    <tr>\n",
       "      <th>16</th>\n",
       "      <td>0.534689</td>\n",
       "      <td>0.507372</td>\n",
       "      <td>0.568480</td>\n",
       "      <td>0.536847</td>\n",
       "      <td>0.024994</td>\n",
       "      <td>1</td>\n",
       "      <td>81.302026</td>\n",
       "      <td>1.120610</td>\n",
       "      <td>0.253179</td>\n",
       "      <td>0.040608</td>\n",
       "      <td>1.000000</td>\n",
       "      <td>0.513740</td>\n",
       "      <td>10</td>\n",
       "      <td>1.000000</td>\n",
       "      <td>{'xgb__gamma': 1.0, 'xgb__learning_rate': 0.51...</td>\n",
       "    </tr>\n",
       "    <tr>\n",
       "      <th>26</th>\n",
       "      <td>0.537100</td>\n",
       "      <td>0.514283</td>\n",
       "      <td>0.557146</td>\n",
       "      <td>0.536176</td>\n",
       "      <td>0.017511</td>\n",
       "      <td>1</td>\n",
       "      <td>87.439810</td>\n",
       "      <td>1.203694</td>\n",
       "      <td>0.307079</td>\n",
       "      <td>0.048305</td>\n",
       "      <td>0.877446</td>\n",
       "      <td>0.323443</td>\n",
       "      <td>10</td>\n",
       "      <td>0.937659</td>\n",
       "      <td>{'xgb__gamma': 0.8774460399366028, 'xgb__learn...</td>\n",
       "    </tr>\n",
       "    <tr>\n",
       "      <th>36</th>\n",
       "      <td>0.538941</td>\n",
       "      <td>0.507809</td>\n",
       "      <td>0.558369</td>\n",
       "      <td>0.535039</td>\n",
       "      <td>0.020825</td>\n",
       "      <td>1</td>\n",
       "      <td>80.672049</td>\n",
       "      <td>1.516247</td>\n",
       "      <td>0.189702</td>\n",
       "      <td>0.035007</td>\n",
       "      <td>0.977990</td>\n",
       "      <td>0.658061</td>\n",
       "      <td>10</td>\n",
       "      <td>0.813114</td>\n",
       "      <td>{'xgb__gamma': 0.9779900861303977, 'xgb__learn...</td>\n",
       "    </tr>\n",
       "    <tr>\n",
       "      <th>3</th>\n",
       "      <td>0.538535</td>\n",
       "      <td>0.505917</td>\n",
       "      <td>0.558133</td>\n",
       "      <td>0.534195</td>\n",
       "      <td>0.021537</td>\n",
       "      <td>1</td>\n",
       "      <td>37.564669</td>\n",
       "      <td>0.448422</td>\n",
       "      <td>0.541850</td>\n",
       "      <td>0.060156</td>\n",
       "      <td>0.076396</td>\n",
       "      <td>0.714867</td>\n",
       "      <td>4</td>\n",
       "      <td>0.330742</td>\n",
       "      <td>{'xgb__gamma': 0.0763961465924289, 'xgb__learn...</td>\n",
       "    </tr>\n",
       "    <tr>\n",
       "      <th>11</th>\n",
       "      <td>0.535236</td>\n",
       "      <td>0.503703</td>\n",
       "      <td>0.562764</td>\n",
       "      <td>0.533901</td>\n",
       "      <td>0.024130</td>\n",
       "      <td>1</td>\n",
       "      <td>82.111295</td>\n",
       "      <td>1.941965</td>\n",
       "      <td>0.202508</td>\n",
       "      <td>0.041051</td>\n",
       "      <td>1.000000</td>\n",
       "      <td>0.850605</td>\n",
       "      <td>10</td>\n",
       "      <td>0.798930</td>\n",
       "      <td>{'xgb__gamma': 1.0, 'xgb__learning_rate': 0.85...</td>\n",
       "    </tr>\n",
       "    <tr>\n",
       "      <th>32</th>\n",
       "      <td>0.528770</td>\n",
       "      <td>0.503351</td>\n",
       "      <td>0.549839</td>\n",
       "      <td>0.527320</td>\n",
       "      <td>0.019006</td>\n",
       "      <td>1</td>\n",
       "      <td>82.666226</td>\n",
       "      <td>1.534735</td>\n",
       "      <td>0.201981</td>\n",
       "      <td>0.031779</td>\n",
       "      <td>0.980666</td>\n",
       "      <td>0.981184</td>\n",
       "      <td>10</td>\n",
       "      <td>0.960729</td>\n",
       "      <td>{'xgb__gamma': 0.980665618390365, 'xgb__learni...</td>\n",
       "    </tr>\n",
       "    <tr>\n",
       "      <th>17</th>\n",
       "      <td>0.520813</td>\n",
       "      <td>0.482800</td>\n",
       "      <td>0.526503</td>\n",
       "      <td>0.510038</td>\n",
       "      <td>0.019400</td>\n",
       "      <td>1</td>\n",
       "      <td>83.931527</td>\n",
       "      <td>0.410662</td>\n",
       "      <td>1.981905</td>\n",
       "      <td>0.057372</td>\n",
       "      <td>0.036767</td>\n",
       "      <td>0.975422</td>\n",
       "      <td>10</td>\n",
       "      <td>0.010971</td>\n",
       "      <td>{'xgb__gamma': 0.03676727295222083, 'xgb__lear...</td>\n",
       "    </tr>\n",
       "    <tr>\n",
       "      <th>13</th>\n",
       "      <td>0.511106</td>\n",
       "      <td>0.485807</td>\n",
       "      <td>0.529878</td>\n",
       "      <td>0.508930</td>\n",
       "      <td>0.018058</td>\n",
       "      <td>1</td>\n",
       "      <td>83.097590</td>\n",
       "      <td>0.854018</td>\n",
       "      <td>1.097938</td>\n",
       "      <td>0.093654</td>\n",
       "      <td>0.059505</td>\n",
       "      <td>0.955162</td>\n",
       "      <td>10</td>\n",
       "      <td>0.965642</td>\n",
       "      <td>{'xgb__gamma': 0.059505190425235624, 'xgb__lea...</td>\n",
       "    </tr>\n",
       "    <tr>\n",
       "      <th>22</th>\n",
       "      <td>0.500000</td>\n",
       "      <td>0.500000</td>\n",
       "      <td>0.500000</td>\n",
       "      <td>0.500000</td>\n",
       "      <td>0.000000</td>\n",
       "      <td>1</td>\n",
       "      <td>98.241771</td>\n",
       "      <td>0.826138</td>\n",
       "      <td>3.204943</td>\n",
       "      <td>0.467373</td>\n",
       "      <td>1.000000</td>\n",
       "      <td>0.000000</td>\n",
       "      <td>10</td>\n",
       "      <td>1.000000</td>\n",
       "      <td>{'xgb__gamma': 1.0, 'xgb__learning_rate': 0.0,...</td>\n",
       "    </tr>\n",
       "    <tr>\n",
       "      <th>15</th>\n",
       "      <td>0.500000</td>\n",
       "      <td>0.500000</td>\n",
       "      <td>0.500000</td>\n",
       "      <td>0.500000</td>\n",
       "      <td>0.000000</td>\n",
       "      <td>1</td>\n",
       "      <td>29.289349</td>\n",
       "      <td>0.146535</td>\n",
       "      <td>0.410281</td>\n",
       "      <td>0.032556</td>\n",
       "      <td>0.000000</td>\n",
       "      <td>0.000000</td>\n",
       "      <td>3</td>\n",
       "      <td>0.000000</td>\n",
       "      <td>{'xgb__gamma': 0.0, 'xgb__learning_rate': 0.0,...</td>\n",
       "    </tr>\n",
       "    <tr>\n",
       "      <th>10</th>\n",
       "      <td>0.500000</td>\n",
       "      <td>0.500000</td>\n",
       "      <td>0.500000</td>\n",
       "      <td>0.500000</td>\n",
       "      <td>0.000000</td>\n",
       "      <td>1</td>\n",
       "      <td>29.793560</td>\n",
       "      <td>0.144629</td>\n",
       "      <td>0.480871</td>\n",
       "      <td>0.053072</td>\n",
       "      <td>1.000000</td>\n",
       "      <td>0.000000</td>\n",
       "      <td>3</td>\n",
       "      <td>1.000000</td>\n",
       "      <td>{'xgb__gamma': 1.0, 'xgb__learning_rate': 0.0,...</td>\n",
       "    </tr>\n",
       "  </tbody>\n",
       "</table>\n",
       "</div>"
      ],
      "text/plain": [
       "    split0_test_score  split1_test_score  split2_test_score  mean_test_score  \\\n",
       "48           0.635041           0.597432           0.641538         0.624670   \n",
       "47           0.635505           0.595208           0.640787         0.623833   \n",
       "46           0.633298           0.595890           0.640164         0.623117   \n",
       "45           0.634270           0.591510           0.642188         0.622656   \n",
       "44           0.629927           0.596920           0.641035         0.622627   \n",
       "42           0.632163           0.589279           0.635759         0.619067   \n",
       "39           0.626942           0.588898           0.635929         0.617256   \n",
       "33           0.622874           0.576241           0.632731         0.610615   \n",
       "40           0.620560           0.575294           0.627152         0.607669   \n",
       "24           0.612650           0.580977           0.627074         0.606900   \n",
       "34           0.619552           0.572791           0.626200         0.606181   \n",
       "38           0.618940           0.571947           0.623202         0.604696   \n",
       "21           0.607915           0.575763           0.630174         0.604617   \n",
       "28           0.614671           0.568120           0.629017         0.603936   \n",
       "20           0.605528           0.573032           0.629249         0.602603   \n",
       "35           0.605200           0.574383           0.627817         0.602467   \n",
       "7            0.612384           0.570304           0.622575         0.601754   \n",
       "23           0.609760           0.573154           0.621029         0.601314   \n",
       "29           0.607764           0.574439           0.621610         0.601271   \n",
       "12           0.597009           0.573633           0.609465         0.593369   \n",
       "41           0.595595           0.556550           0.614532         0.588892   \n",
       "18           0.589798           0.563124           0.613160         0.588694   \n",
       "25           0.585925           0.564775           0.606922         0.585874   \n",
       "31           0.598166           0.552862           0.599790         0.583606   \n",
       "6            0.586282           0.561790           0.597818         0.581963   \n",
       "30           0.586999           0.551460           0.605290         0.581250   \n",
       "14           0.583043           0.548351           0.602398         0.577930   \n",
       "4            0.581644           0.548927           0.598389         0.576320   \n",
       "27           0.579295           0.542627           0.588656         0.570193   \n",
       "19           0.570193           0.536687           0.598507         0.568462   \n",
       "8            0.570207           0.534793           0.591812         0.565604   \n",
       "1            0.572691           0.537566           0.578940         0.563066   \n",
       "5            0.567386           0.547105           0.571832         0.562108   \n",
       "37           0.564897           0.530856           0.582467         0.559406   \n",
       "43           0.560029           0.528240           0.574654         0.554307   \n",
       "0            0.565983           0.531361           0.565446         0.554263   \n",
       "9            0.560194           0.528900           0.572095         0.553729   \n",
       "49           0.551984           0.528283           0.568724         0.549664   \n",
       "2            0.535381           0.516171           0.563528         0.538360   \n",
       "16           0.534689           0.507372           0.568480         0.536847   \n",
       "26           0.537100           0.514283           0.557146         0.536176   \n",
       "36           0.538941           0.507809           0.558369         0.535039   \n",
       "3            0.538535           0.505917           0.558133         0.534195   \n",
       "11           0.535236           0.503703           0.562764         0.533901   \n",
       "32           0.528770           0.503351           0.549839         0.527320   \n",
       "17           0.520813           0.482800           0.526503         0.510038   \n",
       "13           0.511106           0.485807           0.529878         0.508930   \n",
       "22           0.500000           0.500000           0.500000         0.500000   \n",
       "15           0.500000           0.500000           0.500000         0.500000   \n",
       "10           0.500000           0.500000           0.500000         0.500000   \n",
       "\n",
       "    std_test_score  rank_test_score  mean_fit_time  std_fit_time  \\\n",
       "48        0.019442                1      29.739937      0.202219   \n",
       "47        0.020356                1      30.838834      0.328485   \n",
       "46        0.019456                1      29.259307      0.101379   \n",
       "45        0.022259                1      29.589816      0.210543   \n",
       "44        0.018735                1      29.491282      0.273699   \n",
       "42        0.021114                1      29.528396      0.136070   \n",
       "39        0.020385                1      29.711836      0.244713   \n",
       "33        0.024637                1      29.511802      0.156127   \n",
       "40        0.023050                1      30.181234      0.292860   \n",
       "24        0.019253                1      29.309780      0.326295   \n",
       "34        0.023766                1      29.945967      0.296099   \n",
       "38        0.023222                1      29.320772      0.240985   \n",
       "21        0.022335                1      29.175926      0.307469   \n",
       "28        0.025994                1    1899.671193      0.082265   \n",
       "20        0.023044                1      29.285216      0.157217   \n",
       "35        0.021900                1      29.614985      0.451951   \n",
       "7         0.022624                1      30.969683      0.146965   \n",
       "23        0.020437                1      29.635349      0.348571   \n",
       "29        0.019797                1      29.493426      0.304283   \n",
       "12        0.014853                1      28.614516      0.141443   \n",
       "41        0.024141                1      30.620853      0.242111   \n",
       "18        0.020442                1      28.409254      0.342384   \n",
       "25        0.017206                1      28.899445      0.345239   \n",
       "31        0.021750                1      28.419750      0.203550   \n",
       "6         0.015022                1      37.381313      0.035619   \n",
       "30        0.022349                1      29.681892      0.410577   \n",
       "14        0.022359                1      29.256888      0.392584   \n",
       "4         0.020541                1      38.030854      0.379332   \n",
       "27        0.019863                1     109.338134      0.509460   \n",
       "19        0.025268                1      29.443612      0.221910   \n",
       "8         0.023505                1      29.182868      0.127121   \n",
       "1         0.018210                1      44.590180      0.660331   \n",
       "5         0.010763                1      53.942461      0.446950   \n",
       "37        0.021425                1      30.313163      0.298019   \n",
       "43        0.019375                1      51.300674      0.497374   \n",
       "0         0.016196                1      43.689327      0.622828   \n",
       "9         0.018217                1      36.211147      0.266338   \n",
       "49        0.016592                1      51.221335      0.803907   \n",
       "2         0.019448                1      76.907370      0.947162   \n",
       "16        0.024994                1      81.302026      1.120610   \n",
       "26        0.017511                1      87.439810      1.203694   \n",
       "36        0.020825                1      80.672049      1.516247   \n",
       "3         0.021537                1      37.564669      0.448422   \n",
       "11        0.024130                1      82.111295      1.941965   \n",
       "32        0.019006                1      82.666226      1.534735   \n",
       "17        0.019400                1      83.931527      0.410662   \n",
       "13        0.018058                1      83.097590      0.854018   \n",
       "22        0.000000                1      98.241771      0.826138   \n",
       "15        0.000000                1      29.289349      0.146535   \n",
       "10        0.000000                1      29.793560      0.144629   \n",
       "\n",
       "    mean_score_time  std_score_time  param_xgb__gamma  \\\n",
       "48         0.427171        0.037883          1.000000   \n",
       "47         0.416149        0.046073          1.000000   \n",
       "46         0.487873        0.024711          1.000000   \n",
       "45         0.422242        0.036392          1.000000   \n",
       "44         0.403940        0.059988          1.000000   \n",
       "42         0.470329        0.024252          0.807917   \n",
       "39         0.445399        0.052004          0.045936   \n",
       "33         0.366997        0.017965          1.000000   \n",
       "40         0.387510        0.049567          0.000000   \n",
       "24         0.304638        0.035482          1.000000   \n",
       "34         0.339412        0.054768          1.000000   \n",
       "38         0.329928        0.065779          1.000000   \n",
       "21         0.297904        0.037809          0.979430   \n",
       "28         0.434315        0.041435          1.000000   \n",
       "20         0.358691        0.029916          1.000000   \n",
       "35         0.357119        0.024192          1.000000   \n",
       "7          0.461371        0.040567          0.336181   \n",
       "23         0.209902        0.034226          0.970836   \n",
       "29         0.262337        0.032855          1.000000   \n",
       "12         0.185768        0.011856          1.000000   \n",
       "41         0.479693        0.027792          0.088595   \n",
       "18         0.186644        0.011349          1.000000   \n",
       "25         0.231057        0.005749          0.855011   \n",
       "31         0.217037        0.058196          0.937354   \n",
       "6          0.576406        0.064238          0.908939   \n",
       "30         0.197054        0.027213          0.981062   \n",
       "14         0.402089        0.039893          0.000000   \n",
       "4          0.596985        0.066082          0.285737   \n",
       "27         0.289884        0.014740          0.967505   \n",
       "19         0.419573        0.041257          0.000000   \n",
       "8          0.233215        0.041248          0.673505   \n",
       "1          0.432369        0.080863          0.734994   \n",
       "5          0.607030        0.092276          0.942332   \n",
       "37         0.435861        0.045470          0.018453   \n",
       "43         0.204874        0.021920          1.000000   \n",
       "0          0.186438        0.039537          0.872913   \n",
       "9          0.192744        0.025667          0.682261   \n",
       "49         0.209596        0.047717          0.950797   \n",
       "2          0.946299        0.072650          0.387861   \n",
       "16         0.253179        0.040608          1.000000   \n",
       "26         0.307079        0.048305          0.877446   \n",
       "36         0.189702        0.035007          0.977990   \n",
       "3          0.541850        0.060156          0.076396   \n",
       "11         0.202508        0.041051          1.000000   \n",
       "32         0.201981        0.031779          0.980666   \n",
       "17         1.981905        0.057372          0.036767   \n",
       "13         1.097938        0.093654          0.059505   \n",
       "22         3.204943        0.467373          1.000000   \n",
       "15         0.410281        0.032556          0.000000   \n",
       "10         0.480871        0.053072          1.000000   \n",
       "\n",
       "    param_xgb__learning_rate  param_xgb__max_depth  param_xgb__reg_lambda  \\\n",
       "48                  0.100464                     3               0.000000   \n",
       "47                  0.105429                     3               1.000000   \n",
       "46                  0.106285                     3               1.000000   \n",
       "45                  0.106889                     3               1.000000   \n",
       "44                  0.109871                     3               1.000000   \n",
       "42                  0.116430                     3               0.961514   \n",
       "39                  0.119733                     3               0.982950   \n",
       "33                  0.181832                     3               1.000000   \n",
       "40                  0.145081                     3               1.000000   \n",
       "24                  0.186432                     3               1.000000   \n",
       "34                  0.177841                     3               1.000000   \n",
       "38                  0.187214                     3               1.000000   \n",
       "21                  0.205062                     3               0.979229   \n",
       "28                  0.176291                     3               1.000000   \n",
       "20                  0.202184                     3               1.000000   \n",
       "35                  0.179206                     3               1.000000   \n",
       "7                   0.172049                     3               0.984469   \n",
       "23                  0.334190                     3               0.968445   \n",
       "29                  0.249952                     3               1.000000   \n",
       "12                  0.444122                     3               1.000000   \n",
       "41                  0.218421                     3               0.911134   \n",
       "18                  0.532598                     3               1.000000   \n",
       "25                  0.376304                     3               0.069431   \n",
       "31                  0.503760                     3               0.105033   \n",
       "6                   0.142565                     4               0.178131   \n",
       "30                  0.599986                     3               0.211517   \n",
       "14                  0.322435                     3               1.000000   \n",
       "4                   0.140085                     4               0.526456   \n",
       "27                  0.910323                     3               0.005567   \n",
       "19                  0.471130                     3               0.000000   \n",
       "8                   0.838246                     3               0.912510   \n",
       "1                   0.222917                     5               0.023769   \n",
       "5                   0.104090                     6               0.298110   \n",
       "37                  0.599384                     3               0.841522   \n",
       "43                  0.457033                     6               1.000000   \n",
       "0                   0.709558                     5               0.348487   \n",
       "9                   0.979499                     4               0.589768   \n",
       "49                  0.588192                     6               0.725787   \n",
       "2                   0.130901                     9               0.156006   \n",
       "16                  0.513740                    10               1.000000   \n",
       "26                  0.323443                    10               0.937659   \n",
       "36                  0.658061                    10               0.813114   \n",
       "3                   0.714867                     4               0.330742   \n",
       "11                  0.850605                    10               0.798930   \n",
       "32                  0.981184                    10               0.960729   \n",
       "17                  0.975422                    10               0.010971   \n",
       "13                  0.955162                    10               0.965642   \n",
       "22                  0.000000                    10               1.000000   \n",
       "15                  0.000000                     3               0.000000   \n",
       "10                  0.000000                     3               1.000000   \n",
       "\n",
       "                                               params  \n",
       "48  {'xgb__gamma': 1.0, 'xgb__learning_rate': 0.10...  \n",
       "47  {'xgb__gamma': 1.0, 'xgb__learning_rate': 0.10...  \n",
       "46  {'xgb__gamma': 1.0, 'xgb__learning_rate': 0.10...  \n",
       "45  {'xgb__gamma': 1.0, 'xgb__learning_rate': 0.10...  \n",
       "44  {'xgb__gamma': 1.0, 'xgb__learning_rate': 0.10...  \n",
       "42  {'xgb__gamma': 0.8079170954164776, 'xgb__learn...  \n",
       "39  {'xgb__gamma': 0.045936045180184355, 'xgb__lea...  \n",
       "33  {'xgb__gamma': 1.0, 'xgb__learning_rate': 0.18...  \n",
       "40  {'xgb__gamma': 0.0, 'xgb__learning_rate': 0.14...  \n",
       "24  {'xgb__gamma': 1.0, 'xgb__learning_rate': 0.18...  \n",
       "34  {'xgb__gamma': 1.0, 'xgb__learning_rate': 0.17...  \n",
       "38  {'xgb__gamma': 1.0, 'xgb__learning_rate': 0.18...  \n",
       "21  {'xgb__gamma': 0.9794304871469933, 'xgb__learn...  \n",
       "28  {'xgb__gamma': 1.0, 'xgb__learning_rate': 0.17...  \n",
       "20  {'xgb__gamma': 1.0, 'xgb__learning_rate': 0.20...  \n",
       "35  {'xgb__gamma': 1.0, 'xgb__learning_rate': 0.17...  \n",
       "7   {'xgb__gamma': 0.3361808375578738, 'xgb__learn...  \n",
       "23  {'xgb__gamma': 0.9708356706078108, 'xgb__learn...  \n",
       "29  {'xgb__gamma': 1.0, 'xgb__learning_rate': 0.24...  \n",
       "12  {'xgb__gamma': 1.0, 'xgb__learning_rate': 0.44...  \n",
       "41  {'xgb__gamma': 0.08859532038629893, 'xgb__lear...  \n",
       "18  {'xgb__gamma': 1.0, 'xgb__learning_rate': 0.53...  \n",
       "25  {'xgb__gamma': 0.8550113230091827, 'xgb__learn...  \n",
       "31  {'xgb__gamma': 0.9373538843415932, 'xgb__learn...  \n",
       "6   {'xgb__gamma': 0.9089393370785067, 'xgb__learn...  \n",
       "30  {'xgb__gamma': 0.9810621247084699, 'xgb__learn...  \n",
       "14  {'xgb__gamma': 0.0, 'xgb__learning_rate': 0.32...  \n",
       "4   {'xgb__gamma': 0.2857365848428742, 'xgb__learn...  \n",
       "27  {'xgb__gamma': 0.9675053570093741, 'xgb__learn...  \n",
       "19  {'xgb__gamma': 0.0, 'xgb__learning_rate': 0.47...  \n",
       "8   {'xgb__gamma': 0.6735053295616655, 'xgb__learn...  \n",
       "1   {'xgb__gamma': 0.7349943621148796, 'xgb__learn...  \n",
       "5   {'xgb__gamma': 0.9423324493978618, 'xgb__learn...  \n",
       "37  {'xgb__gamma': 0.018452832628828245, 'xgb__lea...  \n",
       "43  {'xgb__gamma': 1.0, 'xgb__learning_rate': 0.45...  \n",
       "0   {'xgb__gamma': 0.8729128869216546, 'xgb__learn...  \n",
       "9   {'xgb__gamma': 0.682261263019462, 'xgb__learni...  \n",
       "49  {'xgb__gamma': 0.9507967640212445, 'xgb__learn...  \n",
       "2   {'xgb__gamma': 0.3878611399060581, 'xgb__learn...  \n",
       "16  {'xgb__gamma': 1.0, 'xgb__learning_rate': 0.51...  \n",
       "26  {'xgb__gamma': 0.8774460399366028, 'xgb__learn...  \n",
       "36  {'xgb__gamma': 0.9779900861303977, 'xgb__learn...  \n",
       "3   {'xgb__gamma': 0.0763961465924289, 'xgb__learn...  \n",
       "11  {'xgb__gamma': 1.0, 'xgb__learning_rate': 0.85...  \n",
       "32  {'xgb__gamma': 0.980665618390365, 'xgb__learni...  \n",
       "17  {'xgb__gamma': 0.03676727295222083, 'xgb__lear...  \n",
       "13  {'xgb__gamma': 0.059505190425235624, 'xgb__lea...  \n",
       "22  {'xgb__gamma': 1.0, 'xgb__learning_rate': 0.0,...  \n",
       "15  {'xgb__gamma': 0.0, 'xgb__learning_rate': 0.0,...  \n",
       "10  {'xgb__gamma': 1.0, 'xgb__learning_rate': 0.0,...  "
      ]
     },
     "execution_count": 11,
     "metadata": {},
     "output_type": "execute_result"
    }
   ],
   "source": [
    "pd.DataFrame(search_results.cv_results_).sort_values('mean_test_score', ascending=False)"
   ]
  },
  {
   "cell_type": "code",
   "execution_count": 12,
   "metadata": {
    "ExecuteTime": {
     "end_time": "2019-01-16T20:06:07.470393Z",
     "start_time": "2019-01-16T20:06:07.462306Z"
    }
   },
   "outputs": [
    {
     "data": {
      "text/plain": [
       "{'xgb__gamma': 1.0,\n",
       " 'xgb__learning_rate': 0.10046431004883158,\n",
       " 'xgb__max_depth': 3,\n",
       " 'xgb__reg_lambda': 0.0}"
      ]
     },
     "execution_count": 12,
     "metadata": {},
     "output_type": "execute_result"
    }
   ],
   "source": [
    "search_results.best_params_"
   ]
  },
  {
   "cell_type": "code",
   "execution_count": 13,
   "metadata": {
    "ExecuteTime": {
     "end_time": "2019-01-16T20:09:18.565582Z",
     "start_time": "2019-01-16T20:08:41.375743Z"
    }
   },
   "outputs": [
    {
     "data": {
      "text/html": [
       "<div>\n",
       "<style scoped>\n",
       "    .dataframe tbody tr th:only-of-type {\n",
       "        vertical-align: middle;\n",
       "    }\n",
       "\n",
       "    .dataframe tbody tr th {\n",
       "        vertical-align: top;\n",
       "    }\n",
       "\n",
       "    .dataframe thead th {\n",
       "        text-align: right;\n",
       "    }\n",
       "</style>\n",
       "<table border=\"1\" class=\"dataframe\">\n",
       "  <thead>\n",
       "    <tr style=\"text-align: right;\">\n",
       "      <th></th>\n",
       "      <th>avg_accuracy</th>\n",
       "      <th>std_accuracy</th>\n",
       "      <th>avg_precision</th>\n",
       "      <th>std_precision</th>\n",
       "      <th>avg_recall</th>\n",
       "      <th>std_recall</th>\n",
       "      <th>avg_f1</th>\n",
       "      <th>std_f1</th>\n",
       "      <th>avg_auc</th>\n",
       "      <th>std_auc</th>\n",
       "    </tr>\n",
       "  </thead>\n",
       "  <tbody>\n",
       "    <tr>\n",
       "      <th>xgb_tuned</th>\n",
       "      <td>0.93599</td>\n",
       "      <td>0.004699</td>\n",
       "      <td>0.213814</td>\n",
       "      <td>0.027299</td>\n",
       "      <td>0.06102</td>\n",
       "      <td>0.005549</td>\n",
       "      <td>0.094789</td>\n",
       "      <td>0.008549</td>\n",
       "      <td>0.62467</td>\n",
       "      <td>0.019442</td>\n",
       "    </tr>\n",
       "  </tbody>\n",
       "</table>\n",
       "</div>"
      ],
      "text/plain": [
       "           avg_accuracy  std_accuracy  avg_precision  std_precision  \\\n",
       "xgb_tuned       0.93599      0.004699       0.213814       0.027299   \n",
       "\n",
       "           avg_recall  std_recall    avg_f1    std_f1  avg_auc   std_auc  \n",
       "xgb_tuned     0.06102    0.005549  0.094789  0.008549  0.62467  0.019442  "
      ]
     },
     "execution_count": 13,
     "metadata": {},
     "output_type": "execute_result"
    }
   ],
   "source": [
    "model = 'xgb_tuned'\n",
    "\n",
    "cv_results = cv.cv_model(X_train, y_train, search_results.best_estimator_)\n",
    "cv.log_scores(cv_results, model)"
   ]
  },
  {
   "cell_type": "code",
   "execution_count": 14,
   "metadata": {
    "ExecuteTime": {
     "end_time": "2019-01-16T20:09:50.698791Z",
     "start_time": "2019-01-16T20:09:50.575710Z"
    }
   },
   "outputs": [
    {
     "data": {
      "text/html": [
       "<div>\n",
       "<style scoped>\n",
       "    .dataframe tbody tr th:only-of-type {\n",
       "        vertical-align: middle;\n",
       "    }\n",
       "\n",
       "    .dataframe tbody tr th {\n",
       "        vertical-align: top;\n",
       "    }\n",
       "\n",
       "    .dataframe thead th {\n",
       "        text-align: right;\n",
       "    }\n",
       "</style>\n",
       "<table border=\"1\" class=\"dataframe\">\n",
       "  <thead>\n",
       "    <tr style=\"text-align: right;\">\n",
       "      <th></th>\n",
       "      <th>avg_accuracy</th>\n",
       "      <th>std_accuracy</th>\n",
       "      <th>avg_precision</th>\n",
       "      <th>std_precision</th>\n",
       "      <th>avg_recall</th>\n",
       "      <th>std_recall</th>\n",
       "      <th>avg_f1</th>\n",
       "      <th>std_f1</th>\n",
       "      <th>avg_auc</th>\n",
       "      <th>std_auc</th>\n",
       "    </tr>\n",
       "  </thead>\n",
       "  <tbody>\n",
       "    <tr>\n",
       "      <th>log_regression</th>\n",
       "      <td>0.478189</td>\n",
       "      <td>0.003034</td>\n",
       "      <td>0.840240</td>\n",
       "      <td>0.015868</td>\n",
       "      <td>0.024764</td>\n",
       "      <td>0.000464</td>\n",
       "      <td>0.048111</td>\n",
       "      <td>0.000900</td>\n",
       "      <td>0.752486</td>\n",
       "      <td>0.009845</td>\n",
       "    </tr>\n",
       "    <tr>\n",
       "      <th>random_forest</th>\n",
       "      <td>0.930277</td>\n",
       "      <td>0.001674</td>\n",
       "      <td>0.148949</td>\n",
       "      <td>0.016731</td>\n",
       "      <td>0.039709</td>\n",
       "      <td>0.003086</td>\n",
       "      <td>0.062687</td>\n",
       "      <td>0.005337</td>\n",
       "      <td>0.531354</td>\n",
       "      <td>0.013361</td>\n",
       "    </tr>\n",
       "    <tr>\n",
       "      <th>xgb</th>\n",
       "      <td>0.936546</td>\n",
       "      <td>0.003746</td>\n",
       "      <td>0.211411</td>\n",
       "      <td>0.023783</td>\n",
       "      <td>0.061001</td>\n",
       "      <td>0.005206</td>\n",
       "      <td>0.094584</td>\n",
       "      <td>0.008094</td>\n",
       "      <td>0.619189</td>\n",
       "      <td>0.016401</td>\n",
       "    </tr>\n",
       "    <tr>\n",
       "      <th>xgb_SMOTE_Tomek</th>\n",
       "      <td>0.933256</td>\n",
       "      <td>0.007034</td>\n",
       "      <td>0.216817</td>\n",
       "      <td>0.025067</td>\n",
       "      <td>0.059006</td>\n",
       "      <td>0.003155</td>\n",
       "      <td>0.092508</td>\n",
       "      <td>0.004382</td>\n",
       "      <td>0.621756</td>\n",
       "      <td>0.015873</td>\n",
       "    </tr>\n",
       "    <tr>\n",
       "      <th>log_reg_SMOTE_Tomek</th>\n",
       "      <td>0.479056</td>\n",
       "      <td>0.003446</td>\n",
       "      <td>0.837838</td>\n",
       "      <td>0.015359</td>\n",
       "      <td>0.024738</td>\n",
       "      <td>0.000480</td>\n",
       "      <td>0.048057</td>\n",
       "      <td>0.000929</td>\n",
       "      <td>0.752859</td>\n",
       "      <td>0.010022</td>\n",
       "    </tr>\n",
       "    <tr>\n",
       "      <th>log_reg_tuned</th>\n",
       "      <td>0.479226</td>\n",
       "      <td>0.003956</td>\n",
       "      <td>0.839039</td>\n",
       "      <td>0.013669</td>\n",
       "      <td>0.024781</td>\n",
       "      <td>0.000494</td>\n",
       "      <td>0.048140</td>\n",
       "      <td>0.000953</td>\n",
       "      <td>0.752452</td>\n",
       "      <td>0.010132</td>\n",
       "    </tr>\n",
       "    <tr>\n",
       "      <th>xgb_tuned</th>\n",
       "      <td>0.935990</td>\n",
       "      <td>0.004699</td>\n",
       "      <td>0.213814</td>\n",
       "      <td>0.027299</td>\n",
       "      <td>0.061020</td>\n",
       "      <td>0.005549</td>\n",
       "      <td>0.094789</td>\n",
       "      <td>0.008549</td>\n",
       "      <td>0.624670</td>\n",
       "      <td>0.019442</td>\n",
       "    </tr>\n",
       "  </tbody>\n",
       "</table>\n",
       "</div>"
      ],
      "text/plain": [
       "                     avg_accuracy  std_accuracy  avg_precision  std_precision  \\\n",
       "log_regression           0.478189      0.003034       0.840240       0.015868   \n",
       "random_forest            0.930277      0.001674       0.148949       0.016731   \n",
       "xgb                      0.936546      0.003746       0.211411       0.023783   \n",
       "xgb_SMOTE_Tomek          0.933256      0.007034       0.216817       0.025067   \n",
       "log_reg_SMOTE_Tomek      0.479056      0.003446       0.837838       0.015359   \n",
       "log_reg_tuned            0.479226      0.003956       0.839039       0.013669   \n",
       "xgb_tuned                0.935990      0.004699       0.213814       0.027299   \n",
       "\n",
       "                     avg_recall  std_recall    avg_f1    std_f1   avg_auc  \\\n",
       "log_regression         0.024764    0.000464  0.048111  0.000900  0.752486   \n",
       "random_forest          0.039709    0.003086  0.062687  0.005337  0.531354   \n",
       "xgb                    0.061001    0.005206  0.094584  0.008094  0.619189   \n",
       "xgb_SMOTE_Tomek        0.059006    0.003155  0.092508  0.004382  0.621756   \n",
       "log_reg_SMOTE_Tomek    0.024738    0.000480  0.048057  0.000929  0.752859   \n",
       "log_reg_tuned          0.024781    0.000494  0.048140  0.000953  0.752452   \n",
       "xgb_tuned              0.061020    0.005549  0.094789  0.008549  0.624670   \n",
       "\n",
       "                      std_auc  \n",
       "log_regression       0.009845  \n",
       "random_forest        0.013361  \n",
       "xgb                  0.016401  \n",
       "xgb_SMOTE_Tomek      0.015873  \n",
       "log_reg_SMOTE_Tomek  0.010022  \n",
       "log_reg_tuned        0.010132  \n",
       "xgb_tuned            0.019442  "
      ]
     },
     "execution_count": 14,
     "metadata": {},
     "output_type": "execute_result"
    }
   ],
   "source": [
    "results = pd.read_csv(RESULTS_PATH, index_col=0)\n",
    "\n",
    "results = results.drop(index=model, errors='ignore')\n",
    "results = results.append(cv.log_scores(cv_results, model), sort=False)\n",
    "results.to_csv(RESULTS_PATH)\n",
    "results"
   ]
  },
  {
   "cell_type": "markdown",
   "metadata": {},
   "source": [
    "### Save the model\n",
    "\n",
    "The tuned model will now be pickled."
   ]
  },
  {
   "cell_type": "code",
   "execution_count": 15,
   "metadata": {
    "ExecuteTime": {
     "end_time": "2019-01-16T20:10:04.446566Z",
     "start_time": "2019-01-16T20:10:04.429426Z"
    }
   },
   "outputs": [],
   "source": [
    "import pickle\n",
    "\n",
    "MODEL_PATH = '../models/'\n",
    "XGB_PATH = os.path.join(MODEL_PATH, 'xgb_tuned.pkl')\n",
    "\n",
    "pickle.dump(search_results.best_estimator_, open(XGB_PATH, 'wb'))"
   ]
  },
  {
   "cell_type": "code",
   "execution_count": null,
   "metadata": {},
   "outputs": [],
   "source": []
  }
 ],
 "metadata": {
  "kernelspec": {
   "display_name": "Python [conda env:classification]",
   "language": "python",
   "name": "conda-env-classification-py"
  },
  "language_info": {
   "codemirror_mode": {
    "name": "ipython",
    "version": 3
   },
   "file_extension": ".py",
   "mimetype": "text/x-python",
   "name": "python",
   "nbconvert_exporter": "python",
   "pygments_lexer": "ipython3",
   "version": "3.7.1"
  }
 },
 "nbformat": 4,
 "nbformat_minor": 2
}
