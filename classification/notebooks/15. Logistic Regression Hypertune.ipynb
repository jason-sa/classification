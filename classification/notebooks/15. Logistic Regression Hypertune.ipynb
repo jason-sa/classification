{
 "cells": [
  {
   "cell_type": "markdown",
   "metadata": {},
   "source": [
    "## Hypertuning - Logistic Regression"
   ]
  },
  {
   "cell_type": "code",
   "execution_count": 1,
   "metadata": {
    "ExecuteTime": {
     "end_time": "2019-01-16T20:28:05.745520Z",
     "start_time": "2019-01-16T20:28:04.083530Z"
    }
   },
   "outputs": [],
   "source": [
    "# data manipulation\n",
    "import pandas as pd\n",
    "import os\n",
    "import numpy as np\n",
    "\n",
    "# modeling\n",
    "from sklearn.linear_model import LogisticRegression\n",
    "from sklearn.preprocessing import StandardScaler\n",
    "\n",
    "from imblearn.over_sampling import SMOTE\n",
    "from imblearn.pipeline import Pipeline as imbPipeline\n",
    "\n",
    "# parameter searching\n",
    "from skopt.space import Real, Integer, Categorical\n",
    "\n",
    "# custom helper functions\n",
    "from src.models import cross_validate as cv"
   ]
  },
  {
   "cell_type": "code",
   "execution_count": 2,
   "metadata": {
    "ExecuteTime": {
     "end_time": "2019-01-16T20:28:05.757496Z",
     "start_time": "2019-01-16T20:28:05.750517Z"
    }
   },
   "outputs": [],
   "source": [
    "DATA_PATH = '../data/processed/'\n",
    "OBS_PATH = os.path.join(DATA_PATH, 'observations_features.csv')\n",
    "RESULTS_PATH = os.path.join(DATA_PATH, 'results.csv')"
   ]
  },
  {
   "cell_type": "markdown",
   "metadata": {},
   "source": [
    "### Load Data"
   ]
  },
  {
   "cell_type": "code",
   "execution_count": 3,
   "metadata": {
    "ExecuteTime": {
     "end_time": "2019-01-16T20:28:06.393083Z",
     "start_time": "2019-01-16T20:28:05.762255Z"
    }
   },
   "outputs": [
    {
     "data": {
      "text/html": [
       "<div>\n",
       "<style scoped>\n",
       "    .dataframe tbody tr th:only-of-type {\n",
       "        vertical-align: middle;\n",
       "    }\n",
       "\n",
       "    .dataframe tbody tr th {\n",
       "        vertical-align: top;\n",
       "    }\n",
       "\n",
       "    .dataframe thead th {\n",
       "        text-align: right;\n",
       "    }\n",
       "</style>\n",
       "<table border=\"1\" class=\"dataframe\">\n",
       "  <thead>\n",
       "    <tr style=\"text-align: right;\">\n",
       "      <th></th>\n",
       "      <th>session_id</th>\n",
       "      <th>seq</th>\n",
       "      <th>buy_event</th>\n",
       "      <th>visitor_id</th>\n",
       "      <th>view_count</th>\n",
       "      <th>session_length</th>\n",
       "      <th>item_views</th>\n",
       "      <th>add_to_cart_count</th>\n",
       "      <th>transaction_count</th>\n",
       "      <th>avg_avail</th>\n",
       "    </tr>\n",
       "  </thead>\n",
       "  <tbody>\n",
       "    <tr>\n",
       "      <th>0</th>\n",
       "      <td>1000001_251341</td>\n",
       "      <td>2.0</td>\n",
       "      <td>0</td>\n",
       "      <td>1000001</td>\n",
       "      <td>1.0</td>\n",
       "      <td>0.0</td>\n",
       "      <td>1.0</td>\n",
       "      <td>0.0</td>\n",
       "      <td>0.0</td>\n",
       "      <td>0.0</td>\n",
       "    </tr>\n",
       "    <tr>\n",
       "      <th>1</th>\n",
       "      <td>1000007_251343</td>\n",
       "      <td>2.0</td>\n",
       "      <td>0</td>\n",
       "      <td>1000007</td>\n",
       "      <td>1.0</td>\n",
       "      <td>0.0</td>\n",
       "      <td>1.0</td>\n",
       "      <td>0.0</td>\n",
       "      <td>0.0</td>\n",
       "      <td>0.0</td>\n",
       "    </tr>\n",
       "    <tr>\n",
       "      <th>2</th>\n",
       "      <td>1000042_251344</td>\n",
       "      <td>2.0</td>\n",
       "      <td>0</td>\n",
       "      <td>1000042</td>\n",
       "      <td>1.0</td>\n",
       "      <td>0.0</td>\n",
       "      <td>1.0</td>\n",
       "      <td>0.0</td>\n",
       "      <td>0.0</td>\n",
       "      <td>1.0</td>\n",
       "    </tr>\n",
       "    <tr>\n",
       "      <th>3</th>\n",
       "      <td>1000057_251346</td>\n",
       "      <td>2.0</td>\n",
       "      <td>0</td>\n",
       "      <td>1000057</td>\n",
       "      <td>1.0</td>\n",
       "      <td>0.0</td>\n",
       "      <td>1.0</td>\n",
       "      <td>0.0</td>\n",
       "      <td>0.0</td>\n",
       "      <td>1.0</td>\n",
       "    </tr>\n",
       "    <tr>\n",
       "      <th>4</th>\n",
       "      <td>1000067_251351</td>\n",
       "      <td>2.0</td>\n",
       "      <td>0</td>\n",
       "      <td>1000067</td>\n",
       "      <td>1.0</td>\n",
       "      <td>0.0</td>\n",
       "      <td>1.0</td>\n",
       "      <td>0.0</td>\n",
       "      <td>0.0</td>\n",
       "      <td>0.0</td>\n",
       "    </tr>\n",
       "  </tbody>\n",
       "</table>\n",
       "</div>"
      ],
      "text/plain": [
       "       session_id  seq  buy_event  visitor_id  view_count  session_length  \\\n",
       "0  1000001_251341  2.0          0     1000001         1.0             0.0   \n",
       "1  1000007_251343  2.0          0     1000007         1.0             0.0   \n",
       "2  1000042_251344  2.0          0     1000042         1.0             0.0   \n",
       "3  1000057_251346  2.0          0     1000057         1.0             0.0   \n",
       "4  1000067_251351  2.0          0     1000067         1.0             0.0   \n",
       "\n",
       "   item_views  add_to_cart_count  transaction_count  avg_avail  \n",
       "0         1.0                0.0                0.0        0.0  \n",
       "1         1.0                0.0                0.0        0.0  \n",
       "2         1.0                0.0                0.0        1.0  \n",
       "3         1.0                0.0                0.0        1.0  \n",
       "4         1.0                0.0                0.0        0.0  "
      ]
     },
     "execution_count": 3,
     "metadata": {},
     "output_type": "execute_result"
    }
   ],
   "source": [
    "obs = pd.read_csv(OBS_PATH)\n",
    "obs.head()"
   ]
  },
  {
   "cell_type": "markdown",
   "metadata": {},
   "source": [
    "### Parameter Search\n",
    "\n",
    "We will be using `BayesSeachCV` to hypertune the parameters. `BayesSearchCV` implements Bayesian Optimization methods to estimate the distribution of the paramters, and ultimately find the set of paramters to minimize AUC, in our case."
   ]
  },
  {
   "cell_type": "code",
   "execution_count": 4,
   "metadata": {
    "ExecuteTime": {
     "end_time": "2019-01-16T20:32:31.536654Z",
     "start_time": "2019-01-16T20:28:06.418834Z"
    }
   },
   "outputs": [
    {
     "name": "stdout",
     "output_type": "stream",
     "text": [
      "Fitting 3 folds for each of 1 candidates, totalling 3 fits\n"
     ]
    },
    {
     "name": "stderr",
     "output_type": "stream",
     "text": [
      "[Parallel(n_jobs=3)]: Using backend LokyBackend with 3 concurrent workers.\n",
      "[Parallel(n_jobs=3)]: Done   3 out of   3 | elapsed:    4.4s finished\n",
      "[Parallel(n_jobs=3)]: Using backend LokyBackend with 3 concurrent workers.\n"
     ]
    },
    {
     "name": "stdout",
     "output_type": "stream",
     "text": [
      "Fitting 3 folds for each of 1 candidates, totalling 3 fits\n"
     ]
    },
    {
     "name": "stderr",
     "output_type": "stream",
     "text": [
      "[Parallel(n_jobs=3)]: Done   3 out of   3 | elapsed:    2.0s finished\n",
      "[Parallel(n_jobs=3)]: Using backend LokyBackend with 3 concurrent workers.\n"
     ]
    },
    {
     "name": "stdout",
     "output_type": "stream",
     "text": [
      "Fitting 3 folds for each of 1 candidates, totalling 3 fits\n"
     ]
    },
    {
     "name": "stderr",
     "output_type": "stream",
     "text": [
      "[Parallel(n_jobs=3)]: Done   3 out of   3 | elapsed:    1.3s finished\n",
      "[Parallel(n_jobs=3)]: Using backend LokyBackend with 3 concurrent workers.\n"
     ]
    },
    {
     "name": "stdout",
     "output_type": "stream",
     "text": [
      "Fitting 3 folds for each of 1 candidates, totalling 3 fits\n"
     ]
    },
    {
     "name": "stderr",
     "output_type": "stream",
     "text": [
      "[Parallel(n_jobs=3)]: Done   3 out of   3 | elapsed:    2.2s finished\n",
      "[Parallel(n_jobs=3)]: Using backend LokyBackend with 3 concurrent workers.\n"
     ]
    },
    {
     "name": "stdout",
     "output_type": "stream",
     "text": [
      "Fitting 3 folds for each of 1 candidates, totalling 3 fits\n"
     ]
    },
    {
     "name": "stderr",
     "output_type": "stream",
     "text": [
      "[Parallel(n_jobs=3)]: Done   3 out of   3 | elapsed:    2.8s finished\n",
      "[Parallel(n_jobs=3)]: Using backend LokyBackend with 3 concurrent workers.\n"
     ]
    },
    {
     "name": "stdout",
     "output_type": "stream",
     "text": [
      "Fitting 3 folds for each of 1 candidates, totalling 3 fits\n"
     ]
    },
    {
     "name": "stderr",
     "output_type": "stream",
     "text": [
      "[Parallel(n_jobs=3)]: Done   3 out of   3 | elapsed:    2.6s finished\n",
      "[Parallel(n_jobs=3)]: Using backend LokyBackend with 3 concurrent workers.\n"
     ]
    },
    {
     "name": "stdout",
     "output_type": "stream",
     "text": [
      "Fitting 3 folds for each of 1 candidates, totalling 3 fits\n"
     ]
    },
    {
     "name": "stderr",
     "output_type": "stream",
     "text": [
      "[Parallel(n_jobs=3)]: Done   3 out of   3 | elapsed:    2.2s finished\n",
      "[Parallel(n_jobs=3)]: Using backend LokyBackend with 3 concurrent workers.\n"
     ]
    },
    {
     "name": "stdout",
     "output_type": "stream",
     "text": [
      "Fitting 3 folds for each of 1 candidates, totalling 3 fits\n"
     ]
    },
    {
     "name": "stderr",
     "output_type": "stream",
     "text": [
      "[Parallel(n_jobs=3)]: Done   3 out of   3 | elapsed:    2.3s finished\n",
      "[Parallel(n_jobs=3)]: Using backend LokyBackend with 3 concurrent workers.\n"
     ]
    },
    {
     "name": "stdout",
     "output_type": "stream",
     "text": [
      "Fitting 3 folds for each of 1 candidates, totalling 3 fits\n"
     ]
    },
    {
     "name": "stderr",
     "output_type": "stream",
     "text": [
      "[Parallel(n_jobs=3)]: Done   3 out of   3 | elapsed:    2.7s finished\n",
      "[Parallel(n_jobs=3)]: Using backend LokyBackend with 3 concurrent workers.\n"
     ]
    },
    {
     "name": "stdout",
     "output_type": "stream",
     "text": [
      "Fitting 3 folds for each of 1 candidates, totalling 3 fits\n"
     ]
    },
    {
     "name": "stderr",
     "output_type": "stream",
     "text": [
      "[Parallel(n_jobs=3)]: Done   3 out of   3 | elapsed:    2.1s finished\n"
     ]
    },
    {
     "name": "stdout",
     "output_type": "stream",
     "text": [
      "Fitting 3 folds for each of 1 candidates, totalling 3 fits\n"
     ]
    },
    {
     "name": "stderr",
     "output_type": "stream",
     "text": [
      "[Parallel(n_jobs=3)]: Using backend LokyBackend with 3 concurrent workers.\n",
      "[Parallel(n_jobs=3)]: Done   3 out of   3 | elapsed:    2.7s finished\n"
     ]
    },
    {
     "name": "stdout",
     "output_type": "stream",
     "text": [
      "Fitting 3 folds for each of 1 candidates, totalling 3 fits\n"
     ]
    },
    {
     "name": "stderr",
     "output_type": "stream",
     "text": [
      "[Parallel(n_jobs=3)]: Using backend LokyBackend with 3 concurrent workers.\n",
      "[Parallel(n_jobs=3)]: Done   3 out of   3 | elapsed:    2.7s finished\n"
     ]
    },
    {
     "name": "stdout",
     "output_type": "stream",
     "text": [
      "Fitting 3 folds for each of 1 candidates, totalling 3 fits\n"
     ]
    },
    {
     "name": "stderr",
     "output_type": "stream",
     "text": [
      "[Parallel(n_jobs=3)]: Using backend LokyBackend with 3 concurrent workers.\n",
      "[Parallel(n_jobs=3)]: Done   3 out of   3 | elapsed:    2.6s finished\n"
     ]
    },
    {
     "name": "stdout",
     "output_type": "stream",
     "text": [
      "Fitting 3 folds for each of 1 candidates, totalling 3 fits\n"
     ]
    },
    {
     "name": "stderr",
     "output_type": "stream",
     "text": [
      "[Parallel(n_jobs=3)]: Using backend LokyBackend with 3 concurrent workers.\n",
      "[Parallel(n_jobs=3)]: Done   3 out of   3 | elapsed:    2.0s finished\n"
     ]
    },
    {
     "name": "stdout",
     "output_type": "stream",
     "text": [
      "Fitting 3 folds for each of 1 candidates, totalling 3 fits\n"
     ]
    },
    {
     "name": "stderr",
     "output_type": "stream",
     "text": [
      "[Parallel(n_jobs=3)]: Using backend LokyBackend with 3 concurrent workers.\n",
      "[Parallel(n_jobs=3)]: Done   3 out of   3 | elapsed:    2.7s finished\n"
     ]
    },
    {
     "name": "stdout",
     "output_type": "stream",
     "text": [
      "Fitting 3 folds for each of 1 candidates, totalling 3 fits\n"
     ]
    },
    {
     "name": "stderr",
     "output_type": "stream",
     "text": [
      "[Parallel(n_jobs=3)]: Using backend LokyBackend with 3 concurrent workers.\n",
      "[Parallel(n_jobs=3)]: Done   3 out of   3 | elapsed:    1.9s finished\n"
     ]
    },
    {
     "name": "stdout",
     "output_type": "stream",
     "text": [
      "Fitting 3 folds for each of 1 candidates, totalling 3 fits\n"
     ]
    },
    {
     "name": "stderr",
     "output_type": "stream",
     "text": [
      "[Parallel(n_jobs=3)]: Using backend LokyBackend with 3 concurrent workers.\n",
      "[Parallel(n_jobs=3)]: Done   3 out of   3 | elapsed:    2.1s finished\n"
     ]
    },
    {
     "name": "stdout",
     "output_type": "stream",
     "text": [
      "Fitting 3 folds for each of 1 candidates, totalling 3 fits\n"
     ]
    },
    {
     "name": "stderr",
     "output_type": "stream",
     "text": [
      "[Parallel(n_jobs=3)]: Using backend LokyBackend with 3 concurrent workers.\n",
      "[Parallel(n_jobs=3)]: Done   3 out of   3 | elapsed:    2.3s finished\n"
     ]
    },
    {
     "name": "stdout",
     "output_type": "stream",
     "text": [
      "Fitting 3 folds for each of 1 candidates, totalling 3 fits\n"
     ]
    },
    {
     "name": "stderr",
     "output_type": "stream",
     "text": [
      "[Parallel(n_jobs=3)]: Using backend LokyBackend with 3 concurrent workers.\n",
      "[Parallel(n_jobs=3)]: Done   3 out of   3 | elapsed:    2.7s finished\n"
     ]
    },
    {
     "name": "stdout",
     "output_type": "stream",
     "text": [
      "Fitting 3 folds for each of 1 candidates, totalling 3 fits\n"
     ]
    },
    {
     "name": "stderr",
     "output_type": "stream",
     "text": [
      "[Parallel(n_jobs=3)]: Using backend LokyBackend with 3 concurrent workers.\n",
      "[Parallel(n_jobs=3)]: Done   3 out of   3 | elapsed:    3.2s finished\n"
     ]
    },
    {
     "name": "stdout",
     "output_type": "stream",
     "text": [
      "Fitting 3 folds for each of 1 candidates, totalling 3 fits\n"
     ]
    },
    {
     "name": "stderr",
     "output_type": "stream",
     "text": [
      "[Parallel(n_jobs=3)]: Using backend LokyBackend with 3 concurrent workers.\n",
      "[Parallel(n_jobs=3)]: Done   3 out of   3 | elapsed:    3.8s finished\n"
     ]
    },
    {
     "name": "stdout",
     "output_type": "stream",
     "text": [
      "Fitting 3 folds for each of 1 candidates, totalling 3 fits\n"
     ]
    },
    {
     "name": "stderr",
     "output_type": "stream",
     "text": [
      "[Parallel(n_jobs=3)]: Using backend LokyBackend with 3 concurrent workers.\n",
      "[Parallel(n_jobs=3)]: Done   3 out of   3 | elapsed:    4.1s finished\n"
     ]
    },
    {
     "name": "stdout",
     "output_type": "stream",
     "text": [
      "Fitting 3 folds for each of 1 candidates, totalling 3 fits\n"
     ]
    },
    {
     "name": "stderr",
     "output_type": "stream",
     "text": [
      "[Parallel(n_jobs=3)]: Using backend LokyBackend with 3 concurrent workers.\n",
      "[Parallel(n_jobs=3)]: Done   3 out of   3 | elapsed:    4.0s finished\n",
      "/anaconda3/envs/classification/lib/python3.7/site-packages/skopt/optimizer/optimizer.py:399: UserWarning: The objective has been evaluated at this point before.\n",
      "  warnings.warn(\"The objective has been evaluated \"\n"
     ]
    },
    {
     "name": "stdout",
     "output_type": "stream",
     "text": [
      "Fitting 3 folds for each of 1 candidates, totalling 3 fits\n"
     ]
    },
    {
     "name": "stderr",
     "output_type": "stream",
     "text": [
      "[Parallel(n_jobs=3)]: Using backend LokyBackend with 3 concurrent workers.\n",
      "[Parallel(n_jobs=3)]: Done   3 out of   3 | elapsed:    6.7s finished\n"
     ]
    },
    {
     "name": "stdout",
     "output_type": "stream",
     "text": [
      "Fitting 3 folds for each of 1 candidates, totalling 3 fits\n"
     ]
    },
    {
     "name": "stderr",
     "output_type": "stream",
     "text": [
      "[Parallel(n_jobs=3)]: Using backend LokyBackend with 3 concurrent workers.\n",
      "[Parallel(n_jobs=3)]: Done   3 out of   3 | elapsed:   12.7s finished\n",
      "/anaconda3/envs/classification/lib/python3.7/site-packages/skopt/optimizer/optimizer.py:399: UserWarning: The objective has been evaluated at this point before.\n",
      "  warnings.warn(\"The objective has been evaluated \"\n"
     ]
    },
    {
     "name": "stdout",
     "output_type": "stream",
     "text": [
      "Fitting 3 folds for each of 1 candidates, totalling 3 fits\n"
     ]
    },
    {
     "name": "stderr",
     "output_type": "stream",
     "text": [
      "[Parallel(n_jobs=3)]: Using backend LokyBackend with 3 concurrent workers.\n",
      "[Parallel(n_jobs=3)]: Done   3 out of   3 | elapsed:    5.8s finished\n",
      "/anaconda3/envs/classification/lib/python3.7/site-packages/skopt/optimizer/optimizer.py:399: UserWarning: The objective has been evaluated at this point before.\n",
      "  warnings.warn(\"The objective has been evaluated \"\n"
     ]
    },
    {
     "name": "stdout",
     "output_type": "stream",
     "text": [
      "Fitting 3 folds for each of 1 candidates, totalling 3 fits\n"
     ]
    },
    {
     "name": "stderr",
     "output_type": "stream",
     "text": [
      "[Parallel(n_jobs=3)]: Using backend LokyBackend with 3 concurrent workers.\n",
      "[Parallel(n_jobs=3)]: Done   3 out of   3 | elapsed:    3.7s finished\n"
     ]
    },
    {
     "name": "stdout",
     "output_type": "stream",
     "text": [
      "Fitting 3 folds for each of 1 candidates, totalling 3 fits\n"
     ]
    },
    {
     "name": "stderr",
     "output_type": "stream",
     "text": [
      "[Parallel(n_jobs=3)]: Using backend LokyBackend with 3 concurrent workers.\n",
      "[Parallel(n_jobs=3)]: Done   3 out of   3 | elapsed:    4.3s finished\n",
      "/anaconda3/envs/classification/lib/python3.7/site-packages/skopt/optimizer/optimizer.py:399: UserWarning: The objective has been evaluated at this point before.\n",
      "  warnings.warn(\"The objective has been evaluated \"\n"
     ]
    },
    {
     "name": "stdout",
     "output_type": "stream",
     "text": [
      "Fitting 3 folds for each of 1 candidates, totalling 3 fits\n"
     ]
    },
    {
     "name": "stderr",
     "output_type": "stream",
     "text": [
      "[Parallel(n_jobs=3)]: Using backend LokyBackend with 3 concurrent workers.\n",
      "[Parallel(n_jobs=3)]: Done   3 out of   3 | elapsed:    6.1s finished\n",
      "/anaconda3/envs/classification/lib/python3.7/site-packages/skopt/optimizer/optimizer.py:399: UserWarning: The objective has been evaluated at this point before.\n",
      "  warnings.warn(\"The objective has been evaluated \"\n"
     ]
    },
    {
     "name": "stdout",
     "output_type": "stream",
     "text": [
      "Fitting 3 folds for each of 1 candidates, totalling 3 fits\n"
     ]
    },
    {
     "name": "stderr",
     "output_type": "stream",
     "text": [
      "[Parallel(n_jobs=3)]: Using backend LokyBackend with 3 concurrent workers.\n",
      "[Parallel(n_jobs=3)]: Done   3 out of   3 | elapsed:    4.3s finished\n"
     ]
    },
    {
     "name": "stdout",
     "output_type": "stream",
     "text": [
      "Fitting 3 folds for each of 1 candidates, totalling 3 fits\n"
     ]
    },
    {
     "name": "stderr",
     "output_type": "stream",
     "text": [
      "[Parallel(n_jobs=3)]: Using backend LokyBackend with 3 concurrent workers.\n",
      "[Parallel(n_jobs=3)]: Done   3 out of   3 | elapsed:    4.6s finished\n"
     ]
    },
    {
     "name": "stdout",
     "output_type": "stream",
     "text": [
      "Fitting 3 folds for each of 1 candidates, totalling 3 fits\n"
     ]
    },
    {
     "name": "stderr",
     "output_type": "stream",
     "text": [
      "[Parallel(n_jobs=3)]: Using backend LokyBackend with 3 concurrent workers.\n",
      "[Parallel(n_jobs=3)]: Done   3 out of   3 | elapsed:    4.7s finished\n",
      "/anaconda3/envs/classification/lib/python3.7/site-packages/skopt/optimizer/optimizer.py:399: UserWarning: The objective has been evaluated at this point before.\n",
      "  warnings.warn(\"The objective has been evaluated \"\n"
     ]
    },
    {
     "name": "stdout",
     "output_type": "stream",
     "text": [
      "Fitting 3 folds for each of 1 candidates, totalling 3 fits\n"
     ]
    },
    {
     "name": "stderr",
     "output_type": "stream",
     "text": [
      "[Parallel(n_jobs=3)]: Using backend LokyBackend with 3 concurrent workers.\n",
      "[Parallel(n_jobs=3)]: Done   3 out of   3 | elapsed:    5.7s finished\n",
      "/anaconda3/envs/classification/lib/python3.7/site-packages/skopt/optimizer/optimizer.py:399: UserWarning: The objective has been evaluated at this point before.\n",
      "  warnings.warn(\"The objective has been evaluated \"\n"
     ]
    },
    {
     "name": "stdout",
     "output_type": "stream",
     "text": [
      "Fitting 3 folds for each of 1 candidates, totalling 3 fits\n"
     ]
    },
    {
     "name": "stderr",
     "output_type": "stream",
     "text": [
      "[Parallel(n_jobs=3)]: Using backend LokyBackend with 3 concurrent workers.\n",
      "[Parallel(n_jobs=3)]: Done   3 out of   3 | elapsed:    5.6s finished\n",
      "/anaconda3/envs/classification/lib/python3.7/site-packages/skopt/optimizer/optimizer.py:399: UserWarning: The objective has been evaluated at this point before.\n",
      "  warnings.warn(\"The objective has been evaluated \"\n"
     ]
    },
    {
     "name": "stdout",
     "output_type": "stream",
     "text": [
      "Fitting 3 folds for each of 1 candidates, totalling 3 fits\n"
     ]
    },
    {
     "name": "stderr",
     "output_type": "stream",
     "text": [
      "[Parallel(n_jobs=3)]: Using backend LokyBackend with 3 concurrent workers.\n",
      "[Parallel(n_jobs=3)]: Done   3 out of   3 | elapsed:    5.1s finished\n",
      "/anaconda3/envs/classification/lib/python3.7/site-packages/skopt/optimizer/optimizer.py:399: UserWarning: The objective has been evaluated at this point before.\n",
      "  warnings.warn(\"The objective has been evaluated \"\n"
     ]
    },
    {
     "name": "stdout",
     "output_type": "stream",
     "text": [
      "Fitting 3 folds for each of 1 candidates, totalling 3 fits\n"
     ]
    },
    {
     "name": "stderr",
     "output_type": "stream",
     "text": [
      "[Parallel(n_jobs=3)]: Using backend LokyBackend with 3 concurrent workers.\n",
      "[Parallel(n_jobs=3)]: Done   3 out of   3 | elapsed:    3.8s finished\n",
      "/anaconda3/envs/classification/lib/python3.7/site-packages/skopt/optimizer/optimizer.py:399: UserWarning: The objective has been evaluated at this point before.\n",
      "  warnings.warn(\"The objective has been evaluated \"\n"
     ]
    },
    {
     "name": "stdout",
     "output_type": "stream",
     "text": [
      "Fitting 3 folds for each of 1 candidates, totalling 3 fits\n"
     ]
    },
    {
     "name": "stderr",
     "output_type": "stream",
     "text": [
      "[Parallel(n_jobs=3)]: Using backend LokyBackend with 3 concurrent workers.\n",
      "[Parallel(n_jobs=3)]: Done   3 out of   3 | elapsed:    5.1s finished\n",
      "/anaconda3/envs/classification/lib/python3.7/site-packages/skopt/optimizer/optimizer.py:399: UserWarning: The objective has been evaluated at this point before.\n",
      "  warnings.warn(\"The objective has been evaluated \"\n"
     ]
    },
    {
     "name": "stdout",
     "output_type": "stream",
     "text": [
      "Fitting 3 folds for each of 1 candidates, totalling 3 fits\n"
     ]
    },
    {
     "name": "stderr",
     "output_type": "stream",
     "text": [
      "[Parallel(n_jobs=3)]: Using backend LokyBackend with 3 concurrent workers.\n",
      "[Parallel(n_jobs=3)]: Done   3 out of   3 | elapsed:    5.2s finished\n",
      "/anaconda3/envs/classification/lib/python3.7/site-packages/skopt/optimizer/optimizer.py:399: UserWarning: The objective has been evaluated at this point before.\n",
      "  warnings.warn(\"The objective has been evaluated \"\n"
     ]
    },
    {
     "name": "stdout",
     "output_type": "stream",
     "text": [
      "Fitting 3 folds for each of 1 candidates, totalling 3 fits\n"
     ]
    },
    {
     "name": "stderr",
     "output_type": "stream",
     "text": [
      "[Parallel(n_jobs=3)]: Using backend LokyBackend with 3 concurrent workers.\n",
      "[Parallel(n_jobs=3)]: Done   3 out of   3 | elapsed:    3.7s finished\n",
      "/anaconda3/envs/classification/lib/python3.7/site-packages/skopt/optimizer/optimizer.py:399: UserWarning: The objective has been evaluated at this point before.\n",
      "  warnings.warn(\"The objective has been evaluated \"\n"
     ]
    },
    {
     "name": "stdout",
     "output_type": "stream",
     "text": [
      "Fitting 3 folds for each of 1 candidates, totalling 3 fits\n"
     ]
    },
    {
     "name": "stderr",
     "output_type": "stream",
     "text": [
      "[Parallel(n_jobs=3)]: Using backend LokyBackend with 3 concurrent workers.\n",
      "[Parallel(n_jobs=3)]: Done   3 out of   3 | elapsed:    4.0s finished\n",
      "/anaconda3/envs/classification/lib/python3.7/site-packages/skopt/optimizer/optimizer.py:399: UserWarning: The objective has been evaluated at this point before.\n",
      "  warnings.warn(\"The objective has been evaluated \"\n"
     ]
    },
    {
     "name": "stdout",
     "output_type": "stream",
     "text": [
      "Fitting 3 folds for each of 1 candidates, totalling 3 fits\n"
     ]
    },
    {
     "name": "stderr",
     "output_type": "stream",
     "text": [
      "[Parallel(n_jobs=3)]: Using backend LokyBackend with 3 concurrent workers.\n",
      "[Parallel(n_jobs=3)]: Done   3 out of   3 | elapsed:    3.5s finished\n",
      "/anaconda3/envs/classification/lib/python3.7/site-packages/skopt/optimizer/optimizer.py:399: UserWarning: The objective has been evaluated at this point before.\n",
      "  warnings.warn(\"The objective has been evaluated \"\n"
     ]
    },
    {
     "name": "stdout",
     "output_type": "stream",
     "text": [
      "Fitting 3 folds for each of 1 candidates, totalling 3 fits\n"
     ]
    },
    {
     "name": "stderr",
     "output_type": "stream",
     "text": [
      "[Parallel(n_jobs=3)]: Using backend LokyBackend with 3 concurrent workers.\n",
      "[Parallel(n_jobs=3)]: Done   3 out of   3 | elapsed:    3.9s finished\n"
     ]
    },
    {
     "name": "stdout",
     "output_type": "stream",
     "text": [
      "Fitting 3 folds for each of 1 candidates, totalling 3 fits\n"
     ]
    },
    {
     "name": "stderr",
     "output_type": "stream",
     "text": [
      "[Parallel(n_jobs=3)]: Using backend LokyBackend with 3 concurrent workers.\n",
      "[Parallel(n_jobs=3)]: Done   3 out of   3 | elapsed:    3.7s finished\n"
     ]
    },
    {
     "name": "stdout",
     "output_type": "stream",
     "text": [
      "Fitting 3 folds for each of 1 candidates, totalling 3 fits\n"
     ]
    },
    {
     "name": "stderr",
     "output_type": "stream",
     "text": [
      "[Parallel(n_jobs=3)]: Using backend LokyBackend with 3 concurrent workers.\n",
      "[Parallel(n_jobs=3)]: Done   3 out of   3 | elapsed:    4.2s finished\n",
      "/anaconda3/envs/classification/lib/python3.7/site-packages/skopt/optimizer/optimizer.py:399: UserWarning: The objective has been evaluated at this point before.\n",
      "  warnings.warn(\"The objective has been evaluated \"\n"
     ]
    },
    {
     "name": "stdout",
     "output_type": "stream",
     "text": [
      "Fitting 3 folds for each of 1 candidates, totalling 3 fits\n"
     ]
    },
    {
     "name": "stderr",
     "output_type": "stream",
     "text": [
      "[Parallel(n_jobs=3)]: Using backend LokyBackend with 3 concurrent workers.\n",
      "[Parallel(n_jobs=3)]: Done   3 out of   3 | elapsed:    5.5s finished\n",
      "/anaconda3/envs/classification/lib/python3.7/site-packages/skopt/optimizer/optimizer.py:399: UserWarning: The objective has been evaluated at this point before.\n",
      "  warnings.warn(\"The objective has been evaluated \"\n"
     ]
    },
    {
     "name": "stdout",
     "output_type": "stream",
     "text": [
      "Fitting 3 folds for each of 1 candidates, totalling 3 fits\n"
     ]
    },
    {
     "name": "stderr",
     "output_type": "stream",
     "text": [
      "[Parallel(n_jobs=3)]: Using backend LokyBackend with 3 concurrent workers.\n",
      "[Parallel(n_jobs=3)]: Done   3 out of   3 | elapsed:    5.4s finished\n",
      "/anaconda3/envs/classification/lib/python3.7/site-packages/skopt/optimizer/optimizer.py:399: UserWarning: The objective has been evaluated at this point before.\n",
      "  warnings.warn(\"The objective has been evaluated \"\n"
     ]
    },
    {
     "name": "stdout",
     "output_type": "stream",
     "text": [
      "Fitting 3 folds for each of 1 candidates, totalling 3 fits\n"
     ]
    },
    {
     "name": "stderr",
     "output_type": "stream",
     "text": [
      "[Parallel(n_jobs=3)]: Using backend LokyBackend with 3 concurrent workers.\n",
      "[Parallel(n_jobs=3)]: Done   3 out of   3 | elapsed:    3.9s finished\n",
      "/anaconda3/envs/classification/lib/python3.7/site-packages/skopt/optimizer/optimizer.py:399: UserWarning: The objective has been evaluated at this point before.\n",
      "  warnings.warn(\"The objective has been evaluated \"\n"
     ]
    },
    {
     "name": "stdout",
     "output_type": "stream",
     "text": [
      "Fitting 3 folds for each of 1 candidates, totalling 3 fits\n"
     ]
    },
    {
     "name": "stderr",
     "output_type": "stream",
     "text": [
      "[Parallel(n_jobs=3)]: Using backend LokyBackend with 3 concurrent workers.\n",
      "[Parallel(n_jobs=3)]: Done   3 out of   3 | elapsed:    6.1s finished\n"
     ]
    },
    {
     "name": "stdout",
     "output_type": "stream",
     "text": [
      "Fitting 3 folds for each of 1 candidates, totalling 3 fits\n"
     ]
    },
    {
     "name": "stderr",
     "output_type": "stream",
     "text": [
      "[Parallel(n_jobs=3)]: Using backend LokyBackend with 3 concurrent workers.\n",
      "[Parallel(n_jobs=3)]: Done   3 out of   3 | elapsed:    5.6s finished\n",
      "/anaconda3/envs/classification/lib/python3.7/site-packages/skopt/optimizer/optimizer.py:399: UserWarning: The objective has been evaluated at this point before.\n",
      "  warnings.warn(\"The objective has been evaluated \"\n"
     ]
    },
    {
     "name": "stdout",
     "output_type": "stream",
     "text": [
      "Fitting 3 folds for each of 1 candidates, totalling 3 fits\n"
     ]
    },
    {
     "name": "stderr",
     "output_type": "stream",
     "text": [
      "[Parallel(n_jobs=3)]: Using backend LokyBackend with 3 concurrent workers.\n",
      "[Parallel(n_jobs=3)]: Done   3 out of   3 | elapsed:    4.6s finished\n"
     ]
    }
   ],
   "source": [
    "X_train, X_test, y_train, y_test = cv.create_Xy(obs)\n",
    "\n",
    "pipe = imbPipeline([\n",
    "    ('ss', StandardScaler()),\n",
    "    ('smote', SMOTE(random_state=42)),\n",
    "    ('lm', LogisticRegression(random_state=42, solver='saga'))\n",
    "])\n",
    "\n",
    "search_params = {\n",
    "    'smote__k_neighbors': Integer(5, 20),\n",
    "    'lm__C': Categorical([1e-5, 1e-3, 1e-1, 1e1, 1e3, 1e5]),\n",
    "    'lm__penalty': Categorical(['l1', 'l2'])\n",
    "}\n",
    "\n",
    "search_results = cv.bayes_search(X_train, y_train, pipe, search_params)"
   ]
  },
  {
   "cell_type": "code",
   "execution_count": 5,
   "metadata": {
    "ExecuteTime": {
     "end_time": "2019-01-16T20:32:31.569120Z",
     "start_time": "2019-01-16T20:32:31.544668Z"
    }
   },
   "outputs": [
    {
     "data": {
      "text/plain": [
       "0.7528723932067894"
      ]
     },
     "execution_count": 5,
     "metadata": {},
     "output_type": "execute_result"
    }
   ],
   "source": [
    "search_results.best_score_"
   ]
  },
  {
   "cell_type": "code",
   "execution_count": 6,
   "metadata": {
    "ExecuteTime": {
     "end_time": "2019-01-16T20:32:31.794887Z",
     "start_time": "2019-01-16T20:32:31.584713Z"
    }
   },
   "outputs": [
    {
     "data": {
      "text/html": [
       "<div>\n",
       "<style scoped>\n",
       "    .dataframe tbody tr th:only-of-type {\n",
       "        vertical-align: middle;\n",
       "    }\n",
       "\n",
       "    .dataframe tbody tr th {\n",
       "        vertical-align: top;\n",
       "    }\n",
       "\n",
       "    .dataframe thead th {\n",
       "        text-align: right;\n",
       "    }\n",
       "</style>\n",
       "<table border=\"1\" class=\"dataframe\">\n",
       "  <thead>\n",
       "    <tr style=\"text-align: right;\">\n",
       "      <th></th>\n",
       "      <th>split0_test_score</th>\n",
       "      <th>split1_test_score</th>\n",
       "      <th>split2_test_score</th>\n",
       "      <th>mean_test_score</th>\n",
       "      <th>std_test_score</th>\n",
       "      <th>rank_test_score</th>\n",
       "      <th>mean_fit_time</th>\n",
       "      <th>std_fit_time</th>\n",
       "      <th>mean_score_time</th>\n",
       "      <th>std_score_time</th>\n",
       "      <th>param_lm__C</th>\n",
       "      <th>param_lm__penalty</th>\n",
       "      <th>param_smote__k_neighbors</th>\n",
       "      <th>params</th>\n",
       "    </tr>\n",
       "  </thead>\n",
       "  <tbody>\n",
       "    <tr>\n",
       "      <th>4</th>\n",
       "      <td>0.754429</td>\n",
       "      <td>0.739763</td>\n",
       "      <td>0.764425</td>\n",
       "      <td>0.752872</td>\n",
       "      <td>0.010129</td>\n",
       "      <td>1</td>\n",
       "      <td>2.445595</td>\n",
       "      <td>0.289125</td>\n",
       "      <td>0.012690</td>\n",
       "      <td>0.001913</td>\n",
       "      <td>100000.00000</td>\n",
       "      <td>l2</td>\n",
       "      <td>6</td>\n",
       "      <td>{'lm__C': 100000.0, 'lm__penalty': 'l2', 'smot...</td>\n",
       "    </tr>\n",
       "    <tr>\n",
       "      <th>11</th>\n",
       "      <td>0.754282</td>\n",
       "      <td>0.739436</td>\n",
       "      <td>0.763704</td>\n",
       "      <td>0.752474</td>\n",
       "      <td>0.009990</td>\n",
       "      <td>1</td>\n",
       "      <td>2.365474</td>\n",
       "      <td>0.286135</td>\n",
       "      <td>0.012897</td>\n",
       "      <td>0.001417</td>\n",
       "      <td>1000.00000</td>\n",
       "      <td>l2</td>\n",
       "      <td>5</td>\n",
       "      <td>{'lm__C': 1000.0, 'lm__penalty': 'l2', 'smote_...</td>\n",
       "    </tr>\n",
       "    <tr>\n",
       "      <th>44</th>\n",
       "      <td>0.754282</td>\n",
       "      <td>0.739436</td>\n",
       "      <td>0.763704</td>\n",
       "      <td>0.752474</td>\n",
       "      <td>0.009990</td>\n",
       "      <td>1</td>\n",
       "      <td>4.700444</td>\n",
       "      <td>0.669015</td>\n",
       "      <td>0.030628</td>\n",
       "      <td>0.007650</td>\n",
       "      <td>100000.00000</td>\n",
       "      <td>l2</td>\n",
       "      <td>5</td>\n",
       "      <td>{'lm__C': 100000.0, 'lm__penalty': 'l2', 'smot...</td>\n",
       "    </tr>\n",
       "    <tr>\n",
       "      <th>36</th>\n",
       "      <td>0.754282</td>\n",
       "      <td>0.739436</td>\n",
       "      <td>0.763704</td>\n",
       "      <td>0.752474</td>\n",
       "      <td>0.009990</td>\n",
       "      <td>1</td>\n",
       "      <td>4.407781</td>\n",
       "      <td>0.671443</td>\n",
       "      <td>0.024413</td>\n",
       "      <td>0.009181</td>\n",
       "      <td>1000.00000</td>\n",
       "      <td>l2</td>\n",
       "      <td>5</td>\n",
       "      <td>{'lm__C': 1000.0, 'lm__penalty': 'l2', 'smote_...</td>\n",
       "    </tr>\n",
       "    <tr>\n",
       "      <th>28</th>\n",
       "      <td>0.754282</td>\n",
       "      <td>0.739436</td>\n",
       "      <td>0.763704</td>\n",
       "      <td>0.752474</td>\n",
       "      <td>0.009990</td>\n",
       "      <td>1</td>\n",
       "      <td>5.449884</td>\n",
       "      <td>0.693134</td>\n",
       "      <td>0.022607</td>\n",
       "      <td>0.000938</td>\n",
       "      <td>100000.00000</td>\n",
       "      <td>l2</td>\n",
       "      <td>5</td>\n",
       "      <td>{'lm__C': 100000.0, 'lm__penalty': 'l2', 'smot...</td>\n",
       "    </tr>\n",
       "    <tr>\n",
       "      <th>21</th>\n",
       "      <td>0.754282</td>\n",
       "      <td>0.739436</td>\n",
       "      <td>0.763704</td>\n",
       "      <td>0.752474</td>\n",
       "      <td>0.009990</td>\n",
       "      <td>1</td>\n",
       "      <td>3.635719</td>\n",
       "      <td>0.496036</td>\n",
       "      <td>0.016239</td>\n",
       "      <td>0.003521</td>\n",
       "      <td>100000.00000</td>\n",
       "      <td>l2</td>\n",
       "      <td>5</td>\n",
       "      <td>{'lm__C': 100000.0, 'lm__penalty': 'l2', 'smot...</td>\n",
       "    </tr>\n",
       "    <tr>\n",
       "      <th>25</th>\n",
       "      <td>0.754282</td>\n",
       "      <td>0.739436</td>\n",
       "      <td>0.763704</td>\n",
       "      <td>0.752474</td>\n",
       "      <td>0.009990</td>\n",
       "      <td>1</td>\n",
       "      <td>5.027351</td>\n",
       "      <td>0.751106</td>\n",
       "      <td>0.027779</td>\n",
       "      <td>0.009268</td>\n",
       "      <td>10.00000</td>\n",
       "      <td>l2</td>\n",
       "      <td>5</td>\n",
       "      <td>{'lm__C': 10.0, 'lm__penalty': 'l2', 'smote__k...</td>\n",
       "    </tr>\n",
       "    <tr>\n",
       "      <th>37</th>\n",
       "      <td>0.754282</td>\n",
       "      <td>0.739436</td>\n",
       "      <td>0.763704</td>\n",
       "      <td>0.752474</td>\n",
       "      <td>0.009990</td>\n",
       "      <td>1</td>\n",
       "      <td>4.581069</td>\n",
       "      <td>0.663331</td>\n",
       "      <td>0.042913</td>\n",
       "      <td>0.018460</td>\n",
       "      <td>10.00000</td>\n",
       "      <td>l2</td>\n",
       "      <td>5</td>\n",
       "      <td>{'lm__C': 10.0, 'lm__penalty': 'l2', 'smote__k...</td>\n",
       "    </tr>\n",
       "    <tr>\n",
       "      <th>14</th>\n",
       "      <td>0.754282</td>\n",
       "      <td>0.739436</td>\n",
       "      <td>0.763704</td>\n",
       "      <td>0.752474</td>\n",
       "      <td>0.009990</td>\n",
       "      <td>1</td>\n",
       "      <td>2.325461</td>\n",
       "      <td>0.311687</td>\n",
       "      <td>0.013026</td>\n",
       "      <td>0.002528</td>\n",
       "      <td>10.00000</td>\n",
       "      <td>l2</td>\n",
       "      <td>5</td>\n",
       "      <td>{'lm__C': 10.0, 'lm__penalty': 'l2', 'smote__k...</td>\n",
       "    </tr>\n",
       "    <tr>\n",
       "      <th>20</th>\n",
       "      <td>0.754282</td>\n",
       "      <td>0.739427</td>\n",
       "      <td>0.763703</td>\n",
       "      <td>0.752471</td>\n",
       "      <td>0.009993</td>\n",
       "      <td>1</td>\n",
       "      <td>3.614730</td>\n",
       "      <td>0.099168</td>\n",
       "      <td>0.017775</td>\n",
       "      <td>0.003901</td>\n",
       "      <td>10.00000</td>\n",
       "      <td>l1</td>\n",
       "      <td>5</td>\n",
       "      <td>{'lm__C': 10.0, 'lm__penalty': 'l1', 'smote__k...</td>\n",
       "    </tr>\n",
       "    <tr>\n",
       "      <th>49</th>\n",
       "      <td>0.754282</td>\n",
       "      <td>0.739427</td>\n",
       "      <td>0.763703</td>\n",
       "      <td>0.752471</td>\n",
       "      <td>0.009993</td>\n",
       "      <td>1</td>\n",
       "      <td>4.273087</td>\n",
       "      <td>0.173952</td>\n",
       "      <td>0.030084</td>\n",
       "      <td>0.012103</td>\n",
       "      <td>10.00000</td>\n",
       "      <td>l1</td>\n",
       "      <td>5</td>\n",
       "      <td>{'lm__C': 10.0, 'lm__penalty': 'l1', 'smote__k...</td>\n",
       "    </tr>\n",
       "    <tr>\n",
       "      <th>43</th>\n",
       "      <td>0.754282</td>\n",
       "      <td>0.739426</td>\n",
       "      <td>0.763703</td>\n",
       "      <td>0.752470</td>\n",
       "      <td>0.009994</td>\n",
       "      <td>1</td>\n",
       "      <td>3.932978</td>\n",
       "      <td>0.103386</td>\n",
       "      <td>0.026857</td>\n",
       "      <td>0.002500</td>\n",
       "      <td>100000.00000</td>\n",
       "      <td>l1</td>\n",
       "      <td>5</td>\n",
       "      <td>{'lm__C': 100000.0, 'lm__penalty': 'l1', 'smot...</td>\n",
       "    </tr>\n",
       "    <tr>\n",
       "      <th>46</th>\n",
       "      <td>0.754282</td>\n",
       "      <td>0.739426</td>\n",
       "      <td>0.763703</td>\n",
       "      <td>0.752470</td>\n",
       "      <td>0.009994</td>\n",
       "      <td>1</td>\n",
       "      <td>3.748813</td>\n",
       "      <td>0.045314</td>\n",
       "      <td>0.039369</td>\n",
       "      <td>0.001814</td>\n",
       "      <td>1000.00000</td>\n",
       "      <td>l1</td>\n",
       "      <td>5</td>\n",
       "      <td>{'lm__C': 1000.0, 'lm__penalty': 'l1', 'smote_...</td>\n",
       "    </tr>\n",
       "    <tr>\n",
       "      <th>19</th>\n",
       "      <td>0.754282</td>\n",
       "      <td>0.739426</td>\n",
       "      <td>0.763703</td>\n",
       "      <td>0.752470</td>\n",
       "      <td>0.009994</td>\n",
       "      <td>1</td>\n",
       "      <td>2.929660</td>\n",
       "      <td>0.122369</td>\n",
       "      <td>0.022013</td>\n",
       "      <td>0.007583</td>\n",
       "      <td>1000.00000</td>\n",
       "      <td>l1</td>\n",
       "      <td>5</td>\n",
       "      <td>{'lm__C': 1000.0, 'lm__penalty': 'l1', 'smote_...</td>\n",
       "    </tr>\n",
       "    <tr>\n",
       "      <th>26</th>\n",
       "      <td>0.754282</td>\n",
       "      <td>0.739426</td>\n",
       "      <td>0.763703</td>\n",
       "      <td>0.752470</td>\n",
       "      <td>0.009994</td>\n",
       "      <td>1</td>\n",
       "      <td>3.572085</td>\n",
       "      <td>0.037128</td>\n",
       "      <td>0.021452</td>\n",
       "      <td>0.003813</td>\n",
       "      <td>1000.00000</td>\n",
       "      <td>l1</td>\n",
       "      <td>5</td>\n",
       "      <td>{'lm__C': 1000.0, 'lm__penalty': 'l1', 'smote_...</td>\n",
       "    </tr>\n",
       "    <tr>\n",
       "      <th>34</th>\n",
       "      <td>0.754252</td>\n",
       "      <td>0.739391</td>\n",
       "      <td>0.763659</td>\n",
       "      <td>0.752434</td>\n",
       "      <td>0.009990</td>\n",
       "      <td>1</td>\n",
       "      <td>4.561942</td>\n",
       "      <td>0.544358</td>\n",
       "      <td>0.023888</td>\n",
       "      <td>0.003692</td>\n",
       "      <td>0.10000</td>\n",
       "      <td>l2</td>\n",
       "      <td>5</td>\n",
       "      <td>{'lm__C': 0.1, 'lm__penalty': 'l2', 'smote__k_...</td>\n",
       "    </tr>\n",
       "    <tr>\n",
       "      <th>24</th>\n",
       "      <td>0.754252</td>\n",
       "      <td>0.739391</td>\n",
       "      <td>0.763659</td>\n",
       "      <td>0.752434</td>\n",
       "      <td>0.009990</td>\n",
       "      <td>1</td>\n",
       "      <td>11.244670</td>\n",
       "      <td>1.593084</td>\n",
       "      <td>0.067833</td>\n",
       "      <td>0.011502</td>\n",
       "      <td>0.10000</td>\n",
       "      <td>l2</td>\n",
       "      <td>5</td>\n",
       "      <td>{'lm__C': 0.1, 'lm__penalty': 'l2', 'smote__k_...</td>\n",
       "    </tr>\n",
       "    <tr>\n",
       "      <th>45</th>\n",
       "      <td>0.754252</td>\n",
       "      <td>0.739391</td>\n",
       "      <td>0.763659</td>\n",
       "      <td>0.752434</td>\n",
       "      <td>0.009990</td>\n",
       "      <td>1</td>\n",
       "      <td>4.855982</td>\n",
       "      <td>0.492269</td>\n",
       "      <td>0.024847</td>\n",
       "      <td>0.003738</td>\n",
       "      <td>0.10000</td>\n",
       "      <td>l2</td>\n",
       "      <td>5</td>\n",
       "      <td>{'lm__C': 0.1, 'lm__penalty': 'l2', 'smote__k_...</td>\n",
       "    </tr>\n",
       "    <tr>\n",
       "      <th>13</th>\n",
       "      <td>0.754237</td>\n",
       "      <td>0.739347</td>\n",
       "      <td>0.763710</td>\n",
       "      <td>0.752431</td>\n",
       "      <td>0.010028</td>\n",
       "      <td>1</td>\n",
       "      <td>1.909564</td>\n",
       "      <td>0.045442</td>\n",
       "      <td>0.013056</td>\n",
       "      <td>0.000838</td>\n",
       "      <td>0.10000</td>\n",
       "      <td>l1</td>\n",
       "      <td>5</td>\n",
       "      <td>{'lm__C': 0.1, 'lm__penalty': 'l1', 'smote__k_...</td>\n",
       "    </tr>\n",
       "    <tr>\n",
       "      <th>7</th>\n",
       "      <td>0.754254</td>\n",
       "      <td>0.739476</td>\n",
       "      <td>0.763470</td>\n",
       "      <td>0.752400</td>\n",
       "      <td>0.009883</td>\n",
       "      <td>1</td>\n",
       "      <td>2.110462</td>\n",
       "      <td>0.074021</td>\n",
       "      <td>0.013125</td>\n",
       "      <td>0.000536</td>\n",
       "      <td>1000.00000</td>\n",
       "      <td>l1</td>\n",
       "      <td>10</td>\n",
       "      <td>{'lm__C': 1000.0, 'lm__penalty': 'l1', 'smote_...</td>\n",
       "    </tr>\n",
       "    <tr>\n",
       "      <th>9</th>\n",
       "      <td>0.754388</td>\n",
       "      <td>0.739401</td>\n",
       "      <td>0.763347</td>\n",
       "      <td>0.752379</td>\n",
       "      <td>0.009879</td>\n",
       "      <td>1</td>\n",
       "      <td>1.967965</td>\n",
       "      <td>0.087742</td>\n",
       "      <td>0.012433</td>\n",
       "      <td>0.000271</td>\n",
       "      <td>10.00000</td>\n",
       "      <td>l1</td>\n",
       "      <td>7</td>\n",
       "      <td>{'lm__C': 10.0, 'lm__penalty': 'l1', 'smote__k...</td>\n",
       "    </tr>\n",
       "    <tr>\n",
       "      <th>6</th>\n",
       "      <td>0.754388</td>\n",
       "      <td>0.739401</td>\n",
       "      <td>0.763347</td>\n",
       "      <td>0.752379</td>\n",
       "      <td>0.009879</td>\n",
       "      <td>1</td>\n",
       "      <td>2.055443</td>\n",
       "      <td>0.078050</td>\n",
       "      <td>0.019084</td>\n",
       "      <td>0.004750</td>\n",
       "      <td>100000.00000</td>\n",
       "      <td>l1</td>\n",
       "      <td>7</td>\n",
       "      <td>{'lm__C': 100000.0, 'lm__penalty': 'l1', 'smot...</td>\n",
       "    </tr>\n",
       "    <tr>\n",
       "      <th>5</th>\n",
       "      <td>0.753903</td>\n",
       "      <td>0.738952</td>\n",
       "      <td>0.764040</td>\n",
       "      <td>0.752298</td>\n",
       "      <td>0.010305</td>\n",
       "      <td>1</td>\n",
       "      <td>2.371036</td>\n",
       "      <td>0.167555</td>\n",
       "      <td>0.012750</td>\n",
       "      <td>0.000906</td>\n",
       "      <td>0.00100</td>\n",
       "      <td>l2</td>\n",
       "      <td>15</td>\n",
       "      <td>{'lm__C': 0.001, 'lm__penalty': 'l2', 'smote__...</td>\n",
       "    </tr>\n",
       "    <tr>\n",
       "      <th>17</th>\n",
       "      <td>0.754503</td>\n",
       "      <td>0.738975</td>\n",
       "      <td>0.763134</td>\n",
       "      <td>0.752204</td>\n",
       "      <td>0.009996</td>\n",
       "      <td>1</td>\n",
       "      <td>2.103445</td>\n",
       "      <td>0.160004</td>\n",
       "      <td>0.012218</td>\n",
       "      <td>0.001494</td>\n",
       "      <td>0.00100</td>\n",
       "      <td>l2</td>\n",
       "      <td>5</td>\n",
       "      <td>{'lm__C': 0.001, 'lm__penalty': 'l2', 'smote__...</td>\n",
       "    </tr>\n",
       "    <tr>\n",
       "      <th>8</th>\n",
       "      <td>0.754251</td>\n",
       "      <td>0.739445</td>\n",
       "      <td>0.762820</td>\n",
       "      <td>0.752172</td>\n",
       "      <td>0.009655</td>\n",
       "      <td>1</td>\n",
       "      <td>2.395038</td>\n",
       "      <td>0.263750</td>\n",
       "      <td>0.013031</td>\n",
       "      <td>0.001609</td>\n",
       "      <td>0.10000</td>\n",
       "      <td>l2</td>\n",
       "      <td>8</td>\n",
       "      <td>{'lm__C': 0.1, 'lm__penalty': 'l2', 'smote__k_...</td>\n",
       "    </tr>\n",
       "    <tr>\n",
       "      <th>42</th>\n",
       "      <td>0.754920</td>\n",
       "      <td>0.739554</td>\n",
       "      <td>0.761923</td>\n",
       "      <td>0.752132</td>\n",
       "      <td>0.009343</td>\n",
       "      <td>1</td>\n",
       "      <td>3.471331</td>\n",
       "      <td>0.129136</td>\n",
       "      <td>0.022439</td>\n",
       "      <td>0.006881</td>\n",
       "      <td>1000.00000</td>\n",
       "      <td>l1</td>\n",
       "      <td>20</td>\n",
       "      <td>{'lm__C': 1000.0, 'lm__penalty': 'l1', 'smote_...</td>\n",
       "    </tr>\n",
       "    <tr>\n",
       "      <th>35</th>\n",
       "      <td>0.754920</td>\n",
       "      <td>0.739554</td>\n",
       "      <td>0.761923</td>\n",
       "      <td>0.752132</td>\n",
       "      <td>0.009343</td>\n",
       "      <td>1</td>\n",
       "      <td>3.512741</td>\n",
       "      <td>0.139787</td>\n",
       "      <td>0.029203</td>\n",
       "      <td>0.010683</td>\n",
       "      <td>100000.00000</td>\n",
       "      <td>l1</td>\n",
       "      <td>20</td>\n",
       "      <td>{'lm__C': 100000.0, 'lm__penalty': 'l1', 'smot...</td>\n",
       "    </tr>\n",
       "    <tr>\n",
       "      <th>30</th>\n",
       "      <td>0.754920</td>\n",
       "      <td>0.739554</td>\n",
       "      <td>0.761923</td>\n",
       "      <td>0.752132</td>\n",
       "      <td>0.009343</td>\n",
       "      <td>1</td>\n",
       "      <td>4.299673</td>\n",
       "      <td>0.140344</td>\n",
       "      <td>0.021357</td>\n",
       "      <td>0.005128</td>\n",
       "      <td>100000.00000</td>\n",
       "      <td>l1</td>\n",
       "      <td>20</td>\n",
       "      <td>{'lm__C': 100000.0, 'lm__penalty': 'l1', 'smot...</td>\n",
       "    </tr>\n",
       "    <tr>\n",
       "      <th>32</th>\n",
       "      <td>0.754921</td>\n",
       "      <td>0.739552</td>\n",
       "      <td>0.761924</td>\n",
       "      <td>0.752132</td>\n",
       "      <td>0.009344</td>\n",
       "      <td>1</td>\n",
       "      <td>5.163471</td>\n",
       "      <td>0.636414</td>\n",
       "      <td>0.029691</td>\n",
       "      <td>0.013418</td>\n",
       "      <td>10.00000</td>\n",
       "      <td>l2</td>\n",
       "      <td>20</td>\n",
       "      <td>{'lm__C': 10.0, 'lm__penalty': 'l2', 'smote__k...</td>\n",
       "    </tr>\n",
       "    <tr>\n",
       "      <th>47</th>\n",
       "      <td>0.754921</td>\n",
       "      <td>0.739552</td>\n",
       "      <td>0.761924</td>\n",
       "      <td>0.752132</td>\n",
       "      <td>0.009344</td>\n",
       "      <td>1</td>\n",
       "      <td>5.207913</td>\n",
       "      <td>0.813700</td>\n",
       "      <td>0.029428</td>\n",
       "      <td>0.008836</td>\n",
       "      <td>10.00000</td>\n",
       "      <td>l2</td>\n",
       "      <td>20</td>\n",
       "      <td>{'lm__C': 10.0, 'lm__penalty': 'l2', 'smote__k...</td>\n",
       "    </tr>\n",
       "    <tr>\n",
       "      <th>10</th>\n",
       "      <td>0.754921</td>\n",
       "      <td>0.739552</td>\n",
       "      <td>0.761924</td>\n",
       "      <td>0.752132</td>\n",
       "      <td>0.009344</td>\n",
       "      <td>1</td>\n",
       "      <td>2.399837</td>\n",
       "      <td>0.296023</td>\n",
       "      <td>0.012245</td>\n",
       "      <td>0.001432</td>\n",
       "      <td>10.00000</td>\n",
       "      <td>l2</td>\n",
       "      <td>20</td>\n",
       "      <td>{'lm__C': 10.0, 'lm__penalty': 'l2', 'smote__k...</td>\n",
       "    </tr>\n",
       "    <tr>\n",
       "      <th>23</th>\n",
       "      <td>0.754921</td>\n",
       "      <td>0.739552</td>\n",
       "      <td>0.761924</td>\n",
       "      <td>0.752132</td>\n",
       "      <td>0.009344</td>\n",
       "      <td>1</td>\n",
       "      <td>6.187140</td>\n",
       "      <td>0.521314</td>\n",
       "      <td>0.016093</td>\n",
       "      <td>0.003452</td>\n",
       "      <td>1000.00000</td>\n",
       "      <td>l2</td>\n",
       "      <td>20</td>\n",
       "      <td>{'lm__C': 1000.0, 'lm__penalty': 'l2', 'smote_...</td>\n",
       "    </tr>\n",
       "    <tr>\n",
       "      <th>33</th>\n",
       "      <td>0.754921</td>\n",
       "      <td>0.739552</td>\n",
       "      <td>0.761924</td>\n",
       "      <td>0.752132</td>\n",
       "      <td>0.009344</td>\n",
       "      <td>1</td>\n",
       "      <td>4.953591</td>\n",
       "      <td>0.678004</td>\n",
       "      <td>0.019258</td>\n",
       "      <td>0.001816</td>\n",
       "      <td>1000.00000</td>\n",
       "      <td>l2</td>\n",
       "      <td>20</td>\n",
       "      <td>{'lm__C': 1000.0, 'lm__penalty': 'l2', 'smote_...</td>\n",
       "    </tr>\n",
       "    <tr>\n",
       "      <th>12</th>\n",
       "      <td>0.754921</td>\n",
       "      <td>0.739552</td>\n",
       "      <td>0.761924</td>\n",
       "      <td>0.752132</td>\n",
       "      <td>0.009344</td>\n",
       "      <td>1</td>\n",
       "      <td>2.336658</td>\n",
       "      <td>0.296045</td>\n",
       "      <td>0.013059</td>\n",
       "      <td>0.001766</td>\n",
       "      <td>1000.00000</td>\n",
       "      <td>l2</td>\n",
       "      <td>20</td>\n",
       "      <td>{'lm__C': 1000.0, 'lm__penalty': 'l2', 'smote_...</td>\n",
       "    </tr>\n",
       "    <tr>\n",
       "      <th>18</th>\n",
       "      <td>0.754921</td>\n",
       "      <td>0.739552</td>\n",
       "      <td>0.761924</td>\n",
       "      <td>0.752132</td>\n",
       "      <td>0.009344</td>\n",
       "      <td>1</td>\n",
       "      <td>2.367717</td>\n",
       "      <td>0.323373</td>\n",
       "      <td>0.013453</td>\n",
       "      <td>0.000751</td>\n",
       "      <td>100000.00000</td>\n",
       "      <td>l2</td>\n",
       "      <td>20</td>\n",
       "      <td>{'lm__C': 100000.0, 'lm__penalty': 'l2', 'smot...</td>\n",
       "    </tr>\n",
       "    <tr>\n",
       "      <th>40</th>\n",
       "      <td>0.754920</td>\n",
       "      <td>0.739551</td>\n",
       "      <td>0.761923</td>\n",
       "      <td>0.752131</td>\n",
       "      <td>0.009344</td>\n",
       "      <td>1</td>\n",
       "      <td>3.294636</td>\n",
       "      <td>0.211520</td>\n",
       "      <td>0.025107</td>\n",
       "      <td>0.000376</td>\n",
       "      <td>10.00000</td>\n",
       "      <td>l1</td>\n",
       "      <td>20</td>\n",
       "      <td>{'lm__C': 10.0, 'lm__penalty': 'l1', 'smote__k...</td>\n",
       "    </tr>\n",
       "    <tr>\n",
       "      <th>22</th>\n",
       "      <td>0.754920</td>\n",
       "      <td>0.739551</td>\n",
       "      <td>0.761923</td>\n",
       "      <td>0.752131</td>\n",
       "      <td>0.009344</td>\n",
       "      <td>1</td>\n",
       "      <td>3.589048</td>\n",
       "      <td>0.257269</td>\n",
       "      <td>0.027396</td>\n",
       "      <td>0.012033</td>\n",
       "      <td>10.00000</td>\n",
       "      <td>l1</td>\n",
       "      <td>20</td>\n",
       "      <td>{'lm__C': 10.0, 'lm__penalty': 'l1', 'smote__k...</td>\n",
       "    </tr>\n",
       "    <tr>\n",
       "      <th>29</th>\n",
       "      <td>0.754919</td>\n",
       "      <td>0.739533</td>\n",
       "      <td>0.761914</td>\n",
       "      <td>0.752122</td>\n",
       "      <td>0.009349</td>\n",
       "      <td>1</td>\n",
       "      <td>4.033266</td>\n",
       "      <td>0.255165</td>\n",
       "      <td>0.026982</td>\n",
       "      <td>0.000321</td>\n",
       "      <td>0.10000</td>\n",
       "      <td>l1</td>\n",
       "      <td>20</td>\n",
       "      <td>{'lm__C': 0.1, 'lm__penalty': 'l1', 'smote__k_...</td>\n",
       "    </tr>\n",
       "    <tr>\n",
       "      <th>16</th>\n",
       "      <td>0.754919</td>\n",
       "      <td>0.739533</td>\n",
       "      <td>0.761914</td>\n",
       "      <td>0.752122</td>\n",
       "      <td>0.009349</td>\n",
       "      <td>1</td>\n",
       "      <td>1.912935</td>\n",
       "      <td>0.132363</td>\n",
       "      <td>0.013624</td>\n",
       "      <td>0.002177</td>\n",
       "      <td>0.10000</td>\n",
       "      <td>l1</td>\n",
       "      <td>20</td>\n",
       "      <td>{'lm__C': 0.1, 'lm__penalty': 'l1', 'smote__k_...</td>\n",
       "    </tr>\n",
       "    <tr>\n",
       "      <th>39</th>\n",
       "      <td>0.754919</td>\n",
       "      <td>0.739533</td>\n",
       "      <td>0.761914</td>\n",
       "      <td>0.752122</td>\n",
       "      <td>0.009349</td>\n",
       "      <td>1</td>\n",
       "      <td>3.622716</td>\n",
       "      <td>0.263746</td>\n",
       "      <td>0.025514</td>\n",
       "      <td>0.003850</td>\n",
       "      <td>0.10000</td>\n",
       "      <td>l1</td>\n",
       "      <td>20</td>\n",
       "      <td>{'lm__C': 0.1, 'lm__penalty': 'l1', 'smote__k_...</td>\n",
       "    </tr>\n",
       "    <tr>\n",
       "      <th>48</th>\n",
       "      <td>0.754890</td>\n",
       "      <td>0.739531</td>\n",
       "      <td>0.761903</td>\n",
       "      <td>0.752108</td>\n",
       "      <td>0.009343</td>\n",
       "      <td>1</td>\n",
       "      <td>4.875924</td>\n",
       "      <td>0.649836</td>\n",
       "      <td>0.036148</td>\n",
       "      <td>0.009015</td>\n",
       "      <td>0.10000</td>\n",
       "      <td>l2</td>\n",
       "      <td>20</td>\n",
       "      <td>{'lm__C': 0.1, 'lm__penalty': 'l2', 'smote__k_...</td>\n",
       "    </tr>\n",
       "    <tr>\n",
       "      <th>0</th>\n",
       "      <td>0.753523</td>\n",
       "      <td>0.739917</td>\n",
       "      <td>0.762365</td>\n",
       "      <td>0.751935</td>\n",
       "      <td>0.009233</td>\n",
       "      <td>1</td>\n",
       "      <td>2.640677</td>\n",
       "      <td>0.294496</td>\n",
       "      <td>0.017593</td>\n",
       "      <td>0.002026</td>\n",
       "      <td>0.10000</td>\n",
       "      <td>l2</td>\n",
       "      <td>17</td>\n",
       "      <td>{'lm__C': 0.1, 'lm__penalty': 'l2', 'smote__k_...</td>\n",
       "    </tr>\n",
       "    <tr>\n",
       "      <th>41</th>\n",
       "      <td>0.754091</td>\n",
       "      <td>0.738309</td>\n",
       "      <td>0.763174</td>\n",
       "      <td>0.751858</td>\n",
       "      <td>0.010273</td>\n",
       "      <td>1</td>\n",
       "      <td>3.567866</td>\n",
       "      <td>0.298348</td>\n",
       "      <td>0.022634</td>\n",
       "      <td>0.007070</td>\n",
       "      <td>0.00100</td>\n",
       "      <td>l2</td>\n",
       "      <td>20</td>\n",
       "      <td>{'lm__C': 0.001, 'lm__penalty': 'l2', 'smote__...</td>\n",
       "    </tr>\n",
       "    <tr>\n",
       "      <th>31</th>\n",
       "      <td>0.754091</td>\n",
       "      <td>0.738309</td>\n",
       "      <td>0.763174</td>\n",
       "      <td>0.751858</td>\n",
       "      <td>0.010273</td>\n",
       "      <td>1</td>\n",
       "      <td>4.282703</td>\n",
       "      <td>0.384708</td>\n",
       "      <td>0.027585</td>\n",
       "      <td>0.002019</td>\n",
       "      <td>0.00100</td>\n",
       "      <td>l2</td>\n",
       "      <td>20</td>\n",
       "      <td>{'lm__C': 0.001, 'lm__penalty': 'l2', 'smote__...</td>\n",
       "    </tr>\n",
       "    <tr>\n",
       "      <th>1</th>\n",
       "      <td>0.755002</td>\n",
       "      <td>0.738900</td>\n",
       "      <td>0.761543</td>\n",
       "      <td>0.751815</td>\n",
       "      <td>0.009515</td>\n",
       "      <td>1</td>\n",
       "      <td>1.883410</td>\n",
       "      <td>0.103350</td>\n",
       "      <td>0.013860</td>\n",
       "      <td>0.002257</td>\n",
       "      <td>100000.00000</td>\n",
       "      <td>l1</td>\n",
       "      <td>19</td>\n",
       "      <td>{'lm__C': 100000.0, 'lm__penalty': 'l1', 'smot...</td>\n",
       "    </tr>\n",
       "    <tr>\n",
       "      <th>3</th>\n",
       "      <td>0.756447</td>\n",
       "      <td>0.735241</td>\n",
       "      <td>0.763288</td>\n",
       "      <td>0.751659</td>\n",
       "      <td>0.011940</td>\n",
       "      <td>1</td>\n",
       "      <td>1.935657</td>\n",
       "      <td>0.114319</td>\n",
       "      <td>0.013815</td>\n",
       "      <td>0.002485</td>\n",
       "      <td>0.00100</td>\n",
       "      <td>l1</td>\n",
       "      <td>13</td>\n",
       "      <td>{'lm__C': 0.001, 'lm__penalty': 'l1', 'smote__...</td>\n",
       "    </tr>\n",
       "    <tr>\n",
       "      <th>15</th>\n",
       "      <td>0.754885</td>\n",
       "      <td>0.735224</td>\n",
       "      <td>0.763780</td>\n",
       "      <td>0.751296</td>\n",
       "      <td>0.011931</td>\n",
       "      <td>1</td>\n",
       "      <td>1.732847</td>\n",
       "      <td>0.080486</td>\n",
       "      <td>0.015238</td>\n",
       "      <td>0.002321</td>\n",
       "      <td>0.00100</td>\n",
       "      <td>l1</td>\n",
       "      <td>20</td>\n",
       "      <td>{'lm__C': 0.001, 'lm__penalty': 'l1', 'smote__...</td>\n",
       "    </tr>\n",
       "    <tr>\n",
       "      <th>38</th>\n",
       "      <td>0.755904</td>\n",
       "      <td>0.735664</td>\n",
       "      <td>0.759732</td>\n",
       "      <td>0.750433</td>\n",
       "      <td>0.010560</td>\n",
       "      <td>1</td>\n",
       "      <td>3.504694</td>\n",
       "      <td>0.088625</td>\n",
       "      <td>0.032837</td>\n",
       "      <td>0.007724</td>\n",
       "      <td>0.00100</td>\n",
       "      <td>l1</td>\n",
       "      <td>5</td>\n",
       "      <td>{'lm__C': 0.001, 'lm__penalty': 'l1', 'smote__...</td>\n",
       "    </tr>\n",
       "    <tr>\n",
       "      <th>27</th>\n",
       "      <td>0.755904</td>\n",
       "      <td>0.735664</td>\n",
       "      <td>0.759732</td>\n",
       "      <td>0.750433</td>\n",
       "      <td>0.010560</td>\n",
       "      <td>1</td>\n",
       "      <td>4.087374</td>\n",
       "      <td>0.109135</td>\n",
       "      <td>0.019614</td>\n",
       "      <td>0.009417</td>\n",
       "      <td>0.00100</td>\n",
       "      <td>l1</td>\n",
       "      <td>5</td>\n",
       "      <td>{'lm__C': 0.001, 'lm__penalty': 'l1', 'smote__...</td>\n",
       "    </tr>\n",
       "    <tr>\n",
       "      <th>2</th>\n",
       "      <td>0.500000</td>\n",
       "      <td>0.500000</td>\n",
       "      <td>0.500000</td>\n",
       "      <td>0.500000</td>\n",
       "      <td>0.000000</td>\n",
       "      <td>1</td>\n",
       "      <td>1.003855</td>\n",
       "      <td>0.147791</td>\n",
       "      <td>0.018166</td>\n",
       "      <td>0.005036</td>\n",
       "      <td>0.00001</td>\n",
       "      <td>l1</td>\n",
       "      <td>11</td>\n",
       "      <td>{'lm__C': 1e-05, 'lm__penalty': 'l1', 'smote__...</td>\n",
       "    </tr>\n",
       "  </tbody>\n",
       "</table>\n",
       "</div>"
      ],
      "text/plain": [
       "    split0_test_score  split1_test_score  split2_test_score  mean_test_score  \\\n",
       "4            0.754429           0.739763           0.764425         0.752872   \n",
       "11           0.754282           0.739436           0.763704         0.752474   \n",
       "44           0.754282           0.739436           0.763704         0.752474   \n",
       "36           0.754282           0.739436           0.763704         0.752474   \n",
       "28           0.754282           0.739436           0.763704         0.752474   \n",
       "21           0.754282           0.739436           0.763704         0.752474   \n",
       "25           0.754282           0.739436           0.763704         0.752474   \n",
       "37           0.754282           0.739436           0.763704         0.752474   \n",
       "14           0.754282           0.739436           0.763704         0.752474   \n",
       "20           0.754282           0.739427           0.763703         0.752471   \n",
       "49           0.754282           0.739427           0.763703         0.752471   \n",
       "43           0.754282           0.739426           0.763703         0.752470   \n",
       "46           0.754282           0.739426           0.763703         0.752470   \n",
       "19           0.754282           0.739426           0.763703         0.752470   \n",
       "26           0.754282           0.739426           0.763703         0.752470   \n",
       "34           0.754252           0.739391           0.763659         0.752434   \n",
       "24           0.754252           0.739391           0.763659         0.752434   \n",
       "45           0.754252           0.739391           0.763659         0.752434   \n",
       "13           0.754237           0.739347           0.763710         0.752431   \n",
       "7            0.754254           0.739476           0.763470         0.752400   \n",
       "9            0.754388           0.739401           0.763347         0.752379   \n",
       "6            0.754388           0.739401           0.763347         0.752379   \n",
       "5            0.753903           0.738952           0.764040         0.752298   \n",
       "17           0.754503           0.738975           0.763134         0.752204   \n",
       "8            0.754251           0.739445           0.762820         0.752172   \n",
       "42           0.754920           0.739554           0.761923         0.752132   \n",
       "35           0.754920           0.739554           0.761923         0.752132   \n",
       "30           0.754920           0.739554           0.761923         0.752132   \n",
       "32           0.754921           0.739552           0.761924         0.752132   \n",
       "47           0.754921           0.739552           0.761924         0.752132   \n",
       "10           0.754921           0.739552           0.761924         0.752132   \n",
       "23           0.754921           0.739552           0.761924         0.752132   \n",
       "33           0.754921           0.739552           0.761924         0.752132   \n",
       "12           0.754921           0.739552           0.761924         0.752132   \n",
       "18           0.754921           0.739552           0.761924         0.752132   \n",
       "40           0.754920           0.739551           0.761923         0.752131   \n",
       "22           0.754920           0.739551           0.761923         0.752131   \n",
       "29           0.754919           0.739533           0.761914         0.752122   \n",
       "16           0.754919           0.739533           0.761914         0.752122   \n",
       "39           0.754919           0.739533           0.761914         0.752122   \n",
       "48           0.754890           0.739531           0.761903         0.752108   \n",
       "0            0.753523           0.739917           0.762365         0.751935   \n",
       "41           0.754091           0.738309           0.763174         0.751858   \n",
       "31           0.754091           0.738309           0.763174         0.751858   \n",
       "1            0.755002           0.738900           0.761543         0.751815   \n",
       "3            0.756447           0.735241           0.763288         0.751659   \n",
       "15           0.754885           0.735224           0.763780         0.751296   \n",
       "38           0.755904           0.735664           0.759732         0.750433   \n",
       "27           0.755904           0.735664           0.759732         0.750433   \n",
       "2            0.500000           0.500000           0.500000         0.500000   \n",
       "\n",
       "    std_test_score  rank_test_score  mean_fit_time  std_fit_time  \\\n",
       "4         0.010129                1       2.445595      0.289125   \n",
       "11        0.009990                1       2.365474      0.286135   \n",
       "44        0.009990                1       4.700444      0.669015   \n",
       "36        0.009990                1       4.407781      0.671443   \n",
       "28        0.009990                1       5.449884      0.693134   \n",
       "21        0.009990                1       3.635719      0.496036   \n",
       "25        0.009990                1       5.027351      0.751106   \n",
       "37        0.009990                1       4.581069      0.663331   \n",
       "14        0.009990                1       2.325461      0.311687   \n",
       "20        0.009993                1       3.614730      0.099168   \n",
       "49        0.009993                1       4.273087      0.173952   \n",
       "43        0.009994                1       3.932978      0.103386   \n",
       "46        0.009994                1       3.748813      0.045314   \n",
       "19        0.009994                1       2.929660      0.122369   \n",
       "26        0.009994                1       3.572085      0.037128   \n",
       "34        0.009990                1       4.561942      0.544358   \n",
       "24        0.009990                1      11.244670      1.593084   \n",
       "45        0.009990                1       4.855982      0.492269   \n",
       "13        0.010028                1       1.909564      0.045442   \n",
       "7         0.009883                1       2.110462      0.074021   \n",
       "9         0.009879                1       1.967965      0.087742   \n",
       "6         0.009879                1       2.055443      0.078050   \n",
       "5         0.010305                1       2.371036      0.167555   \n",
       "17        0.009996                1       2.103445      0.160004   \n",
       "8         0.009655                1       2.395038      0.263750   \n",
       "42        0.009343                1       3.471331      0.129136   \n",
       "35        0.009343                1       3.512741      0.139787   \n",
       "30        0.009343                1       4.299673      0.140344   \n",
       "32        0.009344                1       5.163471      0.636414   \n",
       "47        0.009344                1       5.207913      0.813700   \n",
       "10        0.009344                1       2.399837      0.296023   \n",
       "23        0.009344                1       6.187140      0.521314   \n",
       "33        0.009344                1       4.953591      0.678004   \n",
       "12        0.009344                1       2.336658      0.296045   \n",
       "18        0.009344                1       2.367717      0.323373   \n",
       "40        0.009344                1       3.294636      0.211520   \n",
       "22        0.009344                1       3.589048      0.257269   \n",
       "29        0.009349                1       4.033266      0.255165   \n",
       "16        0.009349                1       1.912935      0.132363   \n",
       "39        0.009349                1       3.622716      0.263746   \n",
       "48        0.009343                1       4.875924      0.649836   \n",
       "0         0.009233                1       2.640677      0.294496   \n",
       "41        0.010273                1       3.567866      0.298348   \n",
       "31        0.010273                1       4.282703      0.384708   \n",
       "1         0.009515                1       1.883410      0.103350   \n",
       "3         0.011940                1       1.935657      0.114319   \n",
       "15        0.011931                1       1.732847      0.080486   \n",
       "38        0.010560                1       3.504694      0.088625   \n",
       "27        0.010560                1       4.087374      0.109135   \n",
       "2         0.000000                1       1.003855      0.147791   \n",
       "\n",
       "    mean_score_time  std_score_time   param_lm__C param_lm__penalty  \\\n",
       "4          0.012690        0.001913  100000.00000                l2   \n",
       "11         0.012897        0.001417    1000.00000                l2   \n",
       "44         0.030628        0.007650  100000.00000                l2   \n",
       "36         0.024413        0.009181    1000.00000                l2   \n",
       "28         0.022607        0.000938  100000.00000                l2   \n",
       "21         0.016239        0.003521  100000.00000                l2   \n",
       "25         0.027779        0.009268      10.00000                l2   \n",
       "37         0.042913        0.018460      10.00000                l2   \n",
       "14         0.013026        0.002528      10.00000                l2   \n",
       "20         0.017775        0.003901      10.00000                l1   \n",
       "49         0.030084        0.012103      10.00000                l1   \n",
       "43         0.026857        0.002500  100000.00000                l1   \n",
       "46         0.039369        0.001814    1000.00000                l1   \n",
       "19         0.022013        0.007583    1000.00000                l1   \n",
       "26         0.021452        0.003813    1000.00000                l1   \n",
       "34         0.023888        0.003692       0.10000                l2   \n",
       "24         0.067833        0.011502       0.10000                l2   \n",
       "45         0.024847        0.003738       0.10000                l2   \n",
       "13         0.013056        0.000838       0.10000                l1   \n",
       "7          0.013125        0.000536    1000.00000                l1   \n",
       "9          0.012433        0.000271      10.00000                l1   \n",
       "6          0.019084        0.004750  100000.00000                l1   \n",
       "5          0.012750        0.000906       0.00100                l2   \n",
       "17         0.012218        0.001494       0.00100                l2   \n",
       "8          0.013031        0.001609       0.10000                l2   \n",
       "42         0.022439        0.006881    1000.00000                l1   \n",
       "35         0.029203        0.010683  100000.00000                l1   \n",
       "30         0.021357        0.005128  100000.00000                l1   \n",
       "32         0.029691        0.013418      10.00000                l2   \n",
       "47         0.029428        0.008836      10.00000                l2   \n",
       "10         0.012245        0.001432      10.00000                l2   \n",
       "23         0.016093        0.003452    1000.00000                l2   \n",
       "33         0.019258        0.001816    1000.00000                l2   \n",
       "12         0.013059        0.001766    1000.00000                l2   \n",
       "18         0.013453        0.000751  100000.00000                l2   \n",
       "40         0.025107        0.000376      10.00000                l1   \n",
       "22         0.027396        0.012033      10.00000                l1   \n",
       "29         0.026982        0.000321       0.10000                l1   \n",
       "16         0.013624        0.002177       0.10000                l1   \n",
       "39         0.025514        0.003850       0.10000                l1   \n",
       "48         0.036148        0.009015       0.10000                l2   \n",
       "0          0.017593        0.002026       0.10000                l2   \n",
       "41         0.022634        0.007070       0.00100                l2   \n",
       "31         0.027585        0.002019       0.00100                l2   \n",
       "1          0.013860        0.002257  100000.00000                l1   \n",
       "3          0.013815        0.002485       0.00100                l1   \n",
       "15         0.015238        0.002321       0.00100                l1   \n",
       "38         0.032837        0.007724       0.00100                l1   \n",
       "27         0.019614        0.009417       0.00100                l1   \n",
       "2          0.018166        0.005036       0.00001                l1   \n",
       "\n",
       "    param_smote__k_neighbors  \\\n",
       "4                          6   \n",
       "11                         5   \n",
       "44                         5   \n",
       "36                         5   \n",
       "28                         5   \n",
       "21                         5   \n",
       "25                         5   \n",
       "37                         5   \n",
       "14                         5   \n",
       "20                         5   \n",
       "49                         5   \n",
       "43                         5   \n",
       "46                         5   \n",
       "19                         5   \n",
       "26                         5   \n",
       "34                         5   \n",
       "24                         5   \n",
       "45                         5   \n",
       "13                         5   \n",
       "7                         10   \n",
       "9                          7   \n",
       "6                          7   \n",
       "5                         15   \n",
       "17                         5   \n",
       "8                          8   \n",
       "42                        20   \n",
       "35                        20   \n",
       "30                        20   \n",
       "32                        20   \n",
       "47                        20   \n",
       "10                        20   \n",
       "23                        20   \n",
       "33                        20   \n",
       "12                        20   \n",
       "18                        20   \n",
       "40                        20   \n",
       "22                        20   \n",
       "29                        20   \n",
       "16                        20   \n",
       "39                        20   \n",
       "48                        20   \n",
       "0                         17   \n",
       "41                        20   \n",
       "31                        20   \n",
       "1                         19   \n",
       "3                         13   \n",
       "15                        20   \n",
       "38                         5   \n",
       "27                         5   \n",
       "2                         11   \n",
       "\n",
       "                                               params  \n",
       "4   {'lm__C': 100000.0, 'lm__penalty': 'l2', 'smot...  \n",
       "11  {'lm__C': 1000.0, 'lm__penalty': 'l2', 'smote_...  \n",
       "44  {'lm__C': 100000.0, 'lm__penalty': 'l2', 'smot...  \n",
       "36  {'lm__C': 1000.0, 'lm__penalty': 'l2', 'smote_...  \n",
       "28  {'lm__C': 100000.0, 'lm__penalty': 'l2', 'smot...  \n",
       "21  {'lm__C': 100000.0, 'lm__penalty': 'l2', 'smot...  \n",
       "25  {'lm__C': 10.0, 'lm__penalty': 'l2', 'smote__k...  \n",
       "37  {'lm__C': 10.0, 'lm__penalty': 'l2', 'smote__k...  \n",
       "14  {'lm__C': 10.0, 'lm__penalty': 'l2', 'smote__k...  \n",
       "20  {'lm__C': 10.0, 'lm__penalty': 'l1', 'smote__k...  \n",
       "49  {'lm__C': 10.0, 'lm__penalty': 'l1', 'smote__k...  \n",
       "43  {'lm__C': 100000.0, 'lm__penalty': 'l1', 'smot...  \n",
       "46  {'lm__C': 1000.0, 'lm__penalty': 'l1', 'smote_...  \n",
       "19  {'lm__C': 1000.0, 'lm__penalty': 'l1', 'smote_...  \n",
       "26  {'lm__C': 1000.0, 'lm__penalty': 'l1', 'smote_...  \n",
       "34  {'lm__C': 0.1, 'lm__penalty': 'l2', 'smote__k_...  \n",
       "24  {'lm__C': 0.1, 'lm__penalty': 'l2', 'smote__k_...  \n",
       "45  {'lm__C': 0.1, 'lm__penalty': 'l2', 'smote__k_...  \n",
       "13  {'lm__C': 0.1, 'lm__penalty': 'l1', 'smote__k_...  \n",
       "7   {'lm__C': 1000.0, 'lm__penalty': 'l1', 'smote_...  \n",
       "9   {'lm__C': 10.0, 'lm__penalty': 'l1', 'smote__k...  \n",
       "6   {'lm__C': 100000.0, 'lm__penalty': 'l1', 'smot...  \n",
       "5   {'lm__C': 0.001, 'lm__penalty': 'l2', 'smote__...  \n",
       "17  {'lm__C': 0.001, 'lm__penalty': 'l2', 'smote__...  \n",
       "8   {'lm__C': 0.1, 'lm__penalty': 'l2', 'smote__k_...  \n",
       "42  {'lm__C': 1000.0, 'lm__penalty': 'l1', 'smote_...  \n",
       "35  {'lm__C': 100000.0, 'lm__penalty': 'l1', 'smot...  \n",
       "30  {'lm__C': 100000.0, 'lm__penalty': 'l1', 'smot...  \n",
       "32  {'lm__C': 10.0, 'lm__penalty': 'l2', 'smote__k...  \n",
       "47  {'lm__C': 10.0, 'lm__penalty': 'l2', 'smote__k...  \n",
       "10  {'lm__C': 10.0, 'lm__penalty': 'l2', 'smote__k...  \n",
       "23  {'lm__C': 1000.0, 'lm__penalty': 'l2', 'smote_...  \n",
       "33  {'lm__C': 1000.0, 'lm__penalty': 'l2', 'smote_...  \n",
       "12  {'lm__C': 1000.0, 'lm__penalty': 'l2', 'smote_...  \n",
       "18  {'lm__C': 100000.0, 'lm__penalty': 'l2', 'smot...  \n",
       "40  {'lm__C': 10.0, 'lm__penalty': 'l1', 'smote__k...  \n",
       "22  {'lm__C': 10.0, 'lm__penalty': 'l1', 'smote__k...  \n",
       "29  {'lm__C': 0.1, 'lm__penalty': 'l1', 'smote__k_...  \n",
       "16  {'lm__C': 0.1, 'lm__penalty': 'l1', 'smote__k_...  \n",
       "39  {'lm__C': 0.1, 'lm__penalty': 'l1', 'smote__k_...  \n",
       "48  {'lm__C': 0.1, 'lm__penalty': 'l2', 'smote__k_...  \n",
       "0   {'lm__C': 0.1, 'lm__penalty': 'l2', 'smote__k_...  \n",
       "41  {'lm__C': 0.001, 'lm__penalty': 'l2', 'smote__...  \n",
       "31  {'lm__C': 0.001, 'lm__penalty': 'l2', 'smote__...  \n",
       "1   {'lm__C': 100000.0, 'lm__penalty': 'l1', 'smot...  \n",
       "3   {'lm__C': 0.001, 'lm__penalty': 'l1', 'smote__...  \n",
       "15  {'lm__C': 0.001, 'lm__penalty': 'l1', 'smote__...  \n",
       "38  {'lm__C': 0.001, 'lm__penalty': 'l1', 'smote__...  \n",
       "27  {'lm__C': 0.001, 'lm__penalty': 'l1', 'smote__...  \n",
       "2   {'lm__C': 1e-05, 'lm__penalty': 'l1', 'smote__...  "
      ]
     },
     "execution_count": 6,
     "metadata": {},
     "output_type": "execute_result"
    }
   ],
   "source": [
    "pd.DataFrame(search_results.cv_results_).sort_values('mean_test_score', ascending=False)"
   ]
  },
  {
   "cell_type": "code",
   "execution_count": 7,
   "metadata": {
    "ExecuteTime": {
     "end_time": "2019-01-16T20:32:31.809212Z",
     "start_time": "2019-01-16T20:32:31.800239Z"
    }
   },
   "outputs": [
    {
     "data": {
      "text/plain": [
       "{'lm__C': 100000.0, 'lm__penalty': 'l2', 'smote__k_neighbors': 6}"
      ]
     },
     "execution_count": 7,
     "metadata": {},
     "output_type": "execute_result"
    }
   ],
   "source": [
    "search_results.best_params_"
   ]
  },
  {
   "cell_type": "code",
   "execution_count": 8,
   "metadata": {
    "ExecuteTime": {
     "end_time": "2019-01-16T20:32:37.488356Z",
     "start_time": "2019-01-16T20:32:31.812309Z"
    }
   },
   "outputs": [
    {
     "data": {
      "text/html": [
       "<div>\n",
       "<style scoped>\n",
       "    .dataframe tbody tr th:only-of-type {\n",
       "        vertical-align: middle;\n",
       "    }\n",
       "\n",
       "    .dataframe tbody tr th {\n",
       "        vertical-align: top;\n",
       "    }\n",
       "\n",
       "    .dataframe thead th {\n",
       "        text-align: right;\n",
       "    }\n",
       "</style>\n",
       "<table border=\"1\" class=\"dataframe\">\n",
       "  <thead>\n",
       "    <tr style=\"text-align: right;\">\n",
       "      <th></th>\n",
       "      <th>avg_accuracy</th>\n",
       "      <th>std_accuracy</th>\n",
       "      <th>avg_precision</th>\n",
       "      <th>std_precision</th>\n",
       "      <th>avg_recall</th>\n",
       "      <th>std_recall</th>\n",
       "      <th>avg_f1</th>\n",
       "      <th>std_f1</th>\n",
       "      <th>avg_auc</th>\n",
       "      <th>std_auc</th>\n",
       "    </tr>\n",
       "  </thead>\n",
       "  <tbody>\n",
       "    <tr>\n",
       "      <th>log_reg_tuned</th>\n",
       "      <td>0.47883</td>\n",
       "      <td>0.004966</td>\n",
       "      <td>0.83964</td>\n",
       "      <td>0.015569</td>\n",
       "      <td>0.024779</td>\n",
       "      <td>0.000489</td>\n",
       "      <td>0.048137</td>\n",
       "      <td>0.000945</td>\n",
       "      <td>0.752872</td>\n",
       "      <td>0.010129</td>\n",
       "    </tr>\n",
       "  </tbody>\n",
       "</table>\n",
       "</div>"
      ],
      "text/plain": [
       "               avg_accuracy  std_accuracy  avg_precision  std_precision  \\\n",
       "log_reg_tuned       0.47883      0.004966        0.83964       0.015569   \n",
       "\n",
       "               avg_recall  std_recall    avg_f1    std_f1   avg_auc   std_auc  \n",
       "log_reg_tuned    0.024779    0.000489  0.048137  0.000945  0.752872  0.010129  "
      ]
     },
     "execution_count": 8,
     "metadata": {},
     "output_type": "execute_result"
    }
   ],
   "source": [
    "model = 'log_reg_tuned'\n",
    "\n",
    "cv_results = cv.cv_model(X_train, y_train, search_results.best_estimator_)\n",
    "cv.log_scores(cv_results, model)"
   ]
  },
  {
   "cell_type": "code",
   "execution_count": 9,
   "metadata": {
    "ExecuteTime": {
     "end_time": "2019-01-16T20:32:37.567186Z",
     "start_time": "2019-01-16T20:32:37.491613Z"
    }
   },
   "outputs": [
    {
     "data": {
      "text/html": [
       "<div>\n",
       "<style scoped>\n",
       "    .dataframe tbody tr th:only-of-type {\n",
       "        vertical-align: middle;\n",
       "    }\n",
       "\n",
       "    .dataframe tbody tr th {\n",
       "        vertical-align: top;\n",
       "    }\n",
       "\n",
       "    .dataframe thead th {\n",
       "        text-align: right;\n",
       "    }\n",
       "</style>\n",
       "<table border=\"1\" class=\"dataframe\">\n",
       "  <thead>\n",
       "    <tr style=\"text-align: right;\">\n",
       "      <th></th>\n",
       "      <th>avg_accuracy</th>\n",
       "      <th>std_accuracy</th>\n",
       "      <th>avg_precision</th>\n",
       "      <th>std_precision</th>\n",
       "      <th>avg_recall</th>\n",
       "      <th>std_recall</th>\n",
       "      <th>avg_f1</th>\n",
       "      <th>std_f1</th>\n",
       "      <th>avg_auc</th>\n",
       "      <th>std_auc</th>\n",
       "    </tr>\n",
       "  </thead>\n",
       "  <tbody>\n",
       "    <tr>\n",
       "      <th>log_regression</th>\n",
       "      <td>0.478189</td>\n",
       "      <td>0.003034</td>\n",
       "      <td>0.840240</td>\n",
       "      <td>0.015868</td>\n",
       "      <td>0.024764</td>\n",
       "      <td>0.000464</td>\n",
       "      <td>0.048111</td>\n",
       "      <td>0.000900</td>\n",
       "      <td>0.752486</td>\n",
       "      <td>0.009845</td>\n",
       "    </tr>\n",
       "    <tr>\n",
       "      <th>random_forest</th>\n",
       "      <td>0.930277</td>\n",
       "      <td>0.001674</td>\n",
       "      <td>0.148949</td>\n",
       "      <td>0.016731</td>\n",
       "      <td>0.039709</td>\n",
       "      <td>0.003086</td>\n",
       "      <td>0.062687</td>\n",
       "      <td>0.005337</td>\n",
       "      <td>0.531354</td>\n",
       "      <td>0.013361</td>\n",
       "    </tr>\n",
       "    <tr>\n",
       "      <th>xgb</th>\n",
       "      <td>0.936546</td>\n",
       "      <td>0.003746</td>\n",
       "      <td>0.211411</td>\n",
       "      <td>0.023783</td>\n",
       "      <td>0.061001</td>\n",
       "      <td>0.005206</td>\n",
       "      <td>0.094584</td>\n",
       "      <td>0.008094</td>\n",
       "      <td>0.619189</td>\n",
       "      <td>0.016401</td>\n",
       "    </tr>\n",
       "    <tr>\n",
       "      <th>xgb_SMOTE_Tomek</th>\n",
       "      <td>0.933256</td>\n",
       "      <td>0.007034</td>\n",
       "      <td>0.216817</td>\n",
       "      <td>0.025067</td>\n",
       "      <td>0.059006</td>\n",
       "      <td>0.003155</td>\n",
       "      <td>0.092508</td>\n",
       "      <td>0.004382</td>\n",
       "      <td>0.621756</td>\n",
       "      <td>0.015873</td>\n",
       "    </tr>\n",
       "    <tr>\n",
       "      <th>log_reg_SMOTE_Tomek</th>\n",
       "      <td>0.479056</td>\n",
       "      <td>0.003446</td>\n",
       "      <td>0.837838</td>\n",
       "      <td>0.015359</td>\n",
       "      <td>0.024738</td>\n",
       "      <td>0.000480</td>\n",
       "      <td>0.048057</td>\n",
       "      <td>0.000929</td>\n",
       "      <td>0.752859</td>\n",
       "      <td>0.010022</td>\n",
       "    </tr>\n",
       "    <tr>\n",
       "      <th>xgb_tuned</th>\n",
       "      <td>0.935990</td>\n",
       "      <td>0.004699</td>\n",
       "      <td>0.213814</td>\n",
       "      <td>0.027299</td>\n",
       "      <td>0.061020</td>\n",
       "      <td>0.005549</td>\n",
       "      <td>0.094789</td>\n",
       "      <td>0.008549</td>\n",
       "      <td>0.624670</td>\n",
       "      <td>0.019442</td>\n",
       "    </tr>\n",
       "    <tr>\n",
       "      <th>log_reg_tuned</th>\n",
       "      <td>0.478830</td>\n",
       "      <td>0.004966</td>\n",
       "      <td>0.839640</td>\n",
       "      <td>0.015569</td>\n",
       "      <td>0.024779</td>\n",
       "      <td>0.000489</td>\n",
       "      <td>0.048137</td>\n",
       "      <td>0.000945</td>\n",
       "      <td>0.752872</td>\n",
       "      <td>0.010129</td>\n",
       "    </tr>\n",
       "  </tbody>\n",
       "</table>\n",
       "</div>"
      ],
      "text/plain": [
       "                     avg_accuracy  std_accuracy  avg_precision  std_precision  \\\n",
       "log_regression           0.478189      0.003034       0.840240       0.015868   \n",
       "random_forest            0.930277      0.001674       0.148949       0.016731   \n",
       "xgb                      0.936546      0.003746       0.211411       0.023783   \n",
       "xgb_SMOTE_Tomek          0.933256      0.007034       0.216817       0.025067   \n",
       "log_reg_SMOTE_Tomek      0.479056      0.003446       0.837838       0.015359   \n",
       "xgb_tuned                0.935990      0.004699       0.213814       0.027299   \n",
       "log_reg_tuned            0.478830      0.004966       0.839640       0.015569   \n",
       "\n",
       "                     avg_recall  std_recall    avg_f1    std_f1   avg_auc  \\\n",
       "log_regression         0.024764    0.000464  0.048111  0.000900  0.752486   \n",
       "random_forest          0.039709    0.003086  0.062687  0.005337  0.531354   \n",
       "xgb                    0.061001    0.005206  0.094584  0.008094  0.619189   \n",
       "xgb_SMOTE_Tomek        0.059006    0.003155  0.092508  0.004382  0.621756   \n",
       "log_reg_SMOTE_Tomek    0.024738    0.000480  0.048057  0.000929  0.752859   \n",
       "xgb_tuned              0.061020    0.005549  0.094789  0.008549  0.624670   \n",
       "log_reg_tuned          0.024779    0.000489  0.048137  0.000945  0.752872   \n",
       "\n",
       "                      std_auc  \n",
       "log_regression       0.009845  \n",
       "random_forest        0.013361  \n",
       "xgb                  0.016401  \n",
       "xgb_SMOTE_Tomek      0.015873  \n",
       "log_reg_SMOTE_Tomek  0.010022  \n",
       "xgb_tuned            0.019442  \n",
       "log_reg_tuned        0.010129  "
      ]
     },
     "execution_count": 9,
     "metadata": {},
     "output_type": "execute_result"
    }
   ],
   "source": [
    "results = pd.read_csv(RESULTS_PATH, index_col=0)\n",
    "\n",
    "results = results.drop(index=model, errors='ignore')\n",
    "results = results.append(cv.log_scores(cv_results, model), sort=False)\n",
    "results.to_csv(RESULTS_PATH)\n",
    "results"
   ]
  },
  {
   "cell_type": "markdown",
   "metadata": {},
   "source": [
    "### Save the model\n",
    "\n",
    "The tuned model will now be pickled."
   ]
  },
  {
   "cell_type": "code",
   "execution_count": 10,
   "metadata": {
    "ExecuteTime": {
     "end_time": "2019-01-16T20:32:37.583013Z",
     "start_time": "2019-01-16T20:32:37.573978Z"
    }
   },
   "outputs": [],
   "source": [
    "import pickle\n",
    "\n",
    "MODEL_PATH = '../models/'\n",
    "LOG_PATH = os.path.join(MODEL_PATH, 'log_reg_tuned.pkl')\n",
    "\n",
    "pickle.dump(search_results.best_estimator_, open(LOG_PATH, 'wb'))"
   ]
  },
  {
   "cell_type": "code",
   "execution_count": null,
   "metadata": {},
   "outputs": [],
   "source": []
  }
 ],
 "metadata": {
  "kernelspec": {
   "display_name": "Python [conda env:classification]",
   "language": "python",
   "name": "conda-env-classification-py"
  },
  "language_info": {
   "codemirror_mode": {
    "name": "ipython",
    "version": 3
   },
   "file_extension": ".py",
   "mimetype": "text/x-python",
   "name": "python",
   "nbconvert_exporter": "python",
   "pygments_lexer": "ipython3",
   "version": "3.7.1"
  }
 },
 "nbformat": 4,
 "nbformat_minor": 2
}
