{
 "cells": [
  {
   "cell_type": "markdown",
   "metadata": {},
   "source": [
    "## Random Forest Model\n",
    "\n",
    "Now we will see if a tree based model can improve upon the Logistic Regression model. The overarching goal here is to try and determine which classification performs better in terms of validation AUC, and then hypertune the selected classification model."
   ]
  },
  {
   "cell_type": "code",
   "execution_count": 1,
   "metadata": {
    "ExecuteTime": {
     "end_time": "2019-01-09T22:54:07.287503Z",
     "start_time": "2019-01-09T22:54:06.487590Z"
    }
   },
   "outputs": [],
   "source": [
    "# data manipulation\n",
    "import pandas as pd\n",
    "import os\n",
    "\n",
    "# modeling\n",
    "from sklearn.ensemble import RandomForestClassifier\n",
    "from sklearn.preprocessing import StandardScaler\n",
    "\n",
    "from imblearn.over_sampling import SMOTE\n",
    "from imblearn.pipeline import Pipeline as imbPipeline\n",
    "\n",
    "# custom helper functions\n",
    "from src.models import cross_validate as cv"
   ]
  },
  {
   "cell_type": "code",
   "execution_count": 2,
   "metadata": {
    "ExecuteTime": {
     "end_time": "2019-01-09T22:54:07.295623Z",
     "start_time": "2019-01-09T22:54:07.291113Z"
    }
   },
   "outputs": [],
   "source": [
    "DATA_PATH = '../data/processed/'\n",
    "OBS_PATH = os.path.join(DATA_PATH, 'observations_features.csv')\n",
    "RESULTS_PATH = os.path.join(DATA_PATH, 'results.csv')\n",
    "model = 'random_forest'"
   ]
  },
  {
   "cell_type": "markdown",
   "metadata": {},
   "source": [
    "### Load data"
   ]
  },
  {
   "cell_type": "code",
   "execution_count": 3,
   "metadata": {
    "ExecuteTime": {
     "end_time": "2019-01-09T22:54:07.634837Z",
     "start_time": "2019-01-09T22:54:07.299148Z"
    }
   },
   "outputs": [
    {
     "data": {
      "text/html": [
       "<div>\n",
       "<style scoped>\n",
       "    .dataframe tbody tr th:only-of-type {\n",
       "        vertical-align: middle;\n",
       "    }\n",
       "\n",
       "    .dataframe tbody tr th {\n",
       "        vertical-align: top;\n",
       "    }\n",
       "\n",
       "    .dataframe thead th {\n",
       "        text-align: right;\n",
       "    }\n",
       "</style>\n",
       "<table border=\"1\" class=\"dataframe\">\n",
       "  <thead>\n",
       "    <tr style=\"text-align: right;\">\n",
       "      <th></th>\n",
       "      <th>session_id</th>\n",
       "      <th>seq</th>\n",
       "      <th>buy_event</th>\n",
       "      <th>visitor_id</th>\n",
       "      <th>view_count</th>\n",
       "      <th>session_length</th>\n",
       "      <th>item_views</th>\n",
       "      <th>add_to_cart_count</th>\n",
       "      <th>transaction_count</th>\n",
       "      <th>avg_avail</th>\n",
       "    </tr>\n",
       "  </thead>\n",
       "  <tbody>\n",
       "    <tr>\n",
       "      <th>0</th>\n",
       "      <td>1000001_251341</td>\n",
       "      <td>2.0</td>\n",
       "      <td>0</td>\n",
       "      <td>1000001</td>\n",
       "      <td>1.0</td>\n",
       "      <td>0.0</td>\n",
       "      <td>1.0</td>\n",
       "      <td>0.0</td>\n",
       "      <td>0.0</td>\n",
       "      <td>0.0</td>\n",
       "    </tr>\n",
       "    <tr>\n",
       "      <th>1</th>\n",
       "      <td>1000007_251343</td>\n",
       "      <td>2.0</td>\n",
       "      <td>0</td>\n",
       "      <td>1000007</td>\n",
       "      <td>1.0</td>\n",
       "      <td>0.0</td>\n",
       "      <td>1.0</td>\n",
       "      <td>0.0</td>\n",
       "      <td>0.0</td>\n",
       "      <td>0.0</td>\n",
       "    </tr>\n",
       "    <tr>\n",
       "      <th>2</th>\n",
       "      <td>1000042_251344</td>\n",
       "      <td>2.0</td>\n",
       "      <td>0</td>\n",
       "      <td>1000042</td>\n",
       "      <td>1.0</td>\n",
       "      <td>0.0</td>\n",
       "      <td>1.0</td>\n",
       "      <td>0.0</td>\n",
       "      <td>0.0</td>\n",
       "      <td>1.0</td>\n",
       "    </tr>\n",
       "    <tr>\n",
       "      <th>3</th>\n",
       "      <td>1000057_251346</td>\n",
       "      <td>2.0</td>\n",
       "      <td>0</td>\n",
       "      <td>1000057</td>\n",
       "      <td>1.0</td>\n",
       "      <td>0.0</td>\n",
       "      <td>1.0</td>\n",
       "      <td>0.0</td>\n",
       "      <td>0.0</td>\n",
       "      <td>1.0</td>\n",
       "    </tr>\n",
       "    <tr>\n",
       "      <th>4</th>\n",
       "      <td>1000067_251351</td>\n",
       "      <td>2.0</td>\n",
       "      <td>0</td>\n",
       "      <td>1000067</td>\n",
       "      <td>1.0</td>\n",
       "      <td>0.0</td>\n",
       "      <td>1.0</td>\n",
       "      <td>0.0</td>\n",
       "      <td>0.0</td>\n",
       "      <td>0.0</td>\n",
       "    </tr>\n",
       "  </tbody>\n",
       "</table>\n",
       "</div>"
      ],
      "text/plain": [
       "       session_id  seq  buy_event  visitor_id  view_count  session_length  \\\n",
       "0  1000001_251341  2.0          0     1000001         1.0             0.0   \n",
       "1  1000007_251343  2.0          0     1000007         1.0             0.0   \n",
       "2  1000042_251344  2.0          0     1000042         1.0             0.0   \n",
       "3  1000057_251346  2.0          0     1000057         1.0             0.0   \n",
       "4  1000067_251351  2.0          0     1000067         1.0             0.0   \n",
       "\n",
       "   item_views  add_to_cart_count  transaction_count  avg_avail  \n",
       "0         1.0                0.0                0.0        0.0  \n",
       "1         1.0                0.0                0.0        0.0  \n",
       "2         1.0                0.0                0.0        1.0  \n",
       "3         1.0                0.0                0.0        1.0  \n",
       "4         1.0                0.0                0.0        0.0  "
      ]
     },
     "execution_count": 3,
     "metadata": {},
     "output_type": "execute_result"
    }
   ],
   "source": [
    "obs = pd.read_csv(OBS_PATH)\n",
    "obs.head()"
   ]
  },
  {
   "cell_type": "markdown",
   "metadata": {},
   "source": [
    "### Perform Train/Test split"
   ]
  },
  {
   "cell_type": "code",
   "execution_count": 4,
   "metadata": {
    "ExecuteTime": {
     "end_time": "2019-01-09T22:54:07.759553Z",
     "start_time": "2019-01-09T22:54:07.638922Z"
    }
   },
   "outputs": [
    {
     "name": "stdout",
     "output_type": "stream",
     "text": [
      "Class balance: 1.57%\n"
     ]
    }
   ],
   "source": [
    "X_train, X_test, y_train, y_test = cv.create_Xy(obs)\n",
    "\n",
    "print(f'Class balance: {y_train.mean():.2%}')"
   ]
  },
  {
   "cell_type": "markdown",
   "metadata": {},
   "source": [
    "### Modeling\n",
    "\n",
    "The Random Forest model does not need the pre-processing step of StandardScaler. We will also up-sample the data with SMOTE to compare against the Logistic Regression model."
   ]
  },
  {
   "cell_type": "code",
   "execution_count": 5,
   "metadata": {
    "ExecuteTime": {
     "end_time": "2019-01-09T22:56:04.185420Z",
     "start_time": "2019-01-09T22:54:07.762606Z"
    }
   },
   "outputs": [
    {
     "data": {
      "text/html": [
       "<div>\n",
       "<style scoped>\n",
       "    .dataframe tbody tr th:only-of-type {\n",
       "        vertical-align: middle;\n",
       "    }\n",
       "\n",
       "    .dataframe tbody tr th {\n",
       "        vertical-align: top;\n",
       "    }\n",
       "\n",
       "    .dataframe thead th {\n",
       "        text-align: right;\n",
       "    }\n",
       "</style>\n",
       "<table border=\"1\" class=\"dataframe\">\n",
       "  <thead>\n",
       "    <tr style=\"text-align: right;\">\n",
       "      <th></th>\n",
       "      <th>avg_accuracy</th>\n",
       "      <th>std_accuracy</th>\n",
       "      <th>avg_precision</th>\n",
       "      <th>std_precision</th>\n",
       "      <th>avg_recall</th>\n",
       "      <th>std_recall</th>\n",
       "      <th>avg_f1</th>\n",
       "      <th>std_f1</th>\n",
       "      <th>avg_auc</th>\n",
       "      <th>std_auc</th>\n",
       "    </tr>\n",
       "  </thead>\n",
       "  <tbody>\n",
       "    <tr>\n",
       "      <th>random_forest</th>\n",
       "      <td>0.930277</td>\n",
       "      <td>0.001674</td>\n",
       "      <td>0.148949</td>\n",
       "      <td>0.016731</td>\n",
       "      <td>0.039709</td>\n",
       "      <td>0.003086</td>\n",
       "      <td>0.062687</td>\n",
       "      <td>0.005337</td>\n",
       "      <td>0.531354</td>\n",
       "      <td>0.013361</td>\n",
       "    </tr>\n",
       "  </tbody>\n",
       "</table>\n",
       "</div>"
      ],
      "text/plain": [
       "               avg_accuracy  std_accuracy  avg_precision  std_precision  \\\n",
       "random_forest      0.930277      0.001674       0.148949       0.016731   \n",
       "\n",
       "               avg_recall  std_recall    avg_f1    std_f1   avg_auc   std_auc  \n",
       "random_forest    0.039709    0.003086  0.062687  0.005337  0.531354  0.013361  "
      ]
     },
     "execution_count": 5,
     "metadata": {},
     "output_type": "execute_result"
    }
   ],
   "source": [
    "rf_pipe = imbPipeline([\n",
    "    ('smote', SMOTE()),\n",
    "    ('rf', RandomForestClassifier(n_estimators=500))\n",
    "])\n",
    "\n",
    "cv_results = cv.cv_model(X_train, y_train, rf_pipe)\n",
    "cv.log_scores(cv_results, model)"
   ]
  },
  {
   "cell_type": "markdown",
   "metadata": {},
   "source": [
    "### Save the results"
   ]
  },
  {
   "cell_type": "code",
   "execution_count": 6,
   "metadata": {
    "ExecuteTime": {
     "end_time": "2019-01-09T22:56:04.263190Z",
     "start_time": "2019-01-09T22:56:04.194066Z"
    }
   },
   "outputs": [
    {
     "data": {
      "text/html": [
       "<div>\n",
       "<style scoped>\n",
       "    .dataframe tbody tr th:only-of-type {\n",
       "        vertical-align: middle;\n",
       "    }\n",
       "\n",
       "    .dataframe tbody tr th {\n",
       "        vertical-align: top;\n",
       "    }\n",
       "\n",
       "    .dataframe thead th {\n",
       "        text-align: right;\n",
       "    }\n",
       "</style>\n",
       "<table border=\"1\" class=\"dataframe\">\n",
       "  <thead>\n",
       "    <tr style=\"text-align: right;\">\n",
       "      <th></th>\n",
       "      <th>avg_accuracy</th>\n",
       "      <th>std_accuracy</th>\n",
       "      <th>avg_precision</th>\n",
       "      <th>std_precision</th>\n",
       "      <th>avg_recall</th>\n",
       "      <th>std_recall</th>\n",
       "      <th>avg_f1</th>\n",
       "      <th>std_f1</th>\n",
       "      <th>avg_auc</th>\n",
       "      <th>std_auc</th>\n",
       "    </tr>\n",
       "  </thead>\n",
       "  <tbody>\n",
       "    <tr>\n",
       "      <th>log_regression</th>\n",
       "      <td>0.478189</td>\n",
       "      <td>0.003034</td>\n",
       "      <td>0.840240</td>\n",
       "      <td>0.015868</td>\n",
       "      <td>0.024764</td>\n",
       "      <td>0.000464</td>\n",
       "      <td>0.048111</td>\n",
       "      <td>0.000900</td>\n",
       "      <td>0.752486</td>\n",
       "      <td>0.009845</td>\n",
       "    </tr>\n",
       "    <tr>\n",
       "      <th>random_forest</th>\n",
       "      <td>0.930277</td>\n",
       "      <td>0.001674</td>\n",
       "      <td>0.148949</td>\n",
       "      <td>0.016731</td>\n",
       "      <td>0.039709</td>\n",
       "      <td>0.003086</td>\n",
       "      <td>0.062687</td>\n",
       "      <td>0.005337</td>\n",
       "      <td>0.531354</td>\n",
       "      <td>0.013361</td>\n",
       "    </tr>\n",
       "  </tbody>\n",
       "</table>\n",
       "</div>"
      ],
      "text/plain": [
       "                avg_accuracy  std_accuracy  avg_precision  std_precision  \\\n",
       "log_regression      0.478189      0.003034       0.840240       0.015868   \n",
       "random_forest       0.930277      0.001674       0.148949       0.016731   \n",
       "\n",
       "                avg_recall  std_recall    avg_f1    std_f1   avg_auc   std_auc  \n",
       "log_regression    0.024764    0.000464  0.048111  0.000900  0.752486  0.009845  \n",
       "random_forest     0.039709    0.003086  0.062687  0.005337  0.531354  0.013361  "
      ]
     },
     "execution_count": 6,
     "metadata": {},
     "output_type": "execute_result"
    }
   ],
   "source": [
    "results = pd.read_csv(RESULTS_PATH, index_col=0)\n",
    "\n",
    "results = results.drop(index=model, errors='ignore')\n",
    "results = results.append(cv.log_scores(cv_results, model), sort=False)\n",
    "results.to_csv(RESULTS_PATH)\n",
    "results"
   ]
  },
  {
   "cell_type": "markdown",
   "metadata": {},
   "source": [
    "### Next Steps\n",
    "\n",
    "The Random Forest classifier did much worse, compared to the Logistic Regression model. Let's now see if the `xgboost` model can outperform."
   ]
  },
  {
   "cell_type": "code",
   "execution_count": null,
   "metadata": {},
   "outputs": [],
   "source": []
  }
 ],
 "metadata": {
  "kernelspec": {
   "display_name": "Python [conda env:classification]",
   "language": "python",
   "name": "conda-env-classification-py"
  },
  "language_info": {
   "codemirror_mode": {
    "name": "ipython",
    "version": 3
   },
   "file_extension": ".py",
   "mimetype": "text/x-python",
   "name": "python",
   "nbconvert_exporter": "python",
   "pygments_lexer": "ipython3",
   "version": "3.7.1"
  }
 },
 "nbformat": 4,
 "nbformat_minor": 2
}
