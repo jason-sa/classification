{
 "cells": [
  {
   "cell_type": "code",
   "execution_count": 20,
   "metadata": {
    "ExecuteTime": {
     "end_time": "2018-10-26T03:24:41.714008Z",
     "start_time": "2018-10-26T03:24:41.671791Z"
    }
   },
   "outputs": [],
   "source": [
    "import data_transformation\n",
    "import pandas as pd\n",
    "import utils"
   ]
  },
  {
   "cell_type": "code",
   "execution_count": 2,
   "metadata": {
    "ExecuteTime": {
     "end_time": "2018-10-26T02:58:32.351878Z",
     "start_time": "2018-10-26T02:58:32.299996Z"
    }
   },
   "outputs": [],
   "source": [
    "%load_ext autoreload\n",
    "%autoreload 2"
   ]
  },
  {
   "cell_type": "code",
   "execution_count": 10,
   "metadata": {
    "ExecuteTime": {
     "end_time": "2018-10-25T23:22:15.246042Z",
     "start_time": "2018-10-25T23:22:15.035485Z"
    }
   },
   "outputs": [],
   "source": [
    "obs = utils.load_pickle('observations')\n",
    "events_trimmed = utils.load_pickle('events_trimmed')"
   ]
  },
  {
   "cell_type": "code",
   "execution_count": 17,
   "metadata": {
    "ExecuteTime": {
     "end_time": "2018-10-25T23:23:52.273718Z",
     "start_time": "2018-10-25T23:23:52.207240Z"
    }
   },
   "outputs": [
    {
     "data": {
      "text/plain": [
       "0         0.0\n",
       "1         0.0\n",
       "2         1.0\n",
       "3         1.0\n",
       "4         0.0\n",
       "5         1.0\n",
       "6         0.0\n",
       "7         1.0\n",
       "8         1.0\n",
       "9         1.0\n",
       "10        0.0\n",
       "11        1.0\n",
       "12        0.0\n",
       "13        1.0\n",
       "14        0.0\n",
       "15        0.0\n",
       "16        1.0\n",
       "17        1.0\n",
       "18        1.0\n",
       "19        0.0\n",
       "20        NaN\n",
       "21        1.0\n",
       "22        0.0\n",
       "23        NaN\n",
       "24        NaN\n",
       "25        0.0\n",
       "26        1.0\n",
       "27        0.0\n",
       "28        1.0\n",
       "29        NaN\n",
       "         ... \n",
       "297887    1.0\n",
       "297888    1.0\n",
       "297889    0.0\n",
       "297890    NaN\n",
       "297891    1.0\n",
       "297892    0.0\n",
       "297893    0.0\n",
       "297894    0.0\n",
       "297895    1.0\n",
       "297896    0.0\n",
       "297897    0.0\n",
       "297898    0.0\n",
       "297899    NaN\n",
       "297900    1.0\n",
       "297901    NaN\n",
       "297902    1.0\n",
       "297903    0.0\n",
       "297904    1.0\n",
       "297905    1.0\n",
       "297906    0.0\n",
       "297907    0.0\n",
       "297908    1.0\n",
       "297909    0.0\n",
       "297910    0.0\n",
       "297911    0.0\n",
       "297912    0.0\n",
       "297913    0.0\n",
       "297914    0.0\n",
       "297915    1.0\n",
       "297916    0.0\n",
       "Name: available, Length: 297917, dtype: float64"
      ]
     },
     "execution_count": 17,
     "metadata": {},
     "output_type": "execute_result"
    }
   ],
   "source": [
    "events_trimmed.available.astype(float)"
   ]
  },
  {
   "cell_type": "code",
   "execution_count": null,
   "metadata": {},
   "outputs": [],
   "source": []
  },
  {
   "cell_type": "code",
   "execution_count": 3,
   "metadata": {
    "ExecuteTime": {
     "end_time": "2018-10-25T23:04:12.011944Z",
     "start_time": "2018-10-25T23:02:36.959528Z"
    }
   },
   "outputs": [
    {
     "name": "stdout",
     "output_type": "stream",
     "text": [
      "Total number of events: 2,756,101\n",
      "\n",
      "Total number of trimmed events: 297,917\n",
      "\n"
     ]
    }
   ],
   "source": [
    "# data_transformation.SESSION_TIME_LIMIT = 30\n",
    "events_trimmed, item_p = data_transformation.load()"
   ]
  },
  {
   "cell_type": "code",
   "execution_count": 4,
   "metadata": {
    "ExecuteTime": {
     "end_time": "2018-10-25T23:04:12.102224Z",
     "start_time": "2018-10-25T23:04:12.014634Z"
    }
   },
   "outputs": [],
   "source": [
    "def add_item_property(events_df, property_df, p_name):\n",
    "    \n",
    "    events_df.sort_values('local_date_time', inplace=True)\n",
    "    property_df.sort_values('local_date_time', inplace=True)\n",
    "\n",
    "    events_df = pd.merge_asof(events_df, property_df[property_df.property == p_name], \n",
    "                                   on='local_date_time',\n",
    "                                   by='itemid')\n",
    "\n",
    "    events_df = events_df.rename(columns={\n",
    "                                                        'timestamp_x': 'timestamp',\n",
    "                                                        'value': p_name\n",
    "                                                    })\n",
    "\n",
    "    events_df = events_df.drop(columns=['timestamp_y', 'property'])\n",
    "    \n",
    "    return events_df"
   ]
  },
  {
   "cell_type": "code",
   "execution_count": 5,
   "metadata": {
    "ExecuteTime": {
     "end_time": "2018-10-25T23:04:27.627351Z",
     "start_time": "2018-10-25T23:04:12.105173Z"
    }
   },
   "outputs": [
    {
     "name": "stdout",
     "output_type": "stream",
     "text": [
      "(297917, 9)\n",
      "(297917, 11)\n"
     ]
    },
    {
     "data": {
      "text/html": [
       "<div>\n",
       "<style scoped>\n",
       "    .dataframe tbody tr th:only-of-type {\n",
       "        vertical-align: middle;\n",
       "    }\n",
       "\n",
       "    .dataframe tbody tr th {\n",
       "        vertical-align: top;\n",
       "    }\n",
       "\n",
       "    .dataframe thead th {\n",
       "        text-align: right;\n",
       "    }\n",
       "</style>\n",
       "<table border=\"1\" class=\"dataframe\">\n",
       "  <thead>\n",
       "    <tr style=\"text-align: right;\">\n",
       "      <th></th>\n",
       "      <th>timestamp</th>\n",
       "      <th>visitorid</th>\n",
       "      <th>event</th>\n",
       "      <th>itemid</th>\n",
       "      <th>transactionid</th>\n",
       "      <th>local_date_time</th>\n",
       "      <th>minutes_since_prev_event</th>\n",
       "      <th>session_id</th>\n",
       "      <th>seq</th>\n",
       "      <th>categoryid</th>\n",
       "      <th>available</th>\n",
       "    </tr>\n",
       "  </thead>\n",
       "  <tbody>\n",
       "    <tr>\n",
       "      <th>0</th>\n",
       "      <td>1441090806954</td>\n",
       "      <td>230847</td>\n",
       "      <td>view</td>\n",
       "      <td>104544</td>\n",
       "      <td>NaN</td>\n",
       "      <td>2015-09-01 00:00:06.954</td>\n",
       "      <td>0.0</td>\n",
       "      <td>230847_1</td>\n",
       "      <td>1.0</td>\n",
       "      <td>1642</td>\n",
       "      <td>0</td>\n",
       "    </tr>\n",
       "    <tr>\n",
       "      <th>1</th>\n",
       "      <td>1441090813080</td>\n",
       "      <td>1316340</td>\n",
       "      <td>view</td>\n",
       "      <td>126126</td>\n",
       "      <td>NaN</td>\n",
       "      <td>2015-09-01 00:00:13.080</td>\n",
       "      <td>0.0</td>\n",
       "      <td>1316340_1</td>\n",
       "      <td>1.0</td>\n",
       "      <td>646</td>\n",
       "      <td>0</td>\n",
       "    </tr>\n",
       "    <tr>\n",
       "      <th>2</th>\n",
       "      <td>1441090816594</td>\n",
       "      <td>1282520</td>\n",
       "      <td>view</td>\n",
       "      <td>226245</td>\n",
       "      <td>NaN</td>\n",
       "      <td>2015-09-01 00:00:16.594</td>\n",
       "      <td>0.0</td>\n",
       "      <td>1282520_1</td>\n",
       "      <td>1.0</td>\n",
       "      <td>479</td>\n",
       "      <td>1</td>\n",
       "    </tr>\n",
       "    <tr>\n",
       "      <th>3</th>\n",
       "      <td>1441090822265</td>\n",
       "      <td>1309256</td>\n",
       "      <td>view</td>\n",
       "      <td>365703</td>\n",
       "      <td>NaN</td>\n",
       "      <td>2015-09-01 00:00:22.265</td>\n",
       "      <td>0.0</td>\n",
       "      <td>1309256_1</td>\n",
       "      <td>1.0</td>\n",
       "      <td>589</td>\n",
       "      <td>1</td>\n",
       "    </tr>\n",
       "    <tr>\n",
       "      <th>4</th>\n",
       "      <td>1441090832644</td>\n",
       "      <td>217790</td>\n",
       "      <td>view</td>\n",
       "      <td>54147</td>\n",
       "      <td>NaN</td>\n",
       "      <td>2015-09-01 00:00:32.644</td>\n",
       "      <td>0.0</td>\n",
       "      <td>217790_1</td>\n",
       "      <td>1.0</td>\n",
       "      <td>65</td>\n",
       "      <td>0</td>\n",
       "    </tr>\n",
       "  </tbody>\n",
       "</table>\n",
       "</div>"
      ],
      "text/plain": [
       "       timestamp  visitorid event  itemid  transactionid  \\\n",
       "0  1441090806954     230847  view  104544            NaN   \n",
       "1  1441090813080    1316340  view  126126            NaN   \n",
       "2  1441090816594    1282520  view  226245            NaN   \n",
       "3  1441090822265    1309256  view  365703            NaN   \n",
       "4  1441090832644     217790  view   54147            NaN   \n",
       "\n",
       "          local_date_time  minutes_since_prev_event session_id  seq  \\\n",
       "0 2015-09-01 00:00:06.954                       0.0   230847_1  1.0   \n",
       "1 2015-09-01 00:00:13.080                       0.0  1316340_1  1.0   \n",
       "2 2015-09-01 00:00:16.594                       0.0  1282520_1  1.0   \n",
       "3 2015-09-01 00:00:22.265                       0.0  1309256_1  1.0   \n",
       "4 2015-09-01 00:00:32.644                       0.0   217790_1  1.0   \n",
       "\n",
       "  categoryid available  \n",
       "0       1642         0  \n",
       "1        646         0  \n",
       "2        479         1  \n",
       "3        589         1  \n",
       "4         65         0  "
      ]
     },
     "execution_count": 5,
     "metadata": {},
     "output_type": "execute_result"
    }
   ],
   "source": [
    "print(events_trimmed.shape)\n",
    "events_trimmed = add_item_property(events_trimmed, item_p, 'categoryid')\n",
    "events_trimmed = add_item_property(events_trimmed, item_p, 'available')\n",
    "print(events_trimmed.shape)\n",
    "events_trimmed.head()"
   ]
  },
  {
   "cell_type": "code",
   "execution_count": null,
   "metadata": {
    "ExecuteTime": {
     "end_time": "2018-10-25T22:44:38.521888Z",
     "start_time": "2018-10-25T22:44:38.392778Z"
    }
   },
   "outputs": [],
   "source": [
    "cat_event[cat_event['value'].isnull()]"
   ]
  },
  {
   "cell_type": "code",
   "execution_count": null,
   "metadata": {
    "ExecuteTime": {
     "end_time": "2018-10-25T22:43:40.545822Z",
     "start_time": "2018-10-25T22:43:40.516501Z"
    }
   },
   "outputs": [],
   "source": [
    "events_trimmed.shape"
   ]
  },
  {
   "cell_type": "code",
   "execution_count": null,
   "metadata": {
    "ExecuteTime": {
     "end_time": "2018-10-25T22:31:29.253985Z",
     "start_time": "2018-10-25T22:31:27.263745Z"
    }
   },
   "outputs": [],
   "source": [
    "item_counts = item_p[(item_p.property == 'categoryid')].itemid.value_counts().reset_index()\n",
    "item_f = item_counts[item_counts.itemid > 1].loc[:,'index'].unique()\n",
    "cat_event[cat_event.itemid.isin(item_f)].head()"
   ]
  },
  {
   "cell_type": "code",
   "execution_count": null,
   "metadata": {
    "ExecuteTime": {
     "end_time": "2018-10-25T22:32:16.885707Z",
     "start_time": "2018-10-25T22:32:15.021552Z"
    }
   },
   "outputs": [],
   "source": [
    "item_p[(item_p.itemid == 20299) & (item_p.property == 'categoryid')]"
   ]
  },
  {
   "cell_type": "code",
   "execution_count": null,
   "metadata": {
    "ExecuteTime": {
     "end_time": "2018-10-25T22:32:49.016935Z",
     "start_time": "2018-10-25T22:32:48.958127Z"
    }
   },
   "outputs": [],
   "source": [
    "cat_event[cat_event.itemid == 20299]"
   ]
  },
  {
   "cell_type": "code",
   "execution_count": null,
   "metadata": {
    "ExecuteTime": {
     "end_time": "2018-10-24T22:06:11.296660Z",
     "start_time": "2018-10-24T22:06:11.220391Z"
    }
   },
   "outputs": [],
   "source": [
    "df = events_trimmed[events_trimmed.visitorid == 152963]\n",
    "df[df.seq == 1].minutes_since_prev_event.describe()"
   ]
  },
  {
   "cell_type": "code",
   "execution_count": null,
   "metadata": {
    "ExecuteTime": {
     "end_time": "2018-10-24T22:42:28.559479Z",
     "start_time": "2018-10-24T22:42:28.060370Z"
    }
   },
   "outputs": [],
   "source": [
    "observations, prior_observations = data_transformation.create_observations(events_trimmed, 2)"
   ]
  },
  {
   "cell_type": "code",
   "execution_count": null,
   "metadata": {
    "ExecuteTime": {
     "end_time": "2018-10-24T22:43:23.741595Z",
     "start_time": "2018-10-24T22:43:23.688955Z"
    }
   },
   "outputs": [],
   "source": [
    "observations.head()"
   ]
  },
  {
   "cell_type": "code",
   "execution_count": null,
   "metadata": {
    "ExecuteTime": {
     "end_time": "2018-10-24T22:43:10.374328Z",
     "start_time": "2018-10-24T22:43:10.317566Z"
    }
   },
   "outputs": [],
   "source": [
    "prior_observations.head()"
   ]
  },
  {
   "cell_type": "code",
   "execution_count": 1,
   "metadata": {
    "ExecuteTime": {
     "end_time": "2018-10-26T02:58:28.688223Z",
     "start_time": "2018-10-26T02:58:27.410088Z"
    }
   },
   "outputs": [],
   "source": [
    "import model_selection"
   ]
  },
  {
   "cell_type": "code",
   "execution_count": 3,
   "metadata": {
    "ExecuteTime": {
     "end_time": "2018-10-26T03:13:27.007647Z",
     "start_time": "2018-10-26T02:58:47.538838Z"
    }
   },
   "outputs": [
    {
     "name": "stdout",
     "output_type": "stream",
     "text": [
      "logistic: best score: 0.7620253991219698\n",
      "gb: best score: 0.851375600601442\n",
      "forest: best score: 0.8117590118672657\n"
     ]
    }
   ],
   "source": [
    "results = model_selection.run_models()"
   ]
  },
  {
   "cell_type": "code",
   "execution_count": 10,
   "metadata": {
    "ExecuteTime": {
     "end_time": "2018-10-26T03:17:14.220568Z",
     "start_time": "2018-10-26T03:17:14.187194Z"
    }
   },
   "outputs": [],
   "source": [
    "import pickle"
   ]
  },
  {
   "cell_type": "code",
   "execution_count": 11,
   "metadata": {
    "ExecuteTime": {
     "end_time": "2018-10-26T03:18:32.850301Z",
     "start_time": "2018-10-26T03:18:32.796529Z"
    }
   },
   "outputs": [],
   "source": [
    "pickle.dump( results['gb'].best_estimator_, open( \"../data/best_gb_model.pkl\", \"wb\" ) )"
   ]
  },
  {
   "cell_type": "code",
   "execution_count": 12,
   "metadata": {
    "ExecuteTime": {
     "end_time": "2018-10-26T03:20:21.837891Z",
     "start_time": "2018-10-26T03:20:21.787026Z"
    }
   },
   "outputs": [],
   "source": [
    "best_model = pickle.load( open( \"../data/best_gb_model.pkl\", \"rb\" ) )"
   ]
  },
  {
   "cell_type": "code",
   "execution_count": 22,
   "metadata": {
    "ExecuteTime": {
     "end_time": "2018-10-26T03:28:30.703236Z",
     "start_time": "2018-10-26T03:28:30.554331Z"
    }
   },
   "outputs": [],
   "source": [
    "import utils\n",
    "obs = utils.load_pickle('features')\n",
    "X, y, X_train, X_test, y_train, t_test = model_selection.create_Xy(obs)"
   ]
  },
  {
   "cell_type": "code",
   "execution_count": 15,
   "metadata": {
    "ExecuteTime": {
     "end_time": "2018-10-26T03:21:37.807883Z",
     "start_time": "2018-10-26T03:21:37.690243Z"
    }
   },
   "outputs": [
    {
     "data": {
      "text/plain": [
       "0.7595367847411444"
      ]
     },
     "execution_count": 15,
     "metadata": {},
     "output_type": "execute_result"
    }
   ],
   "source": [
    "best_model.score(X_train, y_train)"
   ]
  },
  {
   "cell_type": "code",
   "execution_count": 26,
   "metadata": {
    "ExecuteTime": {
     "end_time": "2018-10-26T03:29:55.283280Z",
     "start_time": "2018-10-26T03:29:55.250803Z"
    }
   },
   "outputs": [],
   "source": [
    "from sklearn.metrics import roc_auc_score"
   ]
  },
  {
   "cell_type": "code",
   "execution_count": 27,
   "metadata": {
    "ExecuteTime": {
     "end_time": "2018-10-26T03:30:14.176529Z",
     "start_time": "2018-10-26T03:30:14.051855Z"
    }
   },
   "outputs": [
    {
     "data": {
      "text/plain": [
       "0.7595367847411444"
      ]
     },
     "execution_count": 27,
     "metadata": {},
     "output_type": "execute_result"
    }
   ],
   "source": [
    "roc_auc_score(y_train, best_model.predict(X_train))"
   ]
  },
  {
   "cell_type": "code",
   "execution_count": 28,
   "metadata": {
    "ExecuteTime": {
     "end_time": "2018-10-26T03:31:49.473042Z",
     "start_time": "2018-10-26T03:31:49.437654Z"
    }
   },
   "outputs": [
    {
     "data": {
      "text/plain": [
       "0.851375600601442"
      ]
     },
     "execution_count": 28,
     "metadata": {},
     "output_type": "execute_result"
    }
   ],
   "source": [
    "results['gb'].best_score_"
   ]
  },
  {
   "cell_type": "code",
   "execution_count": 29,
   "metadata": {
    "ExecuteTime": {
     "end_time": "2018-10-26T03:33:00.208865Z",
     "start_time": "2018-10-26T03:33:00.174887Z"
    }
   },
   "outputs": [
    {
     "data": {
      "text/plain": [
       "GradientBoostingClassifier(criterion='friedman_mse', init=None,\n",
       "              learning_rate=0.38423011012239755, loss='exponential',\n",
       "              max_depth=3, max_features=None, max_leaf_nodes=None,\n",
       "              min_impurity_decrease=0.0, min_impurity_split=None,\n",
       "              min_samples_leaf=1, min_samples_split=2,\n",
       "              min_weight_fraction_leaf=0.0, n_estimators=281,\n",
       "              presort='auto', random_state=1234, subsample=1.0, verbose=0,\n",
       "              warm_start=False)"
      ]
     },
     "execution_count": 29,
     "metadata": {},
     "output_type": "execute_result"
    }
   ],
   "source": [
    "results['gb'].best_estimator_"
   ]
  },
  {
   "cell_type": "code",
   "execution_count": 31,
   "metadata": {
    "ExecuteTime": {
     "end_time": "2018-10-26T03:33:46.846168Z",
     "start_time": "2018-10-26T03:33:44.672433Z"
    }
   },
   "outputs": [
    {
     "data": {
      "text/plain": [
       "GradientBoostingClassifier(criterion='friedman_mse', init=None,\n",
       "              learning_rate=0.38423011012239755, loss='exponential',\n",
       "              max_depth=3, max_features=None, max_leaf_nodes=None,\n",
       "              min_impurity_decrease=0.0, min_impurity_split=None,\n",
       "              min_samples_leaf=1, min_samples_split=2,\n",
       "              min_weight_fraction_leaf=0.0, n_estimators=281,\n",
       "              presort='auto', random_state=1234, subsample=1.0, verbose=0,\n",
       "              warm_start=False)"
      ]
     },
     "execution_count": 31,
     "metadata": {},
     "output_type": "execute_result"
    }
   ],
   "source": [
    "best_model.fit(X_train, y_train)"
   ]
  },
  {
   "cell_type": "code",
   "execution_count": 32,
   "metadata": {
    "ExecuteTime": {
     "end_time": "2018-10-26T03:33:58.026810Z",
     "start_time": "2018-10-26T03:33:57.912028Z"
    }
   },
   "outputs": [
    {
     "data": {
      "text/plain": [
       "0.7595367847411444"
      ]
     },
     "execution_count": 32,
     "metadata": {},
     "output_type": "execute_result"
    }
   ],
   "source": [
    "best_model.score(X_train, y_train)"
   ]
  },
  {
   "cell_type": "code",
   "execution_count": 33,
   "metadata": {
    "ExecuteTime": {
     "end_time": "2018-10-26T03:34:43.835330Z",
     "start_time": "2018-10-26T03:34:43.799234Z"
    }
   },
   "outputs": [
    {
     "data": {
      "text/plain": [
       "(23488, 6)"
      ]
     },
     "execution_count": 33,
     "metadata": {},
     "output_type": "execute_result"
    }
   ],
   "source": [
    "X_train.shape"
   ]
  }
 ],
 "metadata": {
  "kernelspec": {
   "display_name": "Python 3",
   "language": "python",
   "name": "python3"
  },
  "language_info": {
   "codemirror_mode": {
    "name": "ipython",
    "version": 3
   },
   "file_extension": ".py",
   "mimetype": "text/x-python",
   "name": "python",
   "nbconvert_exporter": "python",
   "pygments_lexer": "ipython3",
   "version": "3.6.5"
  }
 },
 "nbformat": 4,
 "nbformat_minor": 2
}
