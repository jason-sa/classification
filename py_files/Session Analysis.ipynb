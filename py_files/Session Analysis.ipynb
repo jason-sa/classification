{
 "cells": [
  {
   "cell_type": "code",
   "execution_count": 1,
   "metadata": {
    "ExecuteTime": {
     "end_time": "2018-10-25T23:02:33.580028Z",
     "start_time": "2018-10-25T23:02:32.807481Z"
    }
   },
   "outputs": [],
   "source": [
    "import data_transformation\n",
    "import pandas as pd"
   ]
  },
  {
   "cell_type": "code",
   "execution_count": 2,
   "metadata": {
    "ExecuteTime": {
     "end_time": "2018-10-25T23:02:35.071255Z",
     "start_time": "2018-10-25T23:02:35.038449Z"
    }
   },
   "outputs": [],
   "source": [
    "%load_ext autoreload\n",
    "%autoreload 2"
   ]
  },
  {
   "cell_type": "code",
   "execution_count": 3,
   "metadata": {
    "ExecuteTime": {
     "end_time": "2018-10-25T23:04:12.011944Z",
     "start_time": "2018-10-25T23:02:36.959528Z"
    }
   },
   "outputs": [
    {
     "name": "stdout",
     "output_type": "stream",
     "text": [
      "Total number of events: 2,756,101\n",
      "\n",
      "Total number of trimmed events: 297,917\n",
      "\n"
     ]
    }
   ],
   "source": [
    "# data_transformation.SESSION_TIME_LIMIT = 30\n",
    "events_trimmed, item_p = data_transformation.load()"
   ]
  },
  {
   "cell_type": "code",
   "execution_count": 4,
   "metadata": {
    "ExecuteTime": {
     "end_time": "2018-10-25T23:04:12.102224Z",
     "start_time": "2018-10-25T23:04:12.014634Z"
    }
   },
   "outputs": [],
   "source": [
    "def add_item_property(events_df, property_df, p_name):\n",
    "    \n",
    "    events_df.sort_values('local_date_time', inplace=True)\n",
    "    property_df.sort_values('local_date_time', inplace=True)\n",
    "\n",
    "    events_df = pd.merge_asof(events_df, property_df[property_df.property == p_name], \n",
    "                                   on='local_date_time',\n",
    "                                   by='itemid')\n",
    "\n",
    "    events_df = events_df.rename(columns={\n",
    "                                                        'timestamp_x': 'timestamp',\n",
    "                                                        'value': p_name\n",
    "                                                    })\n",
    "\n",
    "    events_df = events_df.drop(columns=['timestamp_y', 'property'])\n",
    "    \n",
    "    return events_df"
   ]
  },
  {
   "cell_type": "code",
   "execution_count": 5,
   "metadata": {
    "ExecuteTime": {
     "end_time": "2018-10-25T23:04:27.627351Z",
     "start_time": "2018-10-25T23:04:12.105173Z"
    }
   },
   "outputs": [
    {
     "name": "stdout",
     "output_type": "stream",
     "text": [
      "(297917, 9)\n",
      "(297917, 11)\n"
     ]
    },
    {
     "data": {
      "text/html": [
       "<div>\n",
       "<style scoped>\n",
       "    .dataframe tbody tr th:only-of-type {\n",
       "        vertical-align: middle;\n",
       "    }\n",
       "\n",
       "    .dataframe tbody tr th {\n",
       "        vertical-align: top;\n",
       "    }\n",
       "\n",
       "    .dataframe thead th {\n",
       "        text-align: right;\n",
       "    }\n",
       "</style>\n",
       "<table border=\"1\" class=\"dataframe\">\n",
       "  <thead>\n",
       "    <tr style=\"text-align: right;\">\n",
       "      <th></th>\n",
       "      <th>timestamp</th>\n",
       "      <th>visitorid</th>\n",
       "      <th>event</th>\n",
       "      <th>itemid</th>\n",
       "      <th>transactionid</th>\n",
       "      <th>local_date_time</th>\n",
       "      <th>minutes_since_prev_event</th>\n",
       "      <th>session_id</th>\n",
       "      <th>seq</th>\n",
       "      <th>categoryid</th>\n",
       "      <th>available</th>\n",
       "    </tr>\n",
       "  </thead>\n",
       "  <tbody>\n",
       "    <tr>\n",
       "      <th>0</th>\n",
       "      <td>1441090806954</td>\n",
       "      <td>230847</td>\n",
       "      <td>view</td>\n",
       "      <td>104544</td>\n",
       "      <td>NaN</td>\n",
       "      <td>2015-09-01 00:00:06.954</td>\n",
       "      <td>0.0</td>\n",
       "      <td>230847_1</td>\n",
       "      <td>1.0</td>\n",
       "      <td>1642</td>\n",
       "      <td>0</td>\n",
       "    </tr>\n",
       "    <tr>\n",
       "      <th>1</th>\n",
       "      <td>1441090813080</td>\n",
       "      <td>1316340</td>\n",
       "      <td>view</td>\n",
       "      <td>126126</td>\n",
       "      <td>NaN</td>\n",
       "      <td>2015-09-01 00:00:13.080</td>\n",
       "      <td>0.0</td>\n",
       "      <td>1316340_1</td>\n",
       "      <td>1.0</td>\n",
       "      <td>646</td>\n",
       "      <td>0</td>\n",
       "    </tr>\n",
       "    <tr>\n",
       "      <th>2</th>\n",
       "      <td>1441090816594</td>\n",
       "      <td>1282520</td>\n",
       "      <td>view</td>\n",
       "      <td>226245</td>\n",
       "      <td>NaN</td>\n",
       "      <td>2015-09-01 00:00:16.594</td>\n",
       "      <td>0.0</td>\n",
       "      <td>1282520_1</td>\n",
       "      <td>1.0</td>\n",
       "      <td>479</td>\n",
       "      <td>1</td>\n",
       "    </tr>\n",
       "    <tr>\n",
       "      <th>3</th>\n",
       "      <td>1441090822265</td>\n",
       "      <td>1309256</td>\n",
       "      <td>view</td>\n",
       "      <td>365703</td>\n",
       "      <td>NaN</td>\n",
       "      <td>2015-09-01 00:00:22.265</td>\n",
       "      <td>0.0</td>\n",
       "      <td>1309256_1</td>\n",
       "      <td>1.0</td>\n",
       "      <td>589</td>\n",
       "      <td>1</td>\n",
       "    </tr>\n",
       "    <tr>\n",
       "      <th>4</th>\n",
       "      <td>1441090832644</td>\n",
       "      <td>217790</td>\n",
       "      <td>view</td>\n",
       "      <td>54147</td>\n",
       "      <td>NaN</td>\n",
       "      <td>2015-09-01 00:00:32.644</td>\n",
       "      <td>0.0</td>\n",
       "      <td>217790_1</td>\n",
       "      <td>1.0</td>\n",
       "      <td>65</td>\n",
       "      <td>0</td>\n",
       "    </tr>\n",
       "  </tbody>\n",
       "</table>\n",
       "</div>"
      ],
      "text/plain": [
       "       timestamp  visitorid event  itemid  transactionid  \\\n",
       "0  1441090806954     230847  view  104544            NaN   \n",
       "1  1441090813080    1316340  view  126126            NaN   \n",
       "2  1441090816594    1282520  view  226245            NaN   \n",
       "3  1441090822265    1309256  view  365703            NaN   \n",
       "4  1441090832644     217790  view   54147            NaN   \n",
       "\n",
       "          local_date_time  minutes_since_prev_event session_id  seq  \\\n",
       "0 2015-09-01 00:00:06.954                       0.0   230847_1  1.0   \n",
       "1 2015-09-01 00:00:13.080                       0.0  1316340_1  1.0   \n",
       "2 2015-09-01 00:00:16.594                       0.0  1282520_1  1.0   \n",
       "3 2015-09-01 00:00:22.265                       0.0  1309256_1  1.0   \n",
       "4 2015-09-01 00:00:32.644                       0.0   217790_1  1.0   \n",
       "\n",
       "  categoryid available  \n",
       "0       1642         0  \n",
       "1        646         0  \n",
       "2        479         1  \n",
       "3        589         1  \n",
       "4         65         0  "
      ]
     },
     "execution_count": 5,
     "metadata": {},
     "output_type": "execute_result"
    }
   ],
   "source": [
    "print(events_trimmed.shape)\n",
    "events_trimmed = add_item_property(events_trimmed, item_p, 'categoryid')\n",
    "events_trimmed = add_item_property(events_trimmed, item_p, 'available')\n",
    "print(events_trimmed.shape)\n",
    "events_trimmed.head()"
   ]
  },
  {
   "cell_type": "code",
   "execution_count": null,
   "metadata": {
    "ExecuteTime": {
     "end_time": "2018-10-25T22:44:38.521888Z",
     "start_time": "2018-10-25T22:44:38.392778Z"
    }
   },
   "outputs": [],
   "source": [
    "cat_event[cat_event['value'].isnull()]"
   ]
  },
  {
   "cell_type": "code",
   "execution_count": null,
   "metadata": {
    "ExecuteTime": {
     "end_time": "2018-10-25T22:43:40.545822Z",
     "start_time": "2018-10-25T22:43:40.516501Z"
    }
   },
   "outputs": [],
   "source": [
    "events_trimmed.shape"
   ]
  },
  {
   "cell_type": "code",
   "execution_count": null,
   "metadata": {
    "ExecuteTime": {
     "end_time": "2018-10-25T22:31:29.253985Z",
     "start_time": "2018-10-25T22:31:27.263745Z"
    }
   },
   "outputs": [],
   "source": [
    "item_counts = item_p[(item_p.property == 'categoryid')].itemid.value_counts().reset_index()\n",
    "item_f = item_counts[item_counts.itemid > 1].loc[:,'index'].unique()\n",
    "cat_event[cat_event.itemid.isin(item_f)].head()"
   ]
  },
  {
   "cell_type": "code",
   "execution_count": null,
   "metadata": {
    "ExecuteTime": {
     "end_time": "2018-10-25T22:32:16.885707Z",
     "start_time": "2018-10-25T22:32:15.021552Z"
    }
   },
   "outputs": [],
   "source": [
    "item_p[(item_p.itemid == 20299) & (item_p.property == 'categoryid')]"
   ]
  },
  {
   "cell_type": "code",
   "execution_count": null,
   "metadata": {
    "ExecuteTime": {
     "end_time": "2018-10-25T22:32:49.016935Z",
     "start_time": "2018-10-25T22:32:48.958127Z"
    }
   },
   "outputs": [],
   "source": [
    "cat_event[cat_event.itemid == 20299]"
   ]
  },
  {
   "cell_type": "code",
   "execution_count": null,
   "metadata": {
    "ExecuteTime": {
     "end_time": "2018-10-24T22:06:11.296660Z",
     "start_time": "2018-10-24T22:06:11.220391Z"
    }
   },
   "outputs": [],
   "source": [
    "df = events_trimmed[events_trimmed.visitorid == 152963]\n",
    "df[df.seq == 1].minutes_since_prev_event.describe()"
   ]
  },
  {
   "cell_type": "code",
   "execution_count": null,
   "metadata": {
    "ExecuteTime": {
     "end_time": "2018-10-24T22:42:28.559479Z",
     "start_time": "2018-10-24T22:42:28.060370Z"
    }
   },
   "outputs": [],
   "source": [
    "observations, prior_observations = data_transformation.create_observations(events_trimmed, 2)"
   ]
  },
  {
   "cell_type": "code",
   "execution_count": null,
   "metadata": {
    "ExecuteTime": {
     "end_time": "2018-10-24T22:43:23.741595Z",
     "start_time": "2018-10-24T22:43:23.688955Z"
    }
   },
   "outputs": [],
   "source": [
    "observations.head()"
   ]
  },
  {
   "cell_type": "code",
   "execution_count": null,
   "metadata": {
    "ExecuteTime": {
     "end_time": "2018-10-24T22:43:10.374328Z",
     "start_time": "2018-10-24T22:43:10.317566Z"
    }
   },
   "outputs": [],
   "source": [
    "prior_observations.head()"
   ]
  }
 ],
 "metadata": {
  "kernelspec": {
   "display_name": "Python 3",
   "language": "python",
   "name": "python3"
  },
  "language_info": {
   "codemirror_mode": {
    "name": "ipython",
    "version": 3
   },
   "file_extension": ".py",
   "mimetype": "text/x-python",
   "name": "python",
   "nbconvert_exporter": "python",
   "pygments_lexer": "ipython3",
   "version": "3.6.5"
  }
 },
 "nbformat": 4,
 "nbformat_minor": 2
}
